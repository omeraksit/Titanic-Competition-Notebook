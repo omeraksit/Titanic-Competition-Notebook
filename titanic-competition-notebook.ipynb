{
 "cells": [
  {
   "cell_type": "markdown",
   "metadata": {
    "papermill": {
     "duration": 0.093938,
     "end_time": "2021-03-05T11:05:15.144928",
     "exception": false,
     "start_time": "2021-03-05T11:05:15.050990",
     "status": "completed"
    },
    "tags": []
   },
   "source": [
    "# Introduction\n",
    "Titanic is one of the most notorious shipwrecks in history. In 1912, during her maiden voyage, it collided with an iceberg and sank. 1512 out of 2224 passengers and crew died in the accident.\n",
    "\n",
    "<font color = 'blue'>\n",
    "Content:\n",
    "\n",
    "1. [Load and Check Data](#1)\n",
    "1. [Variable Descriptions](#2)\n",
    "    * [Univariate Variable Analysis](#3)\n",
    "      * [Categorical Variable](#4)\n",
    "      * [Numerical Variable](#5)\n",
    "1. [Basic Data Analysis](#6)\n",
    "1. [Outlier Detection](#7)\n",
    "1. [Missing Value](#8)\n",
    "    * [Find Missing Value](#9)\n",
    "    * [Fill Missing Value](#10)\n",
    "1. [Visualisation](#11)\n",
    "    * [Correlation between SibSp - Parch - Age - Fare - Survived](#12)\n",
    "    * [SibSp - Survived](#13)\n",
    "    * [Parch - Survived](#14)\n",
    "    * [Pclass - Survived](#15)\n",
    "    * [Age - Survived](#16)\n",
    "    * [Pclass - Age - Survived](#17)\n",
    "    * [Embarked - Sex - Pclass - Survived](#18)\n",
    "    * [Embarked - Sex - Fare - Survived](#19)\n",
    "    * [Fill Missing: Age Feature](#20)\n",
    "1. [Feature Engineering](#21)\n",
    "    * [Fare](#38)\n",
    "    * [Age](#35)\n",
    "    * [Name - Title](#22)\n",
    "    * [Family Size](#23)\n",
    "    * [SibSp](#36)\n",
    "    * [Parch](#37)\n",
    "    * [Embarked](#24)\n",
    "    * [Ticket](#25)\n",
    "    * [Pclass](#26)\n",
    "    * [Sex](#27)\n",
    "    * [Drop PassengerId and Cabin](#28)\n",
    "1. [Modeling](#29)\n",
    "    * [Train-Test Split](#30)\n",
    "    * [Simple Logistic Regression](#31)\n",
    "    * [Hyperparameter Tuning - Grid Search - Cross Validation](#32)\n",
    "    * [Ensemble Modelling](#33)\n",
    "    * [Prediction and Submission](#34)"
   ]
  },
  {
   "cell_type": "code",
   "execution_count": 1,
   "metadata": {
    "_cell_guid": "b1076dfc-b9ad-4769-8c92-a6c4dae69d19",
    "_uuid": "8f2839f25d086af736a60e9eeb907d3b93b6e0e5",
    "execution": {
     "iopub.execute_input": "2021-03-05T11:05:15.330384Z",
     "iopub.status.busy": "2021-03-05T11:05:15.329752Z",
     "iopub.status.idle": "2021-03-05T11:05:16.394813Z",
     "shell.execute_reply": "2021-03-05T11:05:16.394202Z"
    },
    "papermill": {
     "duration": 1.157852,
     "end_time": "2021-03-05T11:05:16.394970",
     "exception": false,
     "start_time": "2021-03-05T11:05:15.237118",
     "status": "completed"
    },
    "tags": []
   },
   "outputs": [
    {
     "name": "stdout",
     "output_type": "stream",
     "text": [
      "/kaggle/input/titanic/train.csv\n",
      "/kaggle/input/titanic/test.csv\n",
      "/kaggle/input/titanic/gender_submission.csv\n"
     ]
    }
   ],
   "source": [
    "# This Python 3 environment comes with many helpful analytics libraries installed\n",
    "# It is defined by the kaggle/python Docker image: https://github.com/kaggle/docker-python\n",
    "# For example, here's several helpful packages to load\n",
    "\n",
    "import numpy as np # linear algebra\n",
    "import pandas as pd # data processing, CSV file I/O (e.g. pd.read_csv)\n",
    "\n",
    "import matplotlib.pyplot as plt\n",
    "plt.style.use('seaborn-whitegrid')\n",
    "\n",
    "import seaborn as sns\n",
    "\n",
    "from collections import Counter\n",
    "\n",
    "import warnings\n",
    "warnings.filterwarnings('ignore')\n",
    "\n",
    "# Input data files are available in the read-only \"../input/\" directory\n",
    "# For example, running this (by clicking run or pressing Shift+Enter) will list all files under the input directory\n",
    "\n",
    "import os\n",
    "for dirname, _, filenames in os.walk('/kaggle/input'):\n",
    "    for filename in filenames:\n",
    "        print(os.path.join(dirname, filename))\n",
    "\n",
    "# You can write up to 20GB to the current directory (/kaggle/working/) that gets preserved as output when you create a version using \"Save & Run All\" \n",
    "# You can also write temporary files to /kaggle/temp/, but they won't be saved outside of the current session"
   ]
  },
  {
   "cell_type": "markdown",
   "metadata": {
    "papermill": {
     "duration": 0.09098,
     "end_time": "2021-03-05T11:05:16.577889",
     "exception": false,
     "start_time": "2021-03-05T11:05:16.486909",
     "status": "completed"
    },
    "tags": []
   },
   "source": [
    "<a id='1'></a>\n",
    "# Load and Check Data"
   ]
  },
  {
   "cell_type": "code",
   "execution_count": 2,
   "metadata": {
    "execution": {
     "iopub.execute_input": "2021-03-05T11:05:16.768165Z",
     "iopub.status.busy": "2021-03-05T11:05:16.767413Z",
     "iopub.status.idle": "2021-03-05T11:05:16.800908Z",
     "shell.execute_reply": "2021-03-05T11:05:16.800173Z"
    },
    "papermill": {
     "duration": 0.131703,
     "end_time": "2021-03-05T11:05:16.801035",
     "exception": false,
     "start_time": "2021-03-05T11:05:16.669332",
     "status": "completed"
    },
    "tags": []
   },
   "outputs": [],
   "source": [
    "train_df=pd.read_csv('/kaggle/input/titanic/train.csv')\n",
    "test_df=pd.read_csv('/kaggle/input/titanic/test.csv')\n",
    "test_PassengerId=test_df['PassengerId']"
   ]
  },
  {
   "cell_type": "code",
   "execution_count": 3,
   "metadata": {
    "execution": {
     "iopub.execute_input": "2021-03-05T11:05:16.995415Z",
     "iopub.status.busy": "2021-03-05T11:05:16.994357Z",
     "iopub.status.idle": "2021-03-05T11:05:16.998557Z",
     "shell.execute_reply": "2021-03-05T11:05:16.999072Z"
    },
    "papermill": {
     "duration": 0.104519,
     "end_time": "2021-03-05T11:05:16.999209",
     "exception": false,
     "start_time": "2021-03-05T11:05:16.894690",
     "status": "completed"
    },
    "tags": []
   },
   "outputs": [
    {
     "data": {
      "text/plain": [
       "Index(['PassengerId', 'Survived', 'Pclass', 'Name', 'Sex', 'Age', 'SibSp',\n",
       "       'Parch', 'Ticket', 'Fare', 'Cabin', 'Embarked'],\n",
       "      dtype='object')"
      ]
     },
     "execution_count": 3,
     "metadata": {},
     "output_type": "execute_result"
    }
   ],
   "source": [
    "train_df.columns"
   ]
  },
  {
   "cell_type": "code",
   "execution_count": 4,
   "metadata": {
    "execution": {
     "iopub.execute_input": "2021-03-05T11:05:17.197554Z",
     "iopub.status.busy": "2021-03-05T11:05:17.196820Z",
     "iopub.status.idle": "2021-03-05T11:05:17.211240Z",
     "shell.execute_reply": "2021-03-05T11:05:17.210692Z"
    },
    "papermill": {
     "duration": 0.120457,
     "end_time": "2021-03-05T11:05:17.211355",
     "exception": false,
     "start_time": "2021-03-05T11:05:17.090898",
     "status": "completed"
    },
    "tags": []
   },
   "outputs": [
    {
     "data": {
      "text/html": [
       "<div>\n",
       "<style scoped>\n",
       "    .dataframe tbody tr th:only-of-type {\n",
       "        vertical-align: middle;\n",
       "    }\n",
       "\n",
       "    .dataframe tbody tr th {\n",
       "        vertical-align: top;\n",
       "    }\n",
       "\n",
       "    .dataframe thead th {\n",
       "        text-align: right;\n",
       "    }\n",
       "</style>\n",
       "<table border=\"1\" class=\"dataframe\">\n",
       "  <thead>\n",
       "    <tr style=\"text-align: right;\">\n",
       "      <th></th>\n",
       "      <th>PassengerId</th>\n",
       "      <th>Survived</th>\n",
       "      <th>Pclass</th>\n",
       "      <th>Name</th>\n",
       "      <th>Sex</th>\n",
       "      <th>Age</th>\n",
       "      <th>SibSp</th>\n",
       "      <th>Parch</th>\n",
       "      <th>Ticket</th>\n",
       "      <th>Fare</th>\n",
       "      <th>Cabin</th>\n",
       "      <th>Embarked</th>\n",
       "    </tr>\n",
       "  </thead>\n",
       "  <tbody>\n",
       "    <tr>\n",
       "      <th>0</th>\n",
       "      <td>1</td>\n",
       "      <td>0</td>\n",
       "      <td>3</td>\n",
       "      <td>Braund, Mr. Owen Harris</td>\n",
       "      <td>male</td>\n",
       "      <td>22.0</td>\n",
       "      <td>1</td>\n",
       "      <td>0</td>\n",
       "      <td>A/5 21171</td>\n",
       "      <td>7.2500</td>\n",
       "      <td>NaN</td>\n",
       "      <td>S</td>\n",
       "    </tr>\n",
       "    <tr>\n",
       "      <th>1</th>\n",
       "      <td>2</td>\n",
       "      <td>1</td>\n",
       "      <td>1</td>\n",
       "      <td>Cumings, Mrs. John Bradley (Florence Briggs Th...</td>\n",
       "      <td>female</td>\n",
       "      <td>38.0</td>\n",
       "      <td>1</td>\n",
       "      <td>0</td>\n",
       "      <td>PC 17599</td>\n",
       "      <td>71.2833</td>\n",
       "      <td>C85</td>\n",
       "      <td>C</td>\n",
       "    </tr>\n",
       "    <tr>\n",
       "      <th>2</th>\n",
       "      <td>3</td>\n",
       "      <td>1</td>\n",
       "      <td>3</td>\n",
       "      <td>Heikkinen, Miss. Laina</td>\n",
       "      <td>female</td>\n",
       "      <td>26.0</td>\n",
       "      <td>0</td>\n",
       "      <td>0</td>\n",
       "      <td>STON/O2. 3101282</td>\n",
       "      <td>7.9250</td>\n",
       "      <td>NaN</td>\n",
       "      <td>S</td>\n",
       "    </tr>\n",
       "    <tr>\n",
       "      <th>3</th>\n",
       "      <td>4</td>\n",
       "      <td>1</td>\n",
       "      <td>1</td>\n",
       "      <td>Futrelle, Mrs. Jacques Heath (Lily May Peel)</td>\n",
       "      <td>female</td>\n",
       "      <td>35.0</td>\n",
       "      <td>1</td>\n",
       "      <td>0</td>\n",
       "      <td>113803</td>\n",
       "      <td>53.1000</td>\n",
       "      <td>C123</td>\n",
       "      <td>S</td>\n",
       "    </tr>\n",
       "    <tr>\n",
       "      <th>4</th>\n",
       "      <td>5</td>\n",
       "      <td>0</td>\n",
       "      <td>3</td>\n",
       "      <td>Allen, Mr. William Henry</td>\n",
       "      <td>male</td>\n",
       "      <td>35.0</td>\n",
       "      <td>0</td>\n",
       "      <td>0</td>\n",
       "      <td>373450</td>\n",
       "      <td>8.0500</td>\n",
       "      <td>NaN</td>\n",
       "      <td>S</td>\n",
       "    </tr>\n",
       "  </tbody>\n",
       "</table>\n",
       "</div>"
      ],
      "text/plain": [
       "   PassengerId  Survived  Pclass  \\\n",
       "0            1         0       3   \n",
       "1            2         1       1   \n",
       "2            3         1       3   \n",
       "3            4         1       1   \n",
       "4            5         0       3   \n",
       "\n",
       "                                                Name     Sex   Age  SibSp  \\\n",
       "0                            Braund, Mr. Owen Harris    male  22.0      1   \n",
       "1  Cumings, Mrs. John Bradley (Florence Briggs Th...  female  38.0      1   \n",
       "2                             Heikkinen, Miss. Laina  female  26.0      0   \n",
       "3       Futrelle, Mrs. Jacques Heath (Lily May Peel)  female  35.0      1   \n",
       "4                           Allen, Mr. William Henry    male  35.0      0   \n",
       "\n",
       "   Parch            Ticket     Fare Cabin Embarked  \n",
       "0      0         A/5 21171   7.2500   NaN        S  \n",
       "1      0          PC 17599  71.2833   C85        C  \n",
       "2      0  STON/O2. 3101282   7.9250   NaN        S  \n",
       "3      0            113803  53.1000  C123        S  \n",
       "4      0            373450   8.0500   NaN        S  "
      ]
     },
     "execution_count": 4,
     "metadata": {},
     "output_type": "execute_result"
    }
   ],
   "source": [
    "train_df.head()"
   ]
  },
  {
   "cell_type": "code",
   "execution_count": 5,
   "metadata": {
    "execution": {
     "iopub.execute_input": "2021-03-05T11:05:17.402126Z",
     "iopub.status.busy": "2021-03-05T11:05:17.401400Z",
     "iopub.status.idle": "2021-03-05T11:05:17.432903Z",
     "shell.execute_reply": "2021-03-05T11:05:17.433409Z"
    },
    "papermill": {
     "duration": 0.128173,
     "end_time": "2021-03-05T11:05:17.433566",
     "exception": false,
     "start_time": "2021-03-05T11:05:17.305393",
     "status": "completed"
    },
    "tags": []
   },
   "outputs": [
    {
     "data": {
      "text/html": [
       "<div>\n",
       "<style scoped>\n",
       "    .dataframe tbody tr th:only-of-type {\n",
       "        vertical-align: middle;\n",
       "    }\n",
       "\n",
       "    .dataframe tbody tr th {\n",
       "        vertical-align: top;\n",
       "    }\n",
       "\n",
       "    .dataframe thead th {\n",
       "        text-align: right;\n",
       "    }\n",
       "</style>\n",
       "<table border=\"1\" class=\"dataframe\">\n",
       "  <thead>\n",
       "    <tr style=\"text-align: right;\">\n",
       "      <th></th>\n",
       "      <th>PassengerId</th>\n",
       "      <th>Survived</th>\n",
       "      <th>Pclass</th>\n",
       "      <th>Age</th>\n",
       "      <th>SibSp</th>\n",
       "      <th>Parch</th>\n",
       "      <th>Fare</th>\n",
       "    </tr>\n",
       "  </thead>\n",
       "  <tbody>\n",
       "    <tr>\n",
       "      <th>count</th>\n",
       "      <td>891.000000</td>\n",
       "      <td>891.000000</td>\n",
       "      <td>891.000000</td>\n",
       "      <td>714.000000</td>\n",
       "      <td>891.000000</td>\n",
       "      <td>891.000000</td>\n",
       "      <td>891.000000</td>\n",
       "    </tr>\n",
       "    <tr>\n",
       "      <th>mean</th>\n",
       "      <td>446.000000</td>\n",
       "      <td>0.383838</td>\n",
       "      <td>2.308642</td>\n",
       "      <td>29.699118</td>\n",
       "      <td>0.523008</td>\n",
       "      <td>0.381594</td>\n",
       "      <td>32.204208</td>\n",
       "    </tr>\n",
       "    <tr>\n",
       "      <th>std</th>\n",
       "      <td>257.353842</td>\n",
       "      <td>0.486592</td>\n",
       "      <td>0.836071</td>\n",
       "      <td>14.526497</td>\n",
       "      <td>1.102743</td>\n",
       "      <td>0.806057</td>\n",
       "      <td>49.693429</td>\n",
       "    </tr>\n",
       "    <tr>\n",
       "      <th>min</th>\n",
       "      <td>1.000000</td>\n",
       "      <td>0.000000</td>\n",
       "      <td>1.000000</td>\n",
       "      <td>0.420000</td>\n",
       "      <td>0.000000</td>\n",
       "      <td>0.000000</td>\n",
       "      <td>0.000000</td>\n",
       "    </tr>\n",
       "    <tr>\n",
       "      <th>25%</th>\n",
       "      <td>223.500000</td>\n",
       "      <td>0.000000</td>\n",
       "      <td>2.000000</td>\n",
       "      <td>20.125000</td>\n",
       "      <td>0.000000</td>\n",
       "      <td>0.000000</td>\n",
       "      <td>7.910400</td>\n",
       "    </tr>\n",
       "    <tr>\n",
       "      <th>50%</th>\n",
       "      <td>446.000000</td>\n",
       "      <td>0.000000</td>\n",
       "      <td>3.000000</td>\n",
       "      <td>28.000000</td>\n",
       "      <td>0.000000</td>\n",
       "      <td>0.000000</td>\n",
       "      <td>14.454200</td>\n",
       "    </tr>\n",
       "    <tr>\n",
       "      <th>75%</th>\n",
       "      <td>668.500000</td>\n",
       "      <td>1.000000</td>\n",
       "      <td>3.000000</td>\n",
       "      <td>38.000000</td>\n",
       "      <td>1.000000</td>\n",
       "      <td>0.000000</td>\n",
       "      <td>31.000000</td>\n",
       "    </tr>\n",
       "    <tr>\n",
       "      <th>max</th>\n",
       "      <td>891.000000</td>\n",
       "      <td>1.000000</td>\n",
       "      <td>3.000000</td>\n",
       "      <td>80.000000</td>\n",
       "      <td>8.000000</td>\n",
       "      <td>6.000000</td>\n",
       "      <td>512.329200</td>\n",
       "    </tr>\n",
       "  </tbody>\n",
       "</table>\n",
       "</div>"
      ],
      "text/plain": [
       "       PassengerId    Survived      Pclass         Age       SibSp  \\\n",
       "count   891.000000  891.000000  891.000000  714.000000  891.000000   \n",
       "mean    446.000000    0.383838    2.308642   29.699118    0.523008   \n",
       "std     257.353842    0.486592    0.836071   14.526497    1.102743   \n",
       "min       1.000000    0.000000    1.000000    0.420000    0.000000   \n",
       "25%     223.500000    0.000000    2.000000   20.125000    0.000000   \n",
       "50%     446.000000    0.000000    3.000000   28.000000    0.000000   \n",
       "75%     668.500000    1.000000    3.000000   38.000000    1.000000   \n",
       "max     891.000000    1.000000    3.000000   80.000000    8.000000   \n",
       "\n",
       "            Parch        Fare  \n",
       "count  891.000000  891.000000  \n",
       "mean     0.381594   32.204208  \n",
       "std      0.806057   49.693429  \n",
       "min      0.000000    0.000000  \n",
       "25%      0.000000    7.910400  \n",
       "50%      0.000000   14.454200  \n",
       "75%      0.000000   31.000000  \n",
       "max      6.000000  512.329200  "
      ]
     },
     "execution_count": 5,
     "metadata": {},
     "output_type": "execute_result"
    }
   ],
   "source": [
    "train_df.describe()"
   ]
  },
  {
   "cell_type": "code",
   "execution_count": 6,
   "metadata": {
    "execution": {
     "iopub.execute_input": "2021-03-05T11:05:17.625590Z",
     "iopub.status.busy": "2021-03-05T11:05:17.624904Z",
     "iopub.status.idle": "2021-03-05T11:05:17.630116Z",
     "shell.execute_reply": "2021-03-05T11:05:17.630639Z"
    },
    "papermill": {
     "duration": 0.103414,
     "end_time": "2021-03-05T11:05:17.630795",
     "exception": false,
     "start_time": "2021-03-05T11:05:17.527381",
     "status": "completed"
    },
    "tags": []
   },
   "outputs": [
    {
     "data": {
      "text/plain": [
       "Index(['PassengerId', 'Survived', 'Pclass', 'Name', 'Sex', 'Age', 'SibSp',\n",
       "       'Parch', 'Ticket', 'Fare', 'Cabin', 'Embarked'],\n",
       "      dtype='object')"
      ]
     },
     "execution_count": 6,
     "metadata": {},
     "output_type": "execute_result"
    }
   ],
   "source": [
    "train_df.columns"
   ]
  },
  {
   "cell_type": "markdown",
   "metadata": {
    "papermill": {
     "duration": 0.094508,
     "end_time": "2021-03-05T11:05:17.820377",
     "exception": false,
     "start_time": "2021-03-05T11:05:17.725869",
     "status": "completed"
    },
    "tags": []
   },
   "source": [
    "<a id='2'></a>\n",
    "# Variable Descriptions\n",
    "\n",
    "1. PassengerId: unique id number to each passenger\n",
    "1. Survived: survived(1) or dead(0)\n",
    "1. Pclass: passenger class\n",
    "1. Name: name of passenger\n",
    "1. Sex: gender of passenger\n",
    "1. Age: age of passenger\n",
    "1. SibSp: number of siblings and spouse\n",
    "1. Parch: number of parents and children\n",
    "1. Ticket: ticket number\n",
    "1. Fare: amount of money spent on ticket\n",
    "1. Cabin: cabin category\n",
    "1. Embarked: port where passenger embarked (C:Cherbourg, Q:Queenstown, S:Southampton)"
   ]
  },
  {
   "cell_type": "code",
   "execution_count": 7,
   "metadata": {
    "execution": {
     "iopub.execute_input": "2021-03-05T11:05:18.012906Z",
     "iopub.status.busy": "2021-03-05T11:05:18.012213Z",
     "iopub.status.idle": "2021-03-05T11:05:18.026642Z",
     "shell.execute_reply": "2021-03-05T11:05:18.027373Z"
    },
    "papermill": {
     "duration": 0.112699,
     "end_time": "2021-03-05T11:05:18.027597",
     "exception": false,
     "start_time": "2021-03-05T11:05:17.914898",
     "status": "completed"
    },
    "tags": []
   },
   "outputs": [
    {
     "name": "stdout",
     "output_type": "stream",
     "text": [
      "<class 'pandas.core.frame.DataFrame'>\n",
      "RangeIndex: 891 entries, 0 to 890\n",
      "Data columns (total 12 columns):\n",
      " #   Column       Non-Null Count  Dtype  \n",
      "---  ------       --------------  -----  \n",
      " 0   PassengerId  891 non-null    int64  \n",
      " 1   Survived     891 non-null    int64  \n",
      " 2   Pclass       891 non-null    int64  \n",
      " 3   Name         891 non-null    object \n",
      " 4   Sex          891 non-null    object \n",
      " 5   Age          714 non-null    float64\n",
      " 6   SibSp        891 non-null    int64  \n",
      " 7   Parch        891 non-null    int64  \n",
      " 8   Ticket       891 non-null    object \n",
      " 9   Fare         891 non-null    float64\n",
      " 10  Cabin        204 non-null    object \n",
      " 11  Embarked     889 non-null    object \n",
      "dtypes: float64(2), int64(5), object(5)\n",
      "memory usage: 83.7+ KB\n"
     ]
    }
   ],
   "source": [
    "train_df.info()"
   ]
  },
  {
   "cell_type": "markdown",
   "metadata": {
    "papermill": {
     "duration": 0.095309,
     "end_time": "2021-03-05T11:05:18.218304",
     "exception": false,
     "start_time": "2021-03-05T11:05:18.122995",
     "status": "completed"
    },
    "tags": []
   },
   "source": [
    "* float64(2): Fare, Age\n",
    "* int64(5): PassengerId, Survived, Pclass, Sibsp, Parch\n",
    "* object(5): Name, Sex, Ticket, Cabin, Embarked"
   ]
  },
  {
   "cell_type": "markdown",
   "metadata": {
    "papermill": {
     "duration": 0.093752,
     "end_time": "2021-03-05T11:05:18.406585",
     "exception": false,
     "start_time": "2021-03-05T11:05:18.312833",
     "status": "completed"
    },
    "tags": []
   },
   "source": [
    "<a id='3'></a>\n",
    "# Univariate Variable Analysis\n",
    "* Categorical Variables: Survived, Sex, Pclass, Embarked, Cabin, Name, Ticket, SibSp, Parch\n",
    "* Numerical Variables: Fare, Age, PassengerId"
   ]
  },
  {
   "cell_type": "markdown",
   "metadata": {
    "papermill": {
     "duration": 0.094205,
     "end_time": "2021-03-05T11:05:18.595540",
     "exception": false,
     "start_time": "2021-03-05T11:05:18.501335",
     "status": "completed"
    },
    "tags": []
   },
   "source": [
    "<a id='4'></a>\n",
    "## Categorical Variable"
   ]
  },
  {
   "cell_type": "code",
   "execution_count": 8,
   "metadata": {
    "execution": {
     "iopub.execute_input": "2021-03-05T11:05:18.792341Z",
     "iopub.status.busy": "2021-03-05T11:05:18.791607Z",
     "iopub.status.idle": "2021-03-05T11:05:18.795506Z",
     "shell.execute_reply": "2021-03-05T11:05:18.794989Z"
    },
    "papermill": {
     "duration": 0.105989,
     "end_time": "2021-03-05T11:05:18.795622",
     "exception": false,
     "start_time": "2021-03-05T11:05:18.689633",
     "status": "completed"
    },
    "tags": []
   },
   "outputs": [
    {
     "data": {
      "text/plain": [
       "male      577\n",
       "female    314\n",
       "Name: Sex, dtype: int64"
      ]
     },
     "execution_count": 8,
     "metadata": {},
     "output_type": "execute_result"
    }
   ],
   "source": [
    "train_df['Sex'].value_counts()"
   ]
  },
  {
   "cell_type": "code",
   "execution_count": 9,
   "metadata": {
    "execution": {
     "iopub.execute_input": "2021-03-05T11:05:18.995600Z",
     "iopub.status.busy": "2021-03-05T11:05:18.994882Z",
     "iopub.status.idle": "2021-03-05T11:05:18.997843Z",
     "shell.execute_reply": "2021-03-05T11:05:18.997336Z"
    },
    "papermill": {
     "duration": 0.106886,
     "end_time": "2021-03-05T11:05:18.997955",
     "exception": false,
     "start_time": "2021-03-05T11:05:18.891069",
     "status": "completed"
    },
    "tags": []
   },
   "outputs": [],
   "source": [
    "def bar_plot(variable):\n",
    "    \"\"\"\n",
    "    input: variable\n",
    "    output: bar plot and frequency\n",
    "    \"\"\"\n",
    "    # get variable\n",
    "    var=train_df[variable]\n",
    "    \n",
    "    # get frequencies\n",
    "    varValues=var.value_counts()    \n",
    "    \n",
    "    # visualisation\n",
    "    plt.figure(figsize=(7,4))\n",
    "    plt.bar(varValues.index, varValues)\n",
    "    plt.xticks(varValues.index, varValues.index.values)\n",
    "    plt.ylabel('Frequency')\n",
    "    plt.title(variable)\n",
    "    plt.show()\n",
    "    print('{}:\\n {}'.format(variable,varValues))"
   ]
  },
  {
   "cell_type": "code",
   "execution_count": 10,
   "metadata": {
    "execution": {
     "iopub.execute_input": "2021-03-05T11:05:19.257343Z",
     "iopub.status.busy": "2021-03-05T11:05:19.256225Z",
     "iopub.status.idle": "2021-03-05T11:05:20.028509Z",
     "shell.execute_reply": "2021-03-05T11:05:20.029033Z"
    },
    "papermill": {
     "duration": 0.935078,
     "end_time": "2021-03-05T11:05:20.029175",
     "exception": false,
     "start_time": "2021-03-05T11:05:19.094097",
     "status": "completed"
    },
    "tags": []
   },
   "outputs": [
    {
     "data": {
      "image/png": "[encoded data removed]",
      "text/plain": [
       "<Figure size 504x288 with 1 Axes>"
      ]
     },
     "metadata": {},
     "output_type": "display_data"
    },
    {
     "name": "stdout",
     "output_type": "stream",
     "text": [
      "Survived:\n",
      " 0    549\n",
      "1    342\n",
      "Name: Survived, dtype: int64\n"
     ]
    },
    {
     "data": {
      "image/png": "[encoded data removed]",
      "text/plain": [
       "<Figure size 504x288 with 1 Axes>"
      ]
     },
     "metadata": {},
     "output_type": "display_data"
    },
    {
     "name": "stdout",
     "output_type": "stream",
     "text": [
      "Sex:\n",
      " male      577\n",
      "female    314\n",
      "Name: Sex, dtype: int64\n"
     ]
    },
    {
     "data": {
      "image/png": "[encoded data removed]",
      "text/plain": [
       "<Figure size 504x288 with 1 Axes>"
      ]
     },
     "metadata": {},
     "output_type": "display_data"
    },
    {
     "name": "stdout",
     "output_type": "stream",
     "text": [
      "Pclass:\n",
      " 3    491\n",
      "1    216\n",
      "2    184\n",
      "Name: Pclass, dtype: int64\n"
     ]
    },
    {
     "data": {
      "image/png": "[encoded data removed]",
      "text/plain": [
       "<Figure size 504x288 with 1 Axes>"
      ]
     },
     "metadata": {},
     "output_type": "display_data"
    },
    {
     "name": "stdout",
     "output_type": "stream",
     "text": [
      "Embarked:\n",
      " S    644\n",
      "C    168\n",
      "Q     77\n",
      "Name: Embarked, dtype: int64\n"
     ]
    },
    {
     "data": {
      "image/png": "[encoded data removed]",
      "text/plain": [
       "<Figure size 504x288 with 1 Axes>"
      ]
     },
     "metadata": {},
     "output_type": "display_data"
    },
    {
     "name": "stdout",
     "output_type": "stream",
     "text": [
      "SibSp:\n",
      " 0    608\n",
      "1    209\n",
      "2     28\n",
      "4     18\n",
      "3     16\n",
      "8      7\n",
      "5      5\n",
      "Name: SibSp, dtype: int64\n"
     ]
    },
    {
     "data": {
      "image/png": "[encoded data removed]",
      "text/plain": [
       "<Figure size 504x288 with 1 Axes>"
      ]
     },
     "metadata": {},
     "output_type": "display_data"
    },
    {
     "name": "stdout",
     "output_type": "stream",
     "text": [
      "Parch:\n",
      " 0    678\n",
      "1    118\n",
      "2     80\n",
      "5      5\n",
      "3      5\n",
      "4      4\n",
      "6      1\n",
      "Name: Parch, dtype: int64\n"
     ]
    }
   ],
   "source": [
    "category1 = ['Survived', 'Sex', 'Pclass', 'Embarked', 'SibSp', 'Parch']\n",
    "for c in category1:\n",
    "    bar_plot(c)"
   ]
  },
  {
   "cell_type": "code",
   "execution_count": 11,
   "metadata": {
    "execution": {
     "iopub.execute_input": "2021-03-05T11:05:20.244088Z",
     "iopub.status.busy": "2021-03-05T11:05:20.243029Z",
     "iopub.status.idle": "2021-03-05T11:05:20.252596Z",
     "shell.execute_reply": "2021-03-05T11:05:20.251976Z"
    },
    "papermill": {
     "duration": 0.122025,
     "end_time": "2021-03-05T11:05:20.252761",
     "exception": false,
     "start_time": "2021-03-05T11:05:20.130736",
     "status": "completed"
    },
    "tags": []
   },
   "outputs": [
    {
     "name": "stdout",
     "output_type": "stream",
     "text": [
      "CA. 2343       7\n",
      "347082         7\n",
      "1601           7\n",
      "3101295        6\n",
      "347088         6\n",
      "              ..\n",
      "315086         1\n",
      "S.O.P. 1166    1\n",
      "F.C. 12750     1\n",
      "335097         1\n",
      "113792         1\n",
      "Name: Ticket, Length: 681, dtype: int64 \n",
      "\n",
      "\n",
      "del Carlo, Mr. Sebastiano                              1\n",
      "Caldwell, Mrs. Albert Francis (Sylvia Mae Harbaugh)    1\n",
      "Slabenoff, Mr. Petco                                   1\n",
      "Nasser, Mrs. Nicholas (Adele Achem)                    1\n",
      "Bowerman, Miss. Elsie Edith                            1\n",
      "                                                      ..\n",
      "Barbara, Miss. Saiide                                  1\n",
      "Baumann, Mr. John D                                    1\n",
      "Mernagh, Mr. Robert                                    1\n",
      "Sunderland, Mr. Victor Francis                         1\n",
      "Anderson, Mr. Harry                                    1\n",
      "Name: Name, Length: 891, dtype: int64 \n",
      "\n",
      "\n",
      "C23 C25 C27    4\n",
      "G6             4\n",
      "B96 B98        4\n",
      "E101           3\n",
      "D              3\n",
      "              ..\n",
      "B78            1\n",
      "B50            1\n",
      "D49            1\n",
      "A23            1\n",
      "B39            1\n",
      "Name: Cabin, Length: 147, dtype: int64 \n",
      "\n",
      "\n"
     ]
    }
   ],
   "source": [
    "category2 = ['Ticket', 'Name', 'Cabin']\n",
    "for c in category2:\n",
    "    print('{} \\n\\n'.format(train_df[c].value_counts()))"
   ]
  },
  {
   "cell_type": "markdown",
   "metadata": {
    "papermill": {
     "duration": 0.101609,
     "end_time": "2021-03-05T11:05:20.456963",
     "exception": false,
     "start_time": "2021-03-05T11:05:20.355354",
     "status": "completed"
    },
    "tags": []
   },
   "source": [
    "<a id='5'></a>\n",
    "## Numerical Variable"
   ]
  },
  {
   "cell_type": "code",
   "execution_count": 12,
   "metadata": {
    "execution": {
     "iopub.execute_input": "2021-03-05T11:05:20.669040Z",
     "iopub.status.busy": "2021-03-05T11:05:20.668100Z",
     "iopub.status.idle": "2021-03-05T11:05:20.671276Z",
     "shell.execute_reply": "2021-03-05T11:05:20.670778Z"
    },
    "papermill": {
     "duration": 0.112785,
     "end_time": "2021-03-05T11:05:20.671389",
     "exception": false,
     "start_time": "2021-03-05T11:05:20.558604",
     "status": "completed"
    },
    "tags": []
   },
   "outputs": [],
   "source": [
    "def hist_plot(c):\n",
    "    plt.hist(train_df[c], bins=30)\n",
    "    plt.xlabel(c)\n",
    "    plt.ylabel('Frequency')\n",
    "    plt.title('{} distribution with histogram'.format(c))\n",
    "    plt.show()"
   ]
  },
  {
   "cell_type": "code",
   "execution_count": 13,
   "metadata": {
    "execution": {
     "iopub.execute_input": "2021-03-05T11:05:20.970687Z",
     "iopub.status.busy": "2021-03-05T11:05:20.967329Z",
     "iopub.status.idle": "2021-03-05T11:05:21.541071Z",
     "shell.execute_reply": "2021-03-05T11:05:21.540243Z"
    },
    "papermill": {
     "duration": 0.767171,
     "end_time": "2021-03-05T11:05:21.541199",
     "exception": false,
     "start_time": "2021-03-05T11:05:20.774028",
     "status": "completed"
    },
    "tags": []
   },
   "outputs": [
    {
     "data": {
      "image/png": "[encoded data removed]",
      "text/plain": [
       "<Figure size 432x288 with 1 Axes>"
      ]
     },
     "metadata": {},
     "output_type": "display_data"
    },
    {
     "data": {
      "image/png": "[encoded data removed]",
      "text/plain": [
       "<Figure size 432x288 with 1 Axes>"
      ]
     },
     "metadata": {},
     "output_type": "display_data"
    },
    {
     "data": {
      "image/png": "[encoded data removed]",
      "text/plain": [
       "<Figure size 432x288 with 1 Axes>"
      ]
     },
     "metadata": {},
     "output_type": "display_data"
    }
   ],
   "source": [
    "numerical = ['Fare', 'Age', 'PassengerId']\n",
    "for c in numerical:\n",
    "    hist_plot(c)"
   ]
  },
  {
   "cell_type": "markdown",
   "metadata": {
    "papermill": {
     "duration": 0.103754,
     "end_time": "2021-03-05T11:05:21.750347",
     "exception": false,
     "start_time": "2021-03-05T11:05:21.646593",
     "status": "completed"
    },
    "tags": []
   },
   "source": [
    "<a id='6'></a>\n",
    "# Basic Data Analysis\n",
    "\n",
    "* Pclass - Survived\n",
    "* Sex - Survived\n",
    "* SibSp - Survived\n",
    "* Parch - Survived"
   ]
  },
  {
   "cell_type": "code",
   "execution_count": 14,
   "metadata": {
    "execution": {
     "iopub.execute_input": "2021-03-05T11:05:21.998771Z",
     "iopub.status.busy": "2021-03-05T11:05:21.997846Z",
     "iopub.status.idle": "2021-03-05T11:05:22.002856Z",
     "shell.execute_reply": "2021-03-05T11:05:22.002223Z"
    },
    "papermill": {
     "duration": 0.136618,
     "end_time": "2021-03-05T11:05:22.002976",
     "exception": false,
     "start_time": "2021-03-05T11:05:21.866358",
     "status": "completed"
    },
    "tags": []
   },
   "outputs": [
    {
     "data": {
      "text/html": [
       "<div>\n",
       "<style scoped>\n",
       "    .dataframe tbody tr th:only-of-type {\n",
       "        vertical-align: middle;\n",
       "    }\n",
       "\n",
       "    .dataframe tbody tr th {\n",
       "        vertical-align: top;\n",
       "    }\n",
       "\n",
       "    .dataframe thead th {\n",
       "        text-align: right;\n",
       "    }\n",
       "</style>\n",
       "<table border=\"1\" class=\"dataframe\">\n",
       "  <thead>\n",
       "    <tr style=\"text-align: right;\">\n",
       "      <th></th>\n",
       "      <th>Pclass</th>\n",
       "      <th>Survived</th>\n",
       "    </tr>\n",
       "  </thead>\n",
       "  <tbody>\n",
       "    <tr>\n",
       "      <th>0</th>\n",
       "      <td>1</td>\n",
       "      <td>0.629630</td>\n",
       "    </tr>\n",
       "    <tr>\n",
       "      <th>1</th>\n",
       "      <td>2</td>\n",
       "      <td>0.472826</td>\n",
       "    </tr>\n",
       "    <tr>\n",
       "      <th>2</th>\n",
       "      <td>3</td>\n",
       "      <td>0.242363</td>\n",
       "    </tr>\n",
       "  </tbody>\n",
       "</table>\n",
       "</div>"
      ],
      "text/plain": [
       "   Pclass  Survived\n",
       "0       1  0.629630\n",
       "1       2  0.472826\n",
       "2       3  0.242363"
      ]
     },
     "execution_count": 14,
     "metadata": {},
     "output_type": "execute_result"
    }
   ],
   "source": [
    "train_df[['Pclass','Survived']].groupby('Pclass', as_index=False).mean().sort_values(by='Survived', ascending=False)"
   ]
  },
  {
   "cell_type": "code",
   "execution_count": 15,
   "metadata": {
    "execution": {
     "iopub.execute_input": "2021-03-05T11:05:22.243076Z",
     "iopub.status.busy": "2021-03-05T11:05:22.235980Z",
     "iopub.status.idle": "2021-03-05T11:05:22.248223Z",
     "shell.execute_reply": "2021-03-05T11:05:22.247559Z"
    },
    "papermill": {
     "duration": 0.132303,
     "end_time": "2021-03-05T11:05:22.248334",
     "exception": false,
     "start_time": "2021-03-05T11:05:22.116031",
     "status": "completed"
    },
    "tags": []
   },
   "outputs": [
    {
     "data": {
      "text/html": [
       "<div>\n",
       "<style scoped>\n",
       "    .dataframe tbody tr th:only-of-type {\n",
       "        vertical-align: middle;\n",
       "    }\n",
       "\n",
       "    .dataframe tbody tr th {\n",
       "        vertical-align: top;\n",
       "    }\n",
       "\n",
       "    .dataframe thead th {\n",
       "        text-align: right;\n",
       "    }\n",
       "</style>\n",
       "<table border=\"1\" class=\"dataframe\">\n",
       "  <thead>\n",
       "    <tr style=\"text-align: right;\">\n",
       "      <th></th>\n",
       "      <th>Sex</th>\n",
       "      <th>Survived</th>\n",
       "    </tr>\n",
       "  </thead>\n",
       "  <tbody>\n",
       "    <tr>\n",
       "      <th>0</th>\n",
       "      <td>female</td>\n",
       "      <td>0.742038</td>\n",
       "    </tr>\n",
       "    <tr>\n",
       "      <th>1</th>\n",
       "      <td>male</td>\n",
       "      <td>0.188908</td>\n",
       "    </tr>\n",
       "  </tbody>\n",
       "</table>\n",
       "</div>"
      ],
      "text/plain": [
       "      Sex  Survived\n",
       "0  female  0.742038\n",
       "1    male  0.188908"
      ]
     },
     "execution_count": 15,
     "metadata": {},
     "output_type": "execute_result"
    }
   ],
   "source": [
    "train_df[['Sex','Survived']].groupby('Sex', as_index=False).mean().sort_values(by='Survived', ascending=False)"
   ]
  },
  {
   "cell_type": "code",
   "execution_count": 16,
   "metadata": {
    "execution": {
     "iopub.execute_input": "2021-03-05T11:05:22.479743Z",
     "iopub.status.busy": "2021-03-05T11:05:22.478778Z",
     "iopub.status.idle": "2021-03-05T11:05:22.482488Z",
     "shell.execute_reply": "2021-03-05T11:05:22.482988Z"
    },
    "papermill": {
     "duration": 0.128518,
     "end_time": "2021-03-05T11:05:22.483125",
     "exception": false,
     "start_time": "2021-03-05T11:05:22.354607",
     "status": "completed"
    },
    "tags": []
   },
   "outputs": [
    {
     "data": {
      "text/html": [
       "<div>\n",
       "<style scoped>\n",
       "    .dataframe tbody tr th:only-of-type {\n",
       "        vertical-align: middle;\n",
       "    }\n",
       "\n",
       "    .dataframe tbody tr th {\n",
       "        vertical-align: top;\n",
       "    }\n",
       "\n",
       "    .dataframe thead th {\n",
       "        text-align: right;\n",
       "    }\n",
       "</style>\n",
       "<table border=\"1\" class=\"dataframe\">\n",
       "  <thead>\n",
       "    <tr style=\"text-align: right;\">\n",
       "      <th></th>\n",
       "      <th>SibSp</th>\n",
       "      <th>Survived</th>\n",
       "    </tr>\n",
       "  </thead>\n",
       "  <tbody>\n",
       "    <tr>\n",
       "      <th>1</th>\n",
       "      <td>1</td>\n",
       "      <td>0.535885</td>\n",
       "    </tr>\n",
       "    <tr>\n",
       "      <th>2</th>\n",
       "      <td>2</td>\n",
       "      <td>0.464286</td>\n",
       "    </tr>\n",
       "    <tr>\n",
       "      <th>0</th>\n",
       "      <td>0</td>\n",
       "      <td>0.345395</td>\n",
       "    </tr>\n",
       "    <tr>\n",
       "      <th>3</th>\n",
       "      <td>3</td>\n",
       "      <td>0.250000</td>\n",
       "    </tr>\n",
       "    <tr>\n",
       "      <th>4</th>\n",
       "      <td>4</td>\n",
       "      <td>0.166667</td>\n",
       "    </tr>\n",
       "    <tr>\n",
       "      <th>5</th>\n",
       "      <td>5</td>\n",
       "      <td>0.000000</td>\n",
       "    </tr>\n",
       "    <tr>\n",
       "      <th>6</th>\n",
       "      <td>8</td>\n",
       "      <td>0.000000</td>\n",
       "    </tr>\n",
       "  </tbody>\n",
       "</table>\n",
       "</div>"
      ],
      "text/plain": [
       "   SibSp  Survived\n",
       "1      1  0.535885\n",
       "2      2  0.464286\n",
       "0      0  0.345395\n",
       "3      3  0.250000\n",
       "4      4  0.166667\n",
       "5      5  0.000000\n",
       "6      8  0.000000"
      ]
     },
     "execution_count": 16,
     "metadata": {},
     "output_type": "execute_result"
    }
   ],
   "source": [
    "train_df[['SibSp','Survived']].groupby('SibSp', as_index=False).mean().sort_values(by='Survived', ascending=False)"
   ]
  },
  {
   "cell_type": "code",
   "execution_count": 17,
   "metadata": {
    "execution": {
     "iopub.execute_input": "2021-03-05T11:05:22.701581Z",
     "iopub.status.busy": "2021-03-05T11:05:22.700608Z",
     "iopub.status.idle": "2021-03-05T11:05:22.714837Z",
     "shell.execute_reply": "2021-03-05T11:05:22.715301Z"
    },
    "papermill": {
     "duration": 0.125098,
     "end_time": "2021-03-05T11:05:22.715464",
     "exception": false,
     "start_time": "2021-03-05T11:05:22.590366",
     "status": "completed"
    },
    "tags": []
   },
   "outputs": [
    {
     "data": {
      "text/html": [
       "<div>\n",
       "<style scoped>\n",
       "    .dataframe tbody tr th:only-of-type {\n",
       "        vertical-align: middle;\n",
       "    }\n",
       "\n",
       "    .dataframe tbody tr th {\n",
       "        vertical-align: top;\n",
       "    }\n",
       "\n",
       "    .dataframe thead th {\n",
       "        text-align: right;\n",
       "    }\n",
       "</style>\n",
       "<table border=\"1\" class=\"dataframe\">\n",
       "  <thead>\n",
       "    <tr style=\"text-align: right;\">\n",
       "      <th></th>\n",
       "      <th>Parch</th>\n",
       "      <th>Survived</th>\n",
       "    </tr>\n",
       "  </thead>\n",
       "  <tbody>\n",
       "    <tr>\n",
       "      <th>3</th>\n",
       "      <td>3</td>\n",
       "      <td>0.600000</td>\n",
       "    </tr>\n",
       "    <tr>\n",
       "      <th>1</th>\n",
       "      <td>1</td>\n",
       "      <td>0.550847</td>\n",
       "    </tr>\n",
       "    <tr>\n",
       "      <th>2</th>\n",
       "      <td>2</td>\n",
       "      <td>0.500000</td>\n",
       "    </tr>\n",
       "    <tr>\n",
       "      <th>0</th>\n",
       "      <td>0</td>\n",
       "      <td>0.343658</td>\n",
       "    </tr>\n",
       "    <tr>\n",
       "      <th>5</th>\n",
       "      <td>5</td>\n",
       "      <td>0.200000</td>\n",
       "    </tr>\n",
       "    <tr>\n",
       "      <th>4</th>\n",
       "      <td>4</td>\n",
       "      <td>0.000000</td>\n",
       "    </tr>\n",
       "    <tr>\n",
       "      <th>6</th>\n",
       "      <td>6</td>\n",
       "      <td>0.000000</td>\n",
       "    </tr>\n",
       "  </tbody>\n",
       "</table>\n",
       "</div>"
      ],
      "text/plain": [
       "   Parch  Survived\n",
       "3      3  0.600000\n",
       "1      1  0.550847\n",
       "2      2  0.500000\n",
       "0      0  0.343658\n",
       "5      5  0.200000\n",
       "4      4  0.000000\n",
       "6      6  0.000000"
      ]
     },
     "execution_count": 17,
     "metadata": {},
     "output_type": "execute_result"
    }
   ],
   "source": [
    "train_df[['Parch','Survived']].groupby('Parch', as_index=False).mean().sort_values(by='Survived', ascending=False)"
   ]
  },
  {
   "cell_type": "markdown",
   "metadata": {
    "papermill": {
     "duration": 0.108217,
     "end_time": "2021-03-05T11:05:22.930815",
     "exception": false,
     "start_time": "2021-03-05T11:05:22.822598",
     "status": "completed"
    },
    "tags": []
   },
   "source": [
    "<a id='7'></a>\n",
    "# Outlier Detection"
   ]
  },
  {
   "cell_type": "code",
   "execution_count": 18,
   "metadata": {
    "execution": {
     "iopub.execute_input": "2021-03-05T11:05:23.149482Z",
     "iopub.status.busy": "2021-03-05T11:05:23.148499Z",
     "iopub.status.idle": "2021-03-05T11:05:23.157077Z",
     "shell.execute_reply": "2021-03-05T11:05:23.157557Z"
    },
    "papermill": {
     "duration": 0.119154,
     "end_time": "2021-03-05T11:05:23.157705",
     "exception": false,
     "start_time": "2021-03-05T11:05:23.038551",
     "status": "completed"
    },
    "tags": []
   },
   "outputs": [],
   "source": [
    "def detect_outliers(df,columns):\n",
    "    outlier_list=[]\n",
    "    \n",
    "    for c in columns:\n",
    "        # 1st Quartile\n",
    "        Q1 = np.percentile(df[c],25)\n",
    "        \n",
    "        # 3rd Quartile\n",
    "        Q3 = np.percentile(df[c],75)\n",
    "        \n",
    "        # IQR\n",
    "        IQR = Q3-Q1\n",
    "        \n",
    "        # outlier_step\n",
    "        outlier_step = 1.5*IQR\n",
    "        \n",
    "        # detect outlier indices\n",
    "        indices = df[(df[c] < Q1-outlier_step) | (df[c] > Q3+outlier_step)].index\n",
    "        \n",
    "        # add outlier indices to the outlier list\n",
    "        outlier_list.extend(indices)\n",
    "    \n",
    "    outlier_list_counter=Counter(outlier_list)\n",
    "    final_outlier_list = [i for i,v in outlier_list_counter.items() if v>2]\n",
    "    \n",
    "    return final_outlier_list"
   ]
  },
  {
   "cell_type": "code",
   "execution_count": 19,
   "metadata": {
    "execution": {
     "iopub.execute_input": "2021-03-05T11:05:23.374620Z",
     "iopub.status.busy": "2021-03-05T11:05:23.373618Z",
     "iopub.status.idle": "2021-03-05T11:05:23.419010Z",
     "shell.execute_reply": "2021-03-05T11:05:23.418335Z"
    },
    "papermill": {
     "duration": 0.154103,
     "end_time": "2021-03-05T11:05:23.419121",
     "exception": false,
     "start_time": "2021-03-05T11:05:23.265018",
     "status": "completed"
    },
    "tags": []
   },
   "outputs": [
    {
     "data": {
      "text/html": [
       "<div>\n",
       "<style scoped>\n",
       "    .dataframe tbody tr th:only-of-type {\n",
       "        vertical-align: middle;\n",
       "    }\n",
       "\n",
       "    .dataframe tbody tr th {\n",
       "        vertical-align: top;\n",
       "    }\n",
       "\n",
       "    .dataframe thead th {\n",
       "        text-align: right;\n",
       "    }\n",
       "</style>\n",
       "<table border=\"1\" class=\"dataframe\">\n",
       "  <thead>\n",
       "    <tr style=\"text-align: right;\">\n",
       "      <th></th>\n",
       "      <th>PassengerId</th>\n",
       "      <th>Survived</th>\n",
       "      <th>Pclass</th>\n",
       "      <th>Name</th>\n",
       "      <th>Sex</th>\n",
       "      <th>Age</th>\n",
       "      <th>SibSp</th>\n",
       "      <th>Parch</th>\n",
       "      <th>Ticket</th>\n",
       "      <th>Fare</th>\n",
       "      <th>Cabin</th>\n",
       "      <th>Embarked</th>\n",
       "    </tr>\n",
       "  </thead>\n",
       "  <tbody>\n",
       "    <tr>\n",
       "      <th>27</th>\n",
       "      <td>28</td>\n",
       "      <td>0</td>\n",
       "      <td>1</td>\n",
       "      <td>Fortune, Mr. Charles Alexander</td>\n",
       "      <td>male</td>\n",
       "      <td>19.0</td>\n",
       "      <td>3</td>\n",
       "      <td>2</td>\n",
       "      <td>19950</td>\n",
       "      <td>263.00</td>\n",
       "      <td>C23 C25 C27</td>\n",
       "      <td>S</td>\n",
       "    </tr>\n",
       "    <tr>\n",
       "      <th>88</th>\n",
       "      <td>89</td>\n",
       "      <td>1</td>\n",
       "      <td>1</td>\n",
       "      <td>Fortune, Miss. Mabel Helen</td>\n",
       "      <td>female</td>\n",
       "      <td>23.0</td>\n",
       "      <td>3</td>\n",
       "      <td>2</td>\n",
       "      <td>19950</td>\n",
       "      <td>263.00</td>\n",
       "      <td>C23 C25 C27</td>\n",
       "      <td>S</td>\n",
       "    </tr>\n",
       "    <tr>\n",
       "      <th>159</th>\n",
       "      <td>160</td>\n",
       "      <td>0</td>\n",
       "      <td>3</td>\n",
       "      <td>Sage, Master. Thomas Henry</td>\n",
       "      <td>male</td>\n",
       "      <td>NaN</td>\n",
       "      <td>8</td>\n",
       "      <td>2</td>\n",
       "      <td>CA. 2343</td>\n",
       "      <td>69.55</td>\n",
       "      <td>NaN</td>\n",
       "      <td>S</td>\n",
       "    </tr>\n",
       "    <tr>\n",
       "      <th>180</th>\n",
       "      <td>181</td>\n",
       "      <td>0</td>\n",
       "      <td>3</td>\n",
       "      <td>Sage, Miss. Constance Gladys</td>\n",
       "      <td>female</td>\n",
       "      <td>NaN</td>\n",
       "      <td>8</td>\n",
       "      <td>2</td>\n",
       "      <td>CA. 2343</td>\n",
       "      <td>69.55</td>\n",
       "      <td>NaN</td>\n",
       "      <td>S</td>\n",
       "    </tr>\n",
       "    <tr>\n",
       "      <th>201</th>\n",
       "      <td>202</td>\n",
       "      <td>0</td>\n",
       "      <td>3</td>\n",
       "      <td>Sage, Mr. Frederick</td>\n",
       "      <td>male</td>\n",
       "      <td>NaN</td>\n",
       "      <td>8</td>\n",
       "      <td>2</td>\n",
       "      <td>CA. 2343</td>\n",
       "      <td>69.55</td>\n",
       "      <td>NaN</td>\n",
       "      <td>S</td>\n",
       "    </tr>\n",
       "    <tr>\n",
       "      <th>324</th>\n",
       "      <td>325</td>\n",
       "      <td>0</td>\n",
       "      <td>3</td>\n",
       "      <td>Sage, Mr. George John Jr</td>\n",
       "      <td>male</td>\n",
       "      <td>NaN</td>\n",
       "      <td>8</td>\n",
       "      <td>2</td>\n",
       "      <td>CA. 2343</td>\n",
       "      <td>69.55</td>\n",
       "      <td>NaN</td>\n",
       "      <td>S</td>\n",
       "    </tr>\n",
       "    <tr>\n",
       "      <th>341</th>\n",
       "      <td>342</td>\n",
       "      <td>1</td>\n",
       "      <td>1</td>\n",
       "      <td>Fortune, Miss. Alice Elizabeth</td>\n",
       "      <td>female</td>\n",
       "      <td>24.0</td>\n",
       "      <td>3</td>\n",
       "      <td>2</td>\n",
       "      <td>19950</td>\n",
       "      <td>263.00</td>\n",
       "      <td>C23 C25 C27</td>\n",
       "      <td>S</td>\n",
       "    </tr>\n",
       "    <tr>\n",
       "      <th>792</th>\n",
       "      <td>793</td>\n",
       "      <td>0</td>\n",
       "      <td>3</td>\n",
       "      <td>Sage, Miss. Stella Anna</td>\n",
       "      <td>female</td>\n",
       "      <td>NaN</td>\n",
       "      <td>8</td>\n",
       "      <td>2</td>\n",
       "      <td>CA. 2343</td>\n",
       "      <td>69.55</td>\n",
       "      <td>NaN</td>\n",
       "      <td>S</td>\n",
       "    </tr>\n",
       "    <tr>\n",
       "      <th>846</th>\n",
       "      <td>847</td>\n",
       "      <td>0</td>\n",
       "      <td>3</td>\n",
       "      <td>Sage, Mr. Douglas Bullen</td>\n",
       "      <td>male</td>\n",
       "      <td>NaN</td>\n",
       "      <td>8</td>\n",
       "      <td>2</td>\n",
       "      <td>CA. 2343</td>\n",
       "      <td>69.55</td>\n",
       "      <td>NaN</td>\n",
       "      <td>S</td>\n",
       "    </tr>\n",
       "    <tr>\n",
       "      <th>863</th>\n",
       "      <td>864</td>\n",
       "      <td>0</td>\n",
       "      <td>3</td>\n",
       "      <td>Sage, Miss. Dorothy Edith \"Dolly\"</td>\n",
       "      <td>female</td>\n",
       "      <td>NaN</td>\n",
       "      <td>8</td>\n",
       "      <td>2</td>\n",
       "      <td>CA. 2343</td>\n",
       "      <td>69.55</td>\n",
       "      <td>NaN</td>\n",
       "      <td>S</td>\n",
       "    </tr>\n",
       "  </tbody>\n",
       "</table>\n",
       "</div>"
      ],
      "text/plain": [
       "     PassengerId  Survived  Pclass                               Name     Sex  \\\n",
       "27            28         0       1     Fortune, Mr. Charles Alexander    male   \n",
       "88            89         1       1         Fortune, Miss. Mabel Helen  female   \n",
       "159          160         0       3         Sage, Master. Thomas Henry    male   \n",
       "180          181         0       3       Sage, Miss. Constance Gladys  female   \n",
       "201          202         0       3                Sage, Mr. Frederick    male   \n",
       "324          325         0       3           Sage, Mr. George John Jr    male   \n",
       "341          342         1       1     Fortune, Miss. Alice Elizabeth  female   \n",
       "792          793         0       3            Sage, Miss. Stella Anna  female   \n",
       "846          847         0       3           Sage, Mr. Douglas Bullen    male   \n",
       "863          864         0       3  Sage, Miss. Dorothy Edith \"Dolly\"  female   \n",
       "\n",
       "      Age  SibSp  Parch    Ticket    Fare        Cabin Embarked  \n",
       "27   19.0      3      2     19950  263.00  C23 C25 C27        S  \n",
       "88   23.0      3      2     19950  263.00  C23 C25 C27        S  \n",
       "159   NaN      8      2  CA. 2343   69.55          NaN        S  \n",
       "180   NaN      8      2  CA. 2343   69.55          NaN        S  \n",
       "201   NaN      8      2  CA. 2343   69.55          NaN        S  \n",
       "324   NaN      8      2  CA. 2343   69.55          NaN        S  \n",
       "341  24.0      3      2     19950  263.00  C23 C25 C27        S  \n",
       "792   NaN      8      2  CA. 2343   69.55          NaN        S  \n",
       "846   NaN      8      2  CA. 2343   69.55          NaN        S  \n",
       "863   NaN      8      2  CA. 2343   69.55          NaN        S  "
      ]
     },
     "execution_count": 19,
     "metadata": {},
     "output_type": "execute_result"
    }
   ],
   "source": [
    "# detect outliers\n",
    "final_outlier_list = detect_outliers(train_df, ['Age', 'Fare', 'SibSp', 'Parch'])\n",
    "\n",
    "# show outliers\n",
    "train_df.loc[final_outlier_list]"
   ]
  },
  {
   "cell_type": "code",
   "execution_count": 20,
   "metadata": {
    "execution": {
     "iopub.execute_input": "2021-03-05T11:05:23.639711Z",
     "iopub.status.busy": "2021-03-05T11:05:23.638796Z",
     "iopub.status.idle": "2021-03-05T11:05:23.642894Z",
     "shell.execute_reply": "2021-03-05T11:05:23.642250Z"
    },
    "papermill": {
     "duration": 0.116868,
     "end_time": "2021-03-05T11:05:23.643000",
     "exception": false,
     "start_time": "2021-03-05T11:05:23.526132",
     "status": "completed"
    },
    "tags": []
   },
   "outputs": [],
   "source": [
    "# remove outliers\n",
    "train_df = train_df.drop(final_outlier_list, axis=0).reset_index(drop=True)"
   ]
  },
  {
   "cell_type": "markdown",
   "metadata": {
    "papermill": {
     "duration": 0.107012,
     "end_time": "2021-03-05T11:05:23.857640",
     "exception": false,
     "start_time": "2021-03-05T11:05:23.750628",
     "status": "completed"
    },
    "tags": []
   },
   "source": [
    "<a id='8'></a>\n",
    "# Missing Value\n",
    "* Find Missing Value\n",
    "* Fill Missing Value"
   ]
  },
  {
   "cell_type": "code",
   "execution_count": 21,
   "metadata": {
    "execution": {
     "iopub.execute_input": "2021-03-05T11:05:24.086944Z",
     "iopub.status.busy": "2021-03-05T11:05:24.086195Z",
     "iopub.status.idle": "2021-03-05T11:05:24.089105Z",
     "shell.execute_reply": "2021-03-05T11:05:24.089590Z"
    },
    "papermill": {
     "duration": 0.12193,
     "end_time": "2021-03-05T11:05:24.089735",
     "exception": false,
     "start_time": "2021-03-05T11:05:23.967805",
     "status": "completed"
    },
    "tags": []
   },
   "outputs": [],
   "source": [
    "train_df_len = len(train_df)\n",
    "train_df = pd.concat([train_df,test_df], axis=0).reset_index(drop=True)"
   ]
  },
  {
   "cell_type": "markdown",
   "metadata": {
    "papermill": {
     "duration": 0.108349,
     "end_time": "2021-03-05T11:05:24.305643",
     "exception": false,
     "start_time": "2021-03-05T11:05:24.197294",
     "status": "completed"
    },
    "tags": []
   },
   "source": [
    "<a id='9'></a>\n",
    "# Find Missing Value"
   ]
  },
  {
   "cell_type": "code",
   "execution_count": 22,
   "metadata": {
    "execution": {
     "iopub.execute_input": "2021-03-05T11:05:24.529748Z",
     "iopub.status.busy": "2021-03-05T11:05:24.528765Z",
     "iopub.status.idle": "2021-03-05T11:05:24.532440Z",
     "shell.execute_reply": "2021-03-05T11:05:24.531935Z"
    },
    "papermill": {
     "duration": 0.119934,
     "end_time": "2021-03-05T11:05:24.532553",
     "exception": false,
     "start_time": "2021-03-05T11:05:24.412619",
     "status": "completed"
    },
    "tags": []
   },
   "outputs": [
    {
     "data": {
      "text/plain": [
       "Index(['Survived', 'Age', 'Fare', 'Cabin', 'Embarked'], dtype='object')"
      ]
     },
     "execution_count": 22,
     "metadata": {},
     "output_type": "execute_result"
    }
   ],
   "source": [
    "train_df.columns[train_df.isnull().any()]"
   ]
  },
  {
   "cell_type": "code",
   "execution_count": 23,
   "metadata": {
    "execution": {
     "iopub.execute_input": "2021-03-05T11:05:24.754045Z",
     "iopub.status.busy": "2021-03-05T11:05:24.753347Z",
     "iopub.status.idle": "2021-03-05T11:05:24.759835Z",
     "shell.execute_reply": "2021-03-05T11:05:24.760294Z"
    },
    "papermill": {
     "duration": 0.120127,
     "end_time": "2021-03-05T11:05:24.760451",
     "exception": false,
     "start_time": "2021-03-05T11:05:24.640324",
     "status": "completed"
    },
    "tags": []
   },
   "outputs": [
    {
     "data": {
      "text/plain": [
       "PassengerId       0\n",
       "Survived        418\n",
       "Pclass            0\n",
       "Name              0\n",
       "Sex               0\n",
       "Age             256\n",
       "SibSp             0\n",
       "Parch             0\n",
       "Ticket            0\n",
       "Fare              1\n",
       "Cabin          1007\n",
       "Embarked          2\n",
       "dtype: int64"
      ]
     },
     "execution_count": 23,
     "metadata": {},
     "output_type": "execute_result"
    }
   ],
   "source": [
    "train_df.isnull().sum()"
   ]
  },
  {
   "cell_type": "markdown",
   "metadata": {
    "papermill": {
     "duration": 0.108396,
     "end_time": "2021-03-05T11:05:24.977643",
     "exception": false,
     "start_time": "2021-03-05T11:05:24.869247",
     "status": "completed"
    },
    "tags": []
   },
   "source": [
    "<a id='10'></a>\n",
    "# Fill Missing Value"
   ]
  },
  {
   "cell_type": "markdown",
   "metadata": {
    "papermill": {
     "duration": 0.108131,
     "end_time": "2021-03-05T11:05:25.194292",
     "exception": false,
     "start_time": "2021-03-05T11:05:25.086161",
     "status": "completed"
    },
    "tags": []
   },
   "source": [
    "## Embarked"
   ]
  },
  {
   "cell_type": "code",
   "execution_count": 24,
   "metadata": {
    "execution": {
     "iopub.execute_input": "2021-03-05T11:05:25.422220Z",
     "iopub.status.busy": "2021-03-05T11:05:25.421535Z",
     "iopub.status.idle": "2021-03-05T11:05:25.437048Z",
     "shell.execute_reply": "2021-03-05T11:05:25.436531Z"
    },
    "papermill": {
     "duration": 0.132824,
     "end_time": "2021-03-05T11:05:25.437164",
     "exception": false,
     "start_time": "2021-03-05T11:05:25.304340",
     "status": "completed"
    },
    "tags": []
   },
   "outputs": [
    {
     "data": {
      "text/html": [
       "<div>\n",
       "<style scoped>\n",
       "    .dataframe tbody tr th:only-of-type {\n",
       "        vertical-align: middle;\n",
       "    }\n",
       "\n",
       "    .dataframe tbody tr th {\n",
       "        vertical-align: top;\n",
       "    }\n",
       "\n",
       "    .dataframe thead th {\n",
       "        text-align: right;\n",
       "    }\n",
       "</style>\n",
       "<table border=\"1\" class=\"dataframe\">\n",
       "  <thead>\n",
       "    <tr style=\"text-align: right;\">\n",
       "      <th></th>\n",
       "      <th>PassengerId</th>\n",
       "      <th>Survived</th>\n",
       "      <th>Pclass</th>\n",
       "      <th>Name</th>\n",
       "      <th>Sex</th>\n",
       "      <th>Age</th>\n",
       "      <th>SibSp</th>\n",
       "      <th>Parch</th>\n",
       "      <th>Ticket</th>\n",
       "      <th>Fare</th>\n",
       "      <th>Cabin</th>\n",
       "      <th>Embarked</th>\n",
       "    </tr>\n",
       "  </thead>\n",
       "  <tbody>\n",
       "    <tr>\n",
       "      <th>60</th>\n",
       "      <td>62</td>\n",
       "      <td>1.0</td>\n",
       "      <td>1</td>\n",
       "      <td>Icard, Miss. Amelie</td>\n",
       "      <td>female</td>\n",
       "      <td>38.0</td>\n",
       "      <td>0</td>\n",
       "      <td>0</td>\n",
       "      <td>113572</td>\n",
       "      <td>80.0</td>\n",
       "      <td>B28</td>\n",
       "      <td>NaN</td>\n",
       "    </tr>\n",
       "    <tr>\n",
       "      <th>821</th>\n",
       "      <td>830</td>\n",
       "      <td>1.0</td>\n",
       "      <td>1</td>\n",
       "      <td>Stone, Mrs. George Nelson (Martha Evelyn)</td>\n",
       "      <td>female</td>\n",
       "      <td>62.0</td>\n",
       "      <td>0</td>\n",
       "      <td>0</td>\n",
       "      <td>113572</td>\n",
       "      <td>80.0</td>\n",
       "      <td>B28</td>\n",
       "      <td>NaN</td>\n",
       "    </tr>\n",
       "  </tbody>\n",
       "</table>\n",
       "</div>"
      ],
      "text/plain": [
       "     PassengerId  Survived  Pclass                                       Name  \\\n",
       "60            62       1.0       1                        Icard, Miss. Amelie   \n",
       "821          830       1.0       1  Stone, Mrs. George Nelson (Martha Evelyn)   \n",
       "\n",
       "        Sex   Age  SibSp  Parch  Ticket  Fare Cabin Embarked  \n",
       "60   female  38.0      0      0  113572  80.0   B28      NaN  \n",
       "821  female  62.0      0      0  113572  80.0   B28      NaN  "
      ]
     },
     "execution_count": 24,
     "metadata": {},
     "output_type": "execute_result"
    }
   ],
   "source": [
    "train_df[train_df['Embarked'].isnull() == True]"
   ]
  },
  {
   "cell_type": "code",
   "execution_count": 25,
   "metadata": {
    "execution": {
     "iopub.execute_input": "2021-03-05T11:05:25.664034Z",
     "iopub.status.busy": "2021-03-05T11:05:25.663256Z",
     "iopub.status.idle": "2021-03-05T11:05:25.667051Z",
     "shell.execute_reply": "2021-03-05T11:05:25.666449Z"
    },
    "papermill": {
     "duration": 0.120561,
     "end_time": "2021-03-05T11:05:25.667154",
     "exception": false,
     "start_time": "2021-03-05T11:05:25.546593",
     "status": "completed"
    },
    "tags": []
   },
   "outputs": [
    {
     "data": {
      "text/plain": [
       "S    174\n",
       "C    141\n",
       "Q      3\n",
       "Name: Embarked, dtype: int64"
      ]
     },
     "execution_count": 25,
     "metadata": {},
     "output_type": "execute_result"
    }
   ],
   "source": [
    "train_df['Embarked'][train_df['Pclass']==1].value_counts()"
   ]
  },
  {
   "cell_type": "markdown",
   "metadata": {
    "papermill": {
     "duration": 0.110738,
     "end_time": "2021-03-05T11:05:25.888867",
     "exception": false,
     "start_time": "2021-03-05T11:05:25.778129",
     "status": "completed"
    },
    "tags": []
   },
   "source": [
    "There is not much difference between the number of passengers who embarked from S and embarked from C. Let's check Fare, both passengers paid 80 for Fare, maybe this can help us."
   ]
  },
  {
   "cell_type": "code",
   "execution_count": 26,
   "metadata": {
    "execution": {
     "iopub.execute_input": "2021-03-05T11:05:26.116047Z",
     "iopub.status.busy": "2021-03-05T11:05:26.115381Z",
     "iopub.status.idle": "2021-03-05T11:05:26.275988Z",
     "shell.execute_reply": "2021-03-05T11:05:26.276522Z"
    },
    "papermill": {
     "duration": 0.275659,
     "end_time": "2021-03-05T11:05:26.276669",
     "exception": false,
     "start_time": "2021-03-05T11:05:26.001010",
     "status": "completed"
    },
    "tags": []
   },
   "outputs": [
    {
     "data": {
      "image/png": "[encoded data removed]",
      "text/plain": [
       "<Figure size 432x288 with 1 Axes>"
      ]
     },
     "metadata": {},
     "output_type": "display_data"
    }
   ],
   "source": [
    "train_df.boxplot(column='Fare', by='Embarked')\n",
    "plt.show()"
   ]
  },
  {
   "cell_type": "code",
   "execution_count": 27,
   "metadata": {
    "execution": {
     "iopub.execute_input": "2021-03-05T11:05:26.501246Z",
     "iopub.status.busy": "2021-03-05T11:05:26.500567Z",
     "iopub.status.idle": "2021-03-05T11:05:26.506513Z",
     "shell.execute_reply": "2021-03-05T11:05:26.505843Z"
    },
    "papermill": {
     "duration": 0.119286,
     "end_time": "2021-03-05T11:05:26.506639",
     "exception": false,
     "start_time": "2021-03-05T11:05:26.387353",
     "status": "completed"
    },
    "tags": []
   },
   "outputs": [],
   "source": [
    "train_df['Embarked'] = train_df['Embarked'].fillna('C')"
   ]
  },
  {
   "cell_type": "code",
   "execution_count": 28,
   "metadata": {
    "execution": {
     "iopub.execute_input": "2021-03-05T11:05:26.741333Z",
     "iopub.status.busy": "2021-03-05T11:05:26.740666Z",
     "iopub.status.idle": "2021-03-05T11:05:26.743623Z",
     "shell.execute_reply": "2021-03-05T11:05:26.744154Z"
    },
    "papermill": {
     "duration": 0.126229,
     "end_time": "2021-03-05T11:05:26.744285",
     "exception": false,
     "start_time": "2021-03-05T11:05:26.618056",
     "status": "completed"
    },
    "tags": []
   },
   "outputs": [
    {
     "data": {
      "text/html": [
       "<div>\n",
       "<style scoped>\n",
       "    .dataframe tbody tr th:only-of-type {\n",
       "        vertical-align: middle;\n",
       "    }\n",
       "\n",
       "    .dataframe tbody tr th {\n",
       "        vertical-align: top;\n",
       "    }\n",
       "\n",
       "    .dataframe thead th {\n",
       "        text-align: right;\n",
       "    }\n",
       "</style>\n",
       "<table border=\"1\" class=\"dataframe\">\n",
       "  <thead>\n",
       "    <tr style=\"text-align: right;\">\n",
       "      <th></th>\n",
       "      <th>PassengerId</th>\n",
       "      <th>Survived</th>\n",
       "      <th>Pclass</th>\n",
       "      <th>Name</th>\n",
       "      <th>Sex</th>\n",
       "      <th>Age</th>\n",
       "      <th>SibSp</th>\n",
       "      <th>Parch</th>\n",
       "      <th>Ticket</th>\n",
       "      <th>Fare</th>\n",
       "      <th>Cabin</th>\n",
       "      <th>Embarked</th>\n",
       "    </tr>\n",
       "  </thead>\n",
       "  <tbody>\n",
       "  </tbody>\n",
       "</table>\n",
       "</div>"
      ],
      "text/plain": [
       "Empty DataFrame\n",
       "Columns: [PassengerId, Survived, Pclass, Name, Sex, Age, SibSp, Parch, Ticket, Fare, Cabin, Embarked]\n",
       "Index: []"
      ]
     },
     "execution_count": 28,
     "metadata": {},
     "output_type": "execute_result"
    }
   ],
   "source": [
    "train_df[train_df['Embarked'].isnull() == True]"
   ]
  },
  {
   "cell_type": "markdown",
   "metadata": {
    "papermill": {
     "duration": 0.112046,
     "end_time": "2021-03-05T11:05:26.968849",
     "exception": false,
     "start_time": "2021-03-05T11:05:26.856803",
     "status": "completed"
    },
    "tags": []
   },
   "source": [
    "## Fare"
   ]
  },
  {
   "cell_type": "code",
   "execution_count": 29,
   "metadata": {
    "execution": {
     "iopub.execute_input": "2021-03-05T11:05:27.197936Z",
     "iopub.status.busy": "2021-03-05T11:05:27.197244Z",
     "iopub.status.idle": "2021-03-05T11:05:27.212049Z",
     "shell.execute_reply": "2021-03-05T11:05:27.212603Z"
    },
    "papermill": {
     "duration": 0.131108,
     "end_time": "2021-03-05T11:05:27.212740",
     "exception": false,
     "start_time": "2021-03-05T11:05:27.081632",
     "status": "completed"
    },
    "tags": []
   },
   "outputs": [
    {
     "data": {
      "text/html": [
       "<div>\n",
       "<style scoped>\n",
       "    .dataframe tbody tr th:only-of-type {\n",
       "        vertical-align: middle;\n",
       "    }\n",
       "\n",
       "    .dataframe tbody tr th {\n",
       "        vertical-align: top;\n",
       "    }\n",
       "\n",
       "    .dataframe thead th {\n",
       "        text-align: right;\n",
       "    }\n",
       "</style>\n",
       "<table border=\"1\" class=\"dataframe\">\n",
       "  <thead>\n",
       "    <tr style=\"text-align: right;\">\n",
       "      <th></th>\n",
       "      <th>PassengerId</th>\n",
       "      <th>Survived</th>\n",
       "      <th>Pclass</th>\n",
       "      <th>Name</th>\n",
       "      <th>Sex</th>\n",
       "      <th>Age</th>\n",
       "      <th>SibSp</th>\n",
       "      <th>Parch</th>\n",
       "      <th>Ticket</th>\n",
       "      <th>Fare</th>\n",
       "      <th>Cabin</th>\n",
       "      <th>Embarked</th>\n",
       "    </tr>\n",
       "  </thead>\n",
       "  <tbody>\n",
       "    <tr>\n",
       "      <th>1033</th>\n",
       "      <td>1044</td>\n",
       "      <td>NaN</td>\n",
       "      <td>3</td>\n",
       "      <td>Storey, Mr. Thomas</td>\n",
       "      <td>male</td>\n",
       "      <td>60.5</td>\n",
       "      <td>0</td>\n",
       "      <td>0</td>\n",
       "      <td>3701</td>\n",
       "      <td>NaN</td>\n",
       "      <td>NaN</td>\n",
       "      <td>S</td>\n",
       "    </tr>\n",
       "  </tbody>\n",
       "</table>\n",
       "</div>"
      ],
      "text/plain": [
       "      PassengerId  Survived  Pclass                Name   Sex   Age  SibSp  \\\n",
       "1033         1044       NaN       3  Storey, Mr. Thomas  male  60.5      0   \n",
       "\n",
       "      Parch Ticket  Fare Cabin Embarked  \n",
       "1033      0   3701   NaN   NaN        S  "
      ]
     },
     "execution_count": 29,
     "metadata": {},
     "output_type": "execute_result"
    }
   ],
   "source": [
    "train_df[train_df['Fare'].isnull()==True]"
   ]
  },
  {
   "cell_type": "code",
   "execution_count": 30,
   "metadata": {
    "execution": {
     "iopub.execute_input": "2021-03-05T11:05:27.442171Z",
     "iopub.status.busy": "2021-03-05T11:05:27.441490Z",
     "iopub.status.idle": "2021-03-05T11:05:27.447540Z",
     "shell.execute_reply": "2021-03-05T11:05:27.448120Z"
    },
    "papermill": {
     "duration": 0.121634,
     "end_time": "2021-03-05T11:05:27.448258",
     "exception": false,
     "start_time": "2021-03-05T11:05:27.326624",
     "status": "completed"
    },
    "tags": []
   },
   "outputs": [
    {
     "data": {
      "text/plain": [
       "12.741219971469327"
      ]
     },
     "execution_count": 30,
     "metadata": {},
     "output_type": "execute_result"
    }
   ],
   "source": [
    "train_df['Fare'][train_df.Pclass==3].mean()"
   ]
  },
  {
   "cell_type": "code",
   "execution_count": 31,
   "metadata": {
    "execution": {
     "iopub.execute_input": "2021-03-05T11:05:27.677634Z",
     "iopub.status.busy": "2021-03-05T11:05:27.676996Z",
     "iopub.status.idle": "2021-03-05T11:05:27.682776Z",
     "shell.execute_reply": "2021-03-05T11:05:27.683285Z"
    },
    "papermill": {
     "duration": 0.122497,
     "end_time": "2021-03-05T11:05:27.683438",
     "exception": false,
     "start_time": "2021-03-05T11:05:27.560941",
     "status": "completed"
    },
    "tags": []
   },
   "outputs": [],
   "source": [
    "train_df['Fare'] = train_df['Fare'].fillna(train_df['Fare'][train_df.Pclass==3].mean())"
   ]
  },
  {
   "cell_type": "code",
   "execution_count": 32,
   "metadata": {
    "execution": {
     "iopub.execute_input": "2021-03-05T11:05:27.913516Z",
     "iopub.status.busy": "2021-03-05T11:05:27.912836Z",
     "iopub.status.idle": "2021-03-05T11:05:27.923726Z",
     "shell.execute_reply": "2021-03-05T11:05:27.924230Z"
    },
    "papermill": {
     "duration": 0.127007,
     "end_time": "2021-03-05T11:05:27.924369",
     "exception": false,
     "start_time": "2021-03-05T11:05:27.797362",
     "status": "completed"
    },
    "tags": []
   },
   "outputs": [
    {
     "data": {
      "text/html": [
       "<div>\n",
       "<style scoped>\n",
       "    .dataframe tbody tr th:only-of-type {\n",
       "        vertical-align: middle;\n",
       "    }\n",
       "\n",
       "    .dataframe tbody tr th {\n",
       "        vertical-align: top;\n",
       "    }\n",
       "\n",
       "    .dataframe thead th {\n",
       "        text-align: right;\n",
       "    }\n",
       "</style>\n",
       "<table border=\"1\" class=\"dataframe\">\n",
       "  <thead>\n",
       "    <tr style=\"text-align: right;\">\n",
       "      <th></th>\n",
       "      <th>PassengerId</th>\n",
       "      <th>Survived</th>\n",
       "      <th>Pclass</th>\n",
       "      <th>Name</th>\n",
       "      <th>Sex</th>\n",
       "      <th>Age</th>\n",
       "      <th>SibSp</th>\n",
       "      <th>Parch</th>\n",
       "      <th>Ticket</th>\n",
       "      <th>Fare</th>\n",
       "      <th>Cabin</th>\n",
       "      <th>Embarked</th>\n",
       "    </tr>\n",
       "  </thead>\n",
       "  <tbody>\n",
       "  </tbody>\n",
       "</table>\n",
       "</div>"
      ],
      "text/plain": [
       "Empty DataFrame\n",
       "Columns: [PassengerId, Survived, Pclass, Name, Sex, Age, SibSp, Parch, Ticket, Fare, Cabin, Embarked]\n",
       "Index: []"
      ]
     },
     "execution_count": 32,
     "metadata": {},
     "output_type": "execute_result"
    }
   ],
   "source": [
    "train_df[train_df['Fare'].isnull()==True]"
   ]
  },
  {
   "cell_type": "markdown",
   "metadata": {
    "papermill": {
     "duration": 0.113288,
     "end_time": "2021-03-05T11:05:28.151542",
     "exception": false,
     "start_time": "2021-03-05T11:05:28.038254",
     "status": "completed"
    },
    "tags": []
   },
   "source": [
    "<a id='11'></a>\n",
    "# Visualisation"
   ]
  },
  {
   "cell_type": "markdown",
   "metadata": {
    "papermill": {
     "duration": 0.113275,
     "end_time": "2021-03-05T11:05:28.378634",
     "exception": false,
     "start_time": "2021-03-05T11:05:28.265359",
     "status": "completed"
    },
    "tags": []
   },
   "source": [
    "<a id='12'></a>\n",
    "## [Correlation between SibSp - Parch - Age - Fare - Survived]"
   ]
  },
  {
   "cell_type": "code",
   "execution_count": 33,
   "metadata": {
    "execution": {
     "iopub.execute_input": "2021-03-05T11:05:28.608320Z",
     "iopub.status.busy": "2021-03-05T11:05:28.607714Z",
     "iopub.status.idle": "2021-03-05T11:05:28.859781Z",
     "shell.execute_reply": "2021-03-05T11:05:28.860274Z"
    },
    "papermill": {
     "duration": 0.368529,
     "end_time": "2021-03-05T11:05:28.860455",
     "exception": false,
     "start_time": "2021-03-05T11:05:28.491926",
     "status": "completed"
    },
    "tags": []
   },
   "outputs": [
    {
     "data": {
      "image/png": "[encoded data removed]",
      "text/plain": [
       "<Figure size 432x288 with 2 Axes>"
      ]
     },
     "metadata": {},
     "output_type": "display_data"
    }
   ],
   "source": [
    "list1 = ['SibSp', 'Parch', 'Age', 'Fare', 'Survived']\n",
    "sns.heatmap(train_df[list1].corr(), annot=True, fmt='0.2f')\n",
    "plt.show()"
   ]
  },
  {
   "cell_type": "markdown",
   "metadata": {
    "papermill": {
     "duration": 0.114429,
     "end_time": "2021-03-05T11:05:29.091345",
     "exception": false,
     "start_time": "2021-03-05T11:05:28.976916",
     "status": "completed"
    },
    "tags": []
   },
   "source": [
    "There is significant correlation between Fare and Survived (0.26)."
   ]
  },
  {
   "cell_type": "markdown",
   "metadata": {
    "papermill": {
     "duration": 0.115825,
     "end_time": "2021-03-05T11:05:29.324011",
     "exception": false,
     "start_time": "2021-03-05T11:05:29.208186",
     "status": "completed"
    },
    "tags": []
   },
   "source": [
    "<a id='13'></a>\n",
    "## SibSp - Survived"
   ]
  },
  {
   "cell_type": "code",
   "execution_count": 34,
   "metadata": {
    "execution": {
     "iopub.execute_input": "2021-03-05T11:05:29.562807Z",
     "iopub.status.busy": "2021-03-05T11:05:29.562137Z",
     "iopub.status.idle": "2021-03-05T11:05:29.938548Z",
     "shell.execute_reply": "2021-03-05T11:05:29.937992Z"
    },
    "papermill": {
     "duration": 0.498026,
     "end_time": "2021-03-05T11:05:29.938668",
     "exception": false,
     "start_time": "2021-03-05T11:05:29.440642",
     "status": "completed"
    },
    "tags": []
   },
   "outputs": [
    {
     "data": {
      "image/png": "[encoded data removed]",
      "text/plain": [
       "<Figure size 360x360 with 1 Axes>"
      ]
     },
     "metadata": {},
     "output_type": "display_data"
    }
   ],
   "source": [
    "g = sns.factorplot(x='SibSp', y='Survived', data=train_df, kind='bar')\n",
    "g.set_ylabels('Probability of Survival')\n",
    "plt.show()"
   ]
  },
  {
   "cell_type": "markdown",
   "metadata": {
    "papermill": {
     "duration": 0.116113,
     "end_time": "2021-03-05T11:05:30.171205",
     "exception": false,
     "start_time": "2021-03-05T11:05:30.055092",
     "status": "completed"
    },
    "tags": []
   },
   "source": [
    "* Survival chance is decreasing as SibSp increases.\n",
    "* Passengers with a SibSp of 0, 1 or 2 are more likely to survive.\n",
    "* We can extract a new feature based on SibSp. We can form 2 groups, ones having a SibSp of 2 or less, and ones having a SibSp of 3 or more."
   ]
  },
  {
   "cell_type": "markdown",
   "metadata": {
    "papermill": {
     "duration": 0.119191,
     "end_time": "2021-03-05T11:05:30.445494",
     "exception": false,
     "start_time": "2021-03-05T11:05:30.326303",
     "status": "completed"
    },
    "tags": []
   },
   "source": [
    "<a id='14'></a>\n",
    "## Parch - Survived"
   ]
  },
  {
   "cell_type": "code",
   "execution_count": 35,
   "metadata": {
    "execution": {
     "iopub.execute_input": "2021-03-05T11:05:30.683860Z",
     "iopub.status.busy": "2021-03-05T11:05:30.683190Z",
     "iopub.status.idle": "2021-03-05T11:05:31.058950Z",
     "shell.execute_reply": "2021-03-05T11:05:31.057916Z"
    },
    "papermill": {
     "duration": 0.496948,
     "end_time": "2021-03-05T11:05:31.059080",
     "exception": false,
     "start_time": "2021-03-05T11:05:30.562132",
     "status": "completed"
    },
    "tags": []
   },
   "outputs": [
    {
     "data": {
      "image/png": "[encoded data removed]",
      "text/plain": [
       "<Figure size 360x360 with 1 Axes>"
      ]
     },
     "metadata": {},
     "output_type": "display_data"
    }
   ],
   "source": [
    "g = sns.factorplot(x='Parch', y='Survived', data=train_df, kind='bar')\n",
    "g.set_ylabels('Probability of Survival')\n",
    "plt.show()"
   ]
  },
  {
   "cell_type": "markdown",
   "metadata": {
    "papermill": {
     "duration": 0.116687,
     "end_time": "2021-03-05T11:05:31.292758",
     "exception": false,
     "start_time": "2021-03-05T11:05:31.176071",
     "status": "completed"
    },
    "tags": []
   },
   "source": [
    "* Passengers with a Parch of 3 or less (small families) have more chance to survive.\n",
    "* We can combine Parch and SibSp wtih th=3 to extract a new feature.\n",
    "* Survival probablity of Parch=3 has a significant standard deviation."
   ]
  },
  {
   "cell_type": "markdown",
   "metadata": {
    "papermill": {
     "duration": 0.115576,
     "end_time": "2021-03-05T11:05:31.526503",
     "exception": false,
     "start_time": "2021-03-05T11:05:31.410927",
     "status": "completed"
    },
    "tags": []
   },
   "source": [
    "<a id='15'></a>\n",
    "## Pclass - Survived"
   ]
  },
  {
   "cell_type": "code",
   "execution_count": 36,
   "metadata": {
    "execution": {
     "iopub.execute_input": "2021-03-05T11:05:31.768080Z",
     "iopub.status.busy": "2021-03-05T11:05:31.767412Z",
     "iopub.status.idle": "2021-03-05T11:05:32.030337Z",
     "shell.execute_reply": "2021-03-05T11:05:32.031028Z"
    },
    "papermill": {
     "duration": 0.387687,
     "end_time": "2021-03-05T11:05:32.031180",
     "exception": false,
     "start_time": "2021-03-05T11:05:31.643493",
     "status": "completed"
    },
    "tags": []
   },
   "outputs": [
    {
     "data": {
      "image/png": "[encoded data removed]",
      "text/plain": [
       "<Figure size 360x360 with 1 Axes>"
      ]
     },
     "metadata": {},
     "output_type": "display_data"
    }
   ],
   "source": [
    "g = sns.factorplot(x='Pclass', y='Survived', data=train_df, kind='bar')\n",
    "g.set_ylabels('Probability of Survival')\n",
    "plt.show()"
   ]
  },
  {
   "cell_type": "markdown",
   "metadata": {
    "papermill": {
     "duration": 0.11834,
     "end_time": "2021-03-05T11:05:32.268252",
     "exception": false,
     "start_time": "2021-03-05T11:05:32.149912",
     "status": "completed"
    },
    "tags": []
   },
   "source": [
    "As you may have guessed, passengers with higher classes have more chance to survive."
   ]
  },
  {
   "cell_type": "markdown",
   "metadata": {
    "papermill": {
     "duration": 0.11715,
     "end_time": "2021-03-05T11:05:32.504065",
     "exception": false,
     "start_time": "2021-03-05T11:05:32.386915",
     "status": "completed"
    },
    "tags": []
   },
   "source": [
    "<a id='16'></a>\n",
    "## Age - Survived"
   ]
  },
  {
   "cell_type": "code",
   "execution_count": 37,
   "metadata": {
    "execution": {
     "iopub.execute_input": "2021-03-05T11:05:32.745961Z",
     "iopub.status.busy": "2021-03-05T11:05:32.745251Z",
     "iopub.status.idle": "2021-03-05T11:05:33.160242Z",
     "shell.execute_reply": "2021-03-05T11:05:33.160804Z"
    },
    "papermill": {
     "duration": 0.537266,
     "end_time": "2021-03-05T11:05:33.160945",
     "exception": false,
     "start_time": "2021-03-05T11:05:32.623679",
     "status": "completed"
    },
    "tags": []
   },
   "outputs": [
    {
     "data": {
      "image/png": "[encoded data removed]",
      "text/plain": [
       "<Figure size 432x216 with 2 Axes>"
      ]
     },
     "metadata": {},
     "output_type": "display_data"
    }
   ],
   "source": [
    "g = sns.FacetGrid(train_df, col='Survived')\n",
    "g.map(sns.distplot, 'Age', bins=25)\n",
    "plt.show()"
   ]
  },
  {
   "cell_type": "markdown",
   "metadata": {
    "papermill": {
     "duration": 0.118261,
     "end_time": "2021-03-05T11:05:33.397382",
     "exception": false,
     "start_time": "2021-03-05T11:05:33.279121",
     "status": "completed"
    },
    "tags": []
   },
   "source": [
    "* Children <=10 have a high survival rate.\n",
    "* Oldest people also seems mostly survived.\n",
    "* People in their 20s are mostly dead.\n",
    "* Most of the passengers are between 15 and 35.\n",
    "* Use Age feature in training.\n",
    "* Use Age distribution to fill missing values of Age."
   ]
  },
  {
   "cell_type": "markdown",
   "metadata": {
    "papermill": {
     "duration": 0.117447,
     "end_time": "2021-03-05T11:05:33.633356",
     "exception": false,
     "start_time": "2021-03-05T11:05:33.515909",
     "status": "completed"
    },
    "tags": []
   },
   "source": [
    "<a id='17'></a>\n",
    "## Pclass - Age - Survived"
   ]
  },
  {
   "cell_type": "code",
   "execution_count": 38,
   "metadata": {
    "execution": {
     "iopub.execute_input": "2021-03-05T11:05:33.873783Z",
     "iopub.status.busy": "2021-03-05T11:05:33.873117Z",
     "iopub.status.idle": "2021-03-05T11:05:34.645331Z",
     "shell.execute_reply": "2021-03-05T11:05:34.645875Z"
    },
    "papermill": {
     "duration": 0.894991,
     "end_time": "2021-03-05T11:05:34.646016",
     "exception": false,
     "start_time": "2021-03-05T11:05:33.751025",
     "status": "completed"
    },
    "tags": []
   },
   "outputs": [
    {
     "data": {
      "image/png": "[encoded data removed]",
      "text/plain": [
       "<Figure size 872x432 with 2 Axes>"
      ]
     },
     "metadata": {},
     "output_type": "display_data"
    }
   ],
   "source": [
    "g = sns.FacetGrid(train_df[train_df.Fare<=300], col='Survived', size=6)\n",
    "g.map(plt.hist, 'Fare', bins=50)\n",
    "g.add_legend()\n",
    "plt.show()"
   ]
  },
  {
   "cell_type": "code",
   "execution_count": 39,
   "metadata": {
    "execution": {
     "iopub.execute_input": "2021-03-05T11:05:34.888961Z",
     "iopub.status.busy": "2021-03-05T11:05:34.888196Z",
     "iopub.status.idle": "2021-03-05T11:05:36.928944Z",
     "shell.execute_reply": "2021-03-05T11:05:36.928248Z"
    },
    "papermill": {
     "duration": 2.163818,
     "end_time": "2021-03-05T11:05:36.929059",
     "exception": false,
     "start_time": "2021-03-05T11:05:34.765241",
     "status": "completed"
    },
    "tags": []
   },
   "outputs": [
    {
     "data": {
      "image/png": "[encoded data removed]",
      "text/plain": [
       "<Figure size 296x432 with 6 Axes>"
      ]
     },
     "metadata": {},
     "output_type": "display_data"
    }
   ],
   "source": [
    "g = sns.FacetGrid(train_df, col='Survived', row='Pclass', size=2)\n",
    "g.map(plt.hist, 'Age', bins=25)\n",
    "g.add_legend()\n",
    "plt.show()"
   ]
  },
  {
   "cell_type": "markdown",
   "metadata": {
    "papermill": {
     "duration": 0.120087,
     "end_time": "2021-03-05T11:05:37.169205",
     "exception": false,
     "start_time": "2021-03-05T11:05:37.049118",
     "status": "completed"
    },
    "tags": []
   },
   "source": [
    "* Most of the passengers are Pclass 3. And most of the Pclass 3 passengers are dead.\n",
    "* Survival rate increases as the Pclass increases.\n",
    "* Pclass is an important feature for our model."
   ]
  },
  {
   "cell_type": "markdown",
   "metadata": {
    "papermill": {
     "duration": 0.120399,
     "end_time": "2021-03-05T11:05:37.412594",
     "exception": false,
     "start_time": "2021-03-05T11:05:37.292195",
     "status": "completed"
    },
    "tags": []
   },
   "source": [
    "<a id='18'></a>\n",
    "## Embarked - Sex - Pclass - Survived"
   ]
  },
  {
   "cell_type": "code",
   "execution_count": 40,
   "metadata": {
    "execution": {
     "iopub.execute_input": "2021-03-05T11:05:37.661527Z",
     "iopub.status.busy": "2021-03-05T11:05:37.660480Z",
     "iopub.status.idle": "2021-03-05T11:05:38.757231Z",
     "shell.execute_reply": "2021-03-05T11:05:38.756716Z"
    },
    "papermill": {
     "duration": 1.22472,
     "end_time": "2021-03-05T11:05:38.757346",
     "exception": false,
     "start_time": "2021-03-05T11:05:37.532626",
     "status": "completed"
    },
    "tags": []
   },
   "outputs": [
    {
     "data": {
      "image/png": "[encoded data removed]",
      "text/plain": [
       "<Figure size 210.125x432 with 3 Axes>"
      ]
     },
     "metadata": {},
     "output_type": "display_data"
    }
   ],
   "source": [
    "g = sns.FacetGrid(train_df, row='Embarked', size=2)\n",
    "g.map(sns.pointplot, 'Pclass', 'Survived', 'Sex')\n",
    "g.add_legend()\n",
    "plt.show()"
   ]
  },
  {
   "cell_type": "markdown",
   "metadata": {
    "papermill": {
     "duration": 0.120328,
     "end_time": "2021-03-05T11:05:39.000303",
     "exception": false,
     "start_time": "2021-03-05T11:05:38.879975",
     "status": "completed"
    },
    "tags": []
   },
   "source": [
    "* Females have more chance to survive.\n",
    "* Males in Pclass 3 embarked in C have more chance to survive.\n",
    "* Embarked and Sex will be used in training our model."
   ]
  },
  {
   "cell_type": "markdown",
   "metadata": {
    "papermill": {
     "duration": 0.120591,
     "end_time": "2021-03-05T11:05:39.242401",
     "exception": false,
     "start_time": "2021-03-05T11:05:39.121810",
     "status": "completed"
    },
    "tags": []
   },
   "source": [
    "<a id='19'></a>\n",
    "## Embarked - Sex - Fare - Survived"
   ]
  },
  {
   "cell_type": "code",
   "execution_count": 41,
   "metadata": {
    "execution": {
     "iopub.execute_input": "2021-03-05T11:05:39.497022Z",
     "iopub.status.busy": "2021-03-05T11:05:39.492016Z",
     "iopub.status.idle": "2021-03-05T11:05:40.900020Z",
     "shell.execute_reply": "2021-03-05T11:05:40.900556Z"
    },
    "papermill": {
     "duration": 1.536675,
     "end_time": "2021-03-05T11:05:40.900694",
     "exception": false,
     "start_time": "2021-03-05T11:05:39.364019",
     "status": "completed"
    },
    "tags": []
   },
   "outputs": [
    {
     "data": {
      "image/png": "[encoded data removed]",
      "text/plain": [
       "<Figure size 339.2x496.8 with 6 Axes>"
      ]
     },
     "metadata": {},
     "output_type": "display_data"
    }
   ],
   "source": [
    "g = sns.FacetGrid(train_df, row='Embarked', col='Survived', size=2.3)\n",
    "g.map(sns.barplot, 'Sex', 'Fare' )\n",
    "g.add_legend()\n",
    "plt.show()"
   ]
  },
  {
   "cell_type": "markdown",
   "metadata": {
    "papermill": {
     "duration": 0.122284,
     "end_time": "2021-03-05T11:05:41.145576",
     "exception": false,
     "start_time": "2021-03-05T11:05:41.023292",
     "status": "completed"
    },
    "tags": []
   },
   "source": [
    "* Passengers who had paid more have more chance to survive.\n",
    "* Fare feature can be turned into categorical by determining thresholds.\n",
    "* People embarked in Q have more chance to survive."
   ]
  },
  {
   "cell_type": "markdown",
   "metadata": {
    "papermill": {
     "duration": 0.137327,
     "end_time": "2021-03-05T11:05:41.429572",
     "exception": false,
     "start_time": "2021-03-05T11:05:41.292245",
     "status": "completed"
    },
    "tags": []
   },
   "source": [
    "## Fare - Survived"
   ]
  },
  {
   "cell_type": "code",
   "execution_count": 42,
   "metadata": {
    "execution": {
     "iopub.execute_input": "2021-03-05T11:05:41.689173Z",
     "iopub.status.busy": "2021-03-05T11:05:41.681884Z",
     "iopub.status.idle": "2021-03-05T11:05:41.999019Z",
     "shell.execute_reply": "2021-03-05T11:05:41.998529Z"
    },
    "papermill": {
     "duration": 0.447151,
     "end_time": "2021-03-05T11:05:41.999129",
     "exception": false,
     "start_time": "2021-03-05T11:05:41.551978",
     "status": "completed"
    },
    "tags": []
   },
   "outputs": [
    {
     "data": {
      "image/png": "[encoded data removed]",
      "text/plain": [
       "<Figure size 360x360 with 1 Axes>"
      ]
     },
     "metadata": {},
     "output_type": "display_data"
    }
   ],
   "source": [
    "g = sns.factorplot(x='Survived', y='Fare', data=train_df, kind='bar')\n",
    "plt.show()"
   ]
  },
  {
   "cell_type": "markdown",
   "metadata": {
    "papermill": {
     "duration": 0.12863,
     "end_time": "2021-03-05T11:05:42.252203",
     "exception": false,
     "start_time": "2021-03-05T11:05:42.123573",
     "status": "completed"
    },
    "tags": []
   },
   "source": [
    "<a id='20'></a>\n",
    "## Fill Missing: Age Feature"
   ]
  },
  {
   "cell_type": "code",
   "execution_count": 43,
   "metadata": {
    "execution": {
     "iopub.execute_input": "2021-03-05T11:05:42.521699Z",
     "iopub.status.busy": "2021-03-05T11:05:42.512022Z",
     "iopub.status.idle": "2021-03-05T11:05:42.533083Z",
     "shell.execute_reply": "2021-03-05T11:05:42.532470Z"
    },
    "papermill": {
     "duration": 0.155189,
     "end_time": "2021-03-05T11:05:42.533191",
     "exception": false,
     "start_time": "2021-03-05T11:05:42.378002",
     "status": "completed"
    },
    "tags": []
   },
   "outputs": [
    {
     "data": {
      "text/html": [
       "<div>\n",
       "<style scoped>\n",
       "    .dataframe tbody tr th:only-of-type {\n",
       "        vertical-align: middle;\n",
       "    }\n",
       "\n",
       "    .dataframe tbody tr th {\n",
       "        vertical-align: top;\n",
       "    }\n",
       "\n",
       "    .dataframe thead th {\n",
       "        text-align: right;\n",
       "    }\n",
       "</style>\n",
       "<table border=\"1\" class=\"dataframe\">\n",
       "  <thead>\n",
       "    <tr style=\"text-align: right;\">\n",
       "      <th></th>\n",
       "      <th>PassengerId</th>\n",
       "      <th>Survived</th>\n",
       "      <th>Pclass</th>\n",
       "      <th>Name</th>\n",
       "      <th>Sex</th>\n",
       "      <th>Age</th>\n",
       "      <th>SibSp</th>\n",
       "      <th>Parch</th>\n",
       "      <th>Ticket</th>\n",
       "      <th>Fare</th>\n",
       "      <th>Cabin</th>\n",
       "      <th>Embarked</th>\n",
       "    </tr>\n",
       "  </thead>\n",
       "  <tbody>\n",
       "    <tr>\n",
       "      <th>5</th>\n",
       "      <td>6</td>\n",
       "      <td>0.0</td>\n",
       "      <td>3</td>\n",
       "      <td>Moran, Mr. James</td>\n",
       "      <td>male</td>\n",
       "      <td>NaN</td>\n",
       "      <td>0</td>\n",
       "      <td>0</td>\n",
       "      <td>330877</td>\n",
       "      <td>8.4583</td>\n",
       "      <td>NaN</td>\n",
       "      <td>Q</td>\n",
       "    </tr>\n",
       "    <tr>\n",
       "      <th>17</th>\n",
       "      <td>18</td>\n",
       "      <td>1.0</td>\n",
       "      <td>2</td>\n",
       "      <td>Williams, Mr. Charles Eugene</td>\n",
       "      <td>male</td>\n",
       "      <td>NaN</td>\n",
       "      <td>0</td>\n",
       "      <td>0</td>\n",
       "      <td>244373</td>\n",
       "      <td>13.0000</td>\n",
       "      <td>NaN</td>\n",
       "      <td>S</td>\n",
       "    </tr>\n",
       "    <tr>\n",
       "      <th>19</th>\n",
       "      <td>20</td>\n",
       "      <td>1.0</td>\n",
       "      <td>3</td>\n",
       "      <td>Masselmani, Mrs. Fatima</td>\n",
       "      <td>female</td>\n",
       "      <td>NaN</td>\n",
       "      <td>0</td>\n",
       "      <td>0</td>\n",
       "      <td>2649</td>\n",
       "      <td>7.2250</td>\n",
       "      <td>NaN</td>\n",
       "      <td>C</td>\n",
       "    </tr>\n",
       "    <tr>\n",
       "      <th>26</th>\n",
       "      <td>27</td>\n",
       "      <td>0.0</td>\n",
       "      <td>3</td>\n",
       "      <td>Emir, Mr. Farred Chehab</td>\n",
       "      <td>male</td>\n",
       "      <td>NaN</td>\n",
       "      <td>0</td>\n",
       "      <td>0</td>\n",
       "      <td>2631</td>\n",
       "      <td>7.2250</td>\n",
       "      <td>NaN</td>\n",
       "      <td>C</td>\n",
       "    </tr>\n",
       "    <tr>\n",
       "      <th>27</th>\n",
       "      <td>29</td>\n",
       "      <td>1.0</td>\n",
       "      <td>3</td>\n",
       "      <td>O'Dwyer, Miss. Ellen \"Nellie\"</td>\n",
       "      <td>female</td>\n",
       "      <td>NaN</td>\n",
       "      <td>0</td>\n",
       "      <td>0</td>\n",
       "      <td>330959</td>\n",
       "      <td>7.8792</td>\n",
       "      <td>NaN</td>\n",
       "      <td>Q</td>\n",
       "    </tr>\n",
       "    <tr>\n",
       "      <th>...</th>\n",
       "      <td>...</td>\n",
       "      <td>...</td>\n",
       "      <td>...</td>\n",
       "      <td>...</td>\n",
       "      <td>...</td>\n",
       "      <td>...</td>\n",
       "      <td>...</td>\n",
       "      <td>...</td>\n",
       "      <td>...</td>\n",
       "      <td>...</td>\n",
       "      <td>...</td>\n",
       "      <td>...</td>\n",
       "    </tr>\n",
       "    <tr>\n",
       "      <th>1289</th>\n",
       "      <td>1300</td>\n",
       "      <td>NaN</td>\n",
       "      <td>3</td>\n",
       "      <td>Riordan, Miss. Johanna Hannah\"\"</td>\n",
       "      <td>female</td>\n",
       "      <td>NaN</td>\n",
       "      <td>0</td>\n",
       "      <td>0</td>\n",
       "      <td>334915</td>\n",
       "      <td>7.7208</td>\n",
       "      <td>NaN</td>\n",
       "      <td>Q</td>\n",
       "    </tr>\n",
       "    <tr>\n",
       "      <th>1291</th>\n",
       "      <td>1302</td>\n",
       "      <td>NaN</td>\n",
       "      <td>3</td>\n",
       "      <td>Naughton, Miss. Hannah</td>\n",
       "      <td>female</td>\n",
       "      <td>NaN</td>\n",
       "      <td>0</td>\n",
       "      <td>0</td>\n",
       "      <td>365237</td>\n",
       "      <td>7.7500</td>\n",
       "      <td>NaN</td>\n",
       "      <td>Q</td>\n",
       "    </tr>\n",
       "    <tr>\n",
       "      <th>1294</th>\n",
       "      <td>1305</td>\n",
       "      <td>NaN</td>\n",
       "      <td>3</td>\n",
       "      <td>Spector, Mr. Woolf</td>\n",
       "      <td>male</td>\n",
       "      <td>NaN</td>\n",
       "      <td>0</td>\n",
       "      <td>0</td>\n",
       "      <td>A.5. 3236</td>\n",
       "      <td>8.0500</td>\n",
       "      <td>NaN</td>\n",
       "      <td>S</td>\n",
       "    </tr>\n",
       "    <tr>\n",
       "      <th>1297</th>\n",
       "      <td>1308</td>\n",
       "      <td>NaN</td>\n",
       "      <td>3</td>\n",
       "      <td>Ware, Mr. Frederick</td>\n",
       "      <td>male</td>\n",
       "      <td>NaN</td>\n",
       "      <td>0</td>\n",
       "      <td>0</td>\n",
       "      <td>359309</td>\n",
       "      <td>8.0500</td>\n",
       "      <td>NaN</td>\n",
       "      <td>S</td>\n",
       "    </tr>\n",
       "    <tr>\n",
       "      <th>1298</th>\n",
       "      <td>1309</td>\n",
       "      <td>NaN</td>\n",
       "      <td>3</td>\n",
       "      <td>Peter, Master. Michael J</td>\n",
       "      <td>male</td>\n",
       "      <td>NaN</td>\n",
       "      <td>1</td>\n",
       "      <td>1</td>\n",
       "      <td>2668</td>\n",
       "      <td>22.3583</td>\n",
       "      <td>NaN</td>\n",
       "      <td>C</td>\n",
       "    </tr>\n",
       "  </tbody>\n",
       "</table>\n",
       "<p>256 rows × 12 columns</p>\n",
       "</div>"
      ],
      "text/plain": [
       "      PassengerId  Survived  Pclass                             Name     Sex  \\\n",
       "5               6       0.0       3                 Moran, Mr. James    male   \n",
       "17             18       1.0       2     Williams, Mr. Charles Eugene    male   \n",
       "19             20       1.0       3          Masselmani, Mrs. Fatima  female   \n",
       "26             27       0.0       3          Emir, Mr. Farred Chehab    male   \n",
       "27             29       1.0       3    O'Dwyer, Miss. Ellen \"Nellie\"  female   \n",
       "...           ...       ...     ...                              ...     ...   \n",
       "1289         1300       NaN       3  Riordan, Miss. Johanna Hannah\"\"  female   \n",
       "1291         1302       NaN       3           Naughton, Miss. Hannah  female   \n",
       "1294         1305       NaN       3               Spector, Mr. Woolf    male   \n",
       "1297         1308       NaN       3              Ware, Mr. Frederick    male   \n",
       "1298         1309       NaN       3         Peter, Master. Michael J    male   \n",
       "\n",
       "      Age  SibSp  Parch     Ticket     Fare Cabin Embarked  \n",
       "5     NaN      0      0     330877   8.4583   NaN        Q  \n",
       "17    NaN      0      0     244373  13.0000   NaN        S  \n",
       "19    NaN      0      0       2649   7.2250   NaN        C  \n",
       "26    NaN      0      0       2631   7.2250   NaN        C  \n",
       "27    NaN      0      0     330959   7.8792   NaN        Q  \n",
       "...   ...    ...    ...        ...      ...   ...      ...  \n",
       "1289  NaN      0      0     334915   7.7208   NaN        Q  \n",
       "1291  NaN      0      0     365237   7.7500   NaN        Q  \n",
       "1294  NaN      0      0  A.5. 3236   8.0500   NaN        S  \n",
       "1297  NaN      0      0     359309   8.0500   NaN        S  \n",
       "1298  NaN      1      1       2668  22.3583   NaN        C  \n",
       "\n",
       "[256 rows x 12 columns]"
      ]
     },
     "execution_count": 43,
     "metadata": {},
     "output_type": "execute_result"
    }
   ],
   "source": [
    "train_df[train_df['Age'].isnull()]"
   ]
  },
  {
   "cell_type": "code",
   "execution_count": 44,
   "metadata": {
    "execution": {
     "iopub.execute_input": "2021-03-05T11:05:42.791811Z",
     "iopub.status.busy": "2021-03-05T11:05:42.790736Z",
     "iopub.status.idle": "2021-03-05T11:05:42.968821Z",
     "shell.execute_reply": "2021-03-05T11:05:42.968282Z"
    },
    "papermill": {
     "duration": 0.308414,
     "end_time": "2021-03-05T11:05:42.968939",
     "exception": false,
     "start_time": "2021-03-05T11:05:42.660525",
     "status": "completed"
    },
    "tags": []
   },
   "outputs": [
    {
     "data": {
      "image/png": "[encoded data removed]",
      "text/plain": [
       "<Figure size 360x360 with 1 Axes>"
      ]
     },
     "metadata": {},
     "output_type": "display_data"
    }
   ],
   "source": [
    "sns.factorplot(x='Sex', y='Age', data=train_df, kind='box')\n",
    "plt.show()"
   ]
  },
  {
   "cell_type": "markdown",
   "metadata": {
    "papermill": {
     "duration": 0.125458,
     "end_time": "2021-03-05T11:05:43.220999",
     "exception": false,
     "start_time": "2021-03-05T11:05:43.095541",
     "status": "completed"
    },
    "tags": []
   },
   "source": [
    "Age distribution seems very similar for males and females. Sex is not informative for age prediction."
   ]
  },
  {
   "cell_type": "code",
   "execution_count": 45,
   "metadata": {
    "execution": {
     "iopub.execute_input": "2021-03-05T11:05:43.478537Z",
     "iopub.status.busy": "2021-03-05T11:05:43.477603Z",
     "iopub.status.idle": "2021-03-05T11:05:43.804014Z",
     "shell.execute_reply": "2021-03-05T11:05:43.803291Z"
    },
    "papermill": {
     "duration": 0.458042,
     "end_time": "2021-03-05T11:05:43.804143",
     "exception": false,
     "start_time": "2021-03-05T11:05:43.346101",
     "status": "completed"
    },
    "tags": []
   },
   "outputs": [
    {
     "data": {
      "image/png": "[encoded data removed]",
      "text/plain": [
       "<Figure size 401.625x360 with 1 Axes>"
      ]
     },
     "metadata": {},
     "output_type": "display_data"
    }
   ],
   "source": [
    "sns.factorplot(x='Sex', y='Age', hue='Pclass', data=train_df, kind='box')\n",
    "plt.show()"
   ]
  },
  {
   "cell_type": "markdown",
   "metadata": {
    "papermill": {
     "duration": 0.126038,
     "end_time": "2021-03-05T11:05:44.057107",
     "exception": false,
     "start_time": "2021-03-05T11:05:43.931069",
     "status": "completed"
    },
    "tags": []
   },
   "source": [
    "* Pclass 1 passengers approximately have a median of 40.\n",
    "* Pclass 2 passengers approximately have a median of 30.\n",
    "* Pclass 3 passengers approximately have a median of 24.\n",
    "\n",
    "Pclass can be used for age prediction."
   ]
  },
  {
   "cell_type": "code",
   "execution_count": 46,
   "metadata": {
    "execution": {
     "iopub.execute_input": "2021-03-05T11:05:44.318280Z",
     "iopub.status.busy": "2021-03-05T11:05:44.317440Z",
     "iopub.status.idle": "2021-03-05T11:05:44.842218Z",
     "shell.execute_reply": "2021-03-05T11:05:44.841675Z"
    },
    "papermill": {
     "duration": 0.65751,
     "end_time": "2021-03-05T11:05:44.842338",
     "exception": false,
     "start_time": "2021-03-05T11:05:44.184828",
     "status": "completed"
    },
    "tags": []
   },
   "outputs": [
    {
     "data": {
      "image/png": "[encoded data removed]",
      "text/plain": [
       "<Figure size 360x360 with 1 Axes>"
      ]
     },
     "metadata": {},
     "output_type": "display_data"
    },
    {
     "data": {
      "image/png": "[encoded data removed]",
      "text/plain": [
       "<Figure size 360x360 with 1 Axes>"
      ]
     },
     "metadata": {},
     "output_type": "display_data"
    }
   ],
   "source": [
    "sns.factorplot(x='Parch', y='Age', data=train_df, kind='box')\n",
    "sns.factorplot(x='SibSp', y='Age', data=train_df, kind='box')\n",
    "plt.show()"
   ]
  },
  {
   "cell_type": "code",
   "execution_count": 47,
   "metadata": {
    "execution": {
     "iopub.execute_input": "2021-03-05T11:05:45.113747Z",
     "iopub.status.busy": "2021-03-05T11:05:45.109803Z",
     "iopub.status.idle": "2021-03-05T11:05:45.303951Z",
     "shell.execute_reply": "2021-03-05T11:05:45.303373Z"
    },
    "papermill": {
     "duration": 0.332625,
     "end_time": "2021-03-05T11:05:45.304062",
     "exception": false,
     "start_time": "2021-03-05T11:05:44.971437",
     "status": "completed"
    },
    "tags": []
   },
   "outputs": [
    {
     "data": {
      "image/png": "[encoded data removed]",
      "text/plain": [
       "<Figure size 432x288 with 2 Axes>"
      ]
     },
     "metadata": {},
     "output_type": "display_data"
    }
   ],
   "source": [
    "sns.heatmap(train_df[['Age','Sex','SibSp','Parch','Pclass']].corr(), annot=True, fmt='0.3f')\n",
    "plt.show()"
   ]
  },
  {
   "cell_type": "markdown",
   "metadata": {
    "papermill": {
     "duration": 0.12845,
     "end_time": "2021-03-05T11:05:45.563124",
     "exception": false,
     "start_time": "2021-03-05T11:05:45.434674",
     "status": "completed"
    },
    "tags": []
   },
   "source": [
    "We cannot see Sex feature on the heatmap, since it has string values. It has to be consisted of numeric values, to be included in the heatmap."
   ]
  },
  {
   "cell_type": "code",
   "execution_count": 48,
   "metadata": {
    "execution": {
     "iopub.execute_input": "2021-03-05T11:05:45.829505Z",
     "iopub.status.busy": "2021-03-05T11:05:45.828822Z",
     "iopub.status.idle": "2021-03-05T11:05:45.831624Z",
     "shell.execute_reply": "2021-03-05T11:05:45.830962Z"
    },
    "papermill": {
     "duration": 0.139369,
     "end_time": "2021-03-05T11:05:45.831738",
     "exception": false,
     "start_time": "2021-03-05T11:05:45.692369",
     "status": "completed"
    },
    "tags": []
   },
   "outputs": [],
   "source": [
    "train_df['Sex']=list(1 if i=='male' else 0 for i in train_df['Sex'])"
   ]
  },
  {
   "cell_type": "code",
   "execution_count": 49,
   "metadata": {
    "execution": {
     "iopub.execute_input": "2021-03-05T11:05:46.140658Z",
     "iopub.status.busy": "2021-03-05T11:05:46.139911Z",
     "iopub.status.idle": "2021-03-05T11:05:46.360198Z",
     "shell.execute_reply": "2021-03-05T11:05:46.360718Z"
    },
    "papermill": {
     "duration": 0.358026,
     "end_time": "2021-03-05T11:05:46.360875",
     "exception": false,
     "start_time": "2021-03-05T11:05:46.002849",
     "status": "completed"
    },
    "tags": []
   },
   "outputs": [
    {
     "data": {
      "image/png": "[encoded data removed]",
      "text/plain": [
       "<Figure size 432x288 with 2 Axes>"
      ]
     },
     "metadata": {},
     "output_type": "display_data"
    }
   ],
   "source": [
    "sns.heatmap(train_df[['Age','Sex','SibSp','Parch','Pclass']].corr(), annot=True, fmt='0.3f')\n",
    "plt.show()"
   ]
  },
  {
   "cell_type": "markdown",
   "metadata": {
    "papermill": {
     "duration": 0.129958,
     "end_time": "2021-03-05T11:05:46.622272",
     "exception": false,
     "start_time": "2021-03-05T11:05:46.492314",
     "status": "completed"
    },
    "tags": []
   },
   "source": [
    "* There is no correlation between Age and Sex, as we have noticed before.\n",
    "* There is some correlation between Age and SibSp, Parch, Pclass."
   ]
  },
  {
   "cell_type": "code",
   "execution_count": 50,
   "metadata": {
    "execution": {
     "iopub.execute_input": "2021-03-05T11:05:46.885983Z",
     "iopub.status.busy": "2021-03-05T11:05:46.885278Z",
     "iopub.status.idle": "2021-03-05T11:05:46.890659Z",
     "shell.execute_reply": "2021-03-05T11:05:46.891137Z"
    },
    "papermill": {
     "duration": 0.139055,
     "end_time": "2021-03-05T11:05:46.891293",
     "exception": false,
     "start_time": "2021-03-05T11:05:46.752238",
     "status": "completed"
    },
    "tags": []
   },
   "outputs": [],
   "source": [
    "train_df['Sex']=list('male' if i==1 else 'female' for i in train_df['Sex'])"
   ]
  },
  {
   "cell_type": "code",
   "execution_count": 51,
   "metadata": {
    "execution": {
     "iopub.execute_input": "2021-03-05T11:05:47.162217Z",
     "iopub.status.busy": "2021-03-05T11:05:47.161480Z",
     "iopub.status.idle": "2021-03-05T11:05:47.165404Z",
     "shell.execute_reply": "2021-03-05T11:05:47.164711Z"
    },
    "papermill": {
     "duration": 0.142974,
     "end_time": "2021-03-05T11:05:47.165555",
     "exception": false,
     "start_time": "2021-03-05T11:05:47.022581",
     "status": "completed"
    },
    "tags": []
   },
   "outputs": [],
   "source": [
    "index_nan_age = list(train_df[train_df['Age'].isnull()].index)"
   ]
  },
  {
   "cell_type": "code",
   "execution_count": 52,
   "metadata": {
    "execution": {
     "iopub.execute_input": "2021-03-05T11:05:47.441159Z",
     "iopub.status.busy": "2021-03-05T11:05:47.440522Z",
     "iopub.status.idle": "2021-03-05T11:05:47.914510Z",
     "shell.execute_reply": "2021-03-05T11:05:47.915068Z"
    },
    "papermill": {
     "duration": 0.610156,
     "end_time": "2021-03-05T11:05:47.915224",
     "exception": false,
     "start_time": "2021-03-05T11:05:47.305068",
     "status": "completed"
    },
    "tags": []
   },
   "outputs": [],
   "source": [
    "for i in index_nan_age:\n",
    "    age_prediction = train_df['Age'][((train_df['SibSp']==train_df.iloc[i]['SibSp']) & (train_df['Parch']==train_df.iloc[i]['Parch']) & (train_df['Pclass']==train_df.iloc[i]['Pclass']))].median()\n",
    "    age_med = train_df['Age'].median()\n",
    "    if not np.isnan(age_prediction):\n",
    "        train_df['Age'].iloc[i] = age_prediction\n",
    "    else:\n",
    "        train_df['Age'].iloc[i] = age_med"
   ]
  },
  {
   "cell_type": "code",
   "execution_count": 53,
   "metadata": {
    "execution": {
     "iopub.execute_input": "2021-03-05T11:05:48.191684Z",
     "iopub.status.busy": "2021-03-05T11:05:48.190682Z",
     "iopub.status.idle": "2021-03-05T11:05:48.194507Z",
     "shell.execute_reply": "2021-03-05T11:05:48.195006Z"
    },
    "papermill": {
     "duration": 0.147097,
     "end_time": "2021-03-05T11:05:48.195152",
     "exception": false,
     "start_time": "2021-03-05T11:05:48.048055",
     "status": "completed"
    },
    "tags": []
   },
   "outputs": [
    {
     "data": {
      "text/html": [
       "<div>\n",
       "<style scoped>\n",
       "    .dataframe tbody tr th:only-of-type {\n",
       "        vertical-align: middle;\n",
       "    }\n",
       "\n",
       "    .dataframe tbody tr th {\n",
       "        vertical-align: top;\n",
       "    }\n",
       "\n",
       "    .dataframe thead th {\n",
       "        text-align: right;\n",
       "    }\n",
       "</style>\n",
       "<table border=\"1\" class=\"dataframe\">\n",
       "  <thead>\n",
       "    <tr style=\"text-align: right;\">\n",
       "      <th></th>\n",
       "      <th>PassengerId</th>\n",
       "      <th>Survived</th>\n",
       "      <th>Pclass</th>\n",
       "      <th>Name</th>\n",
       "      <th>Sex</th>\n",
       "      <th>Age</th>\n",
       "      <th>SibSp</th>\n",
       "      <th>Parch</th>\n",
       "      <th>Ticket</th>\n",
       "      <th>Fare</th>\n",
       "      <th>Cabin</th>\n",
       "      <th>Embarked</th>\n",
       "    </tr>\n",
       "  </thead>\n",
       "  <tbody>\n",
       "  </tbody>\n",
       "</table>\n",
       "</div>"
      ],
      "text/plain": [
       "Empty DataFrame\n",
       "Columns: [PassengerId, Survived, Pclass, Name, Sex, Age, SibSp, Parch, Ticket, Fare, Cabin, Embarked]\n",
       "Index: []"
      ]
     },
     "execution_count": 53,
     "metadata": {},
     "output_type": "execute_result"
    }
   ],
   "source": [
    "train_df[train_df['Age'].isnull()]"
   ]
  },
  {
   "cell_type": "markdown",
   "metadata": {
    "papermill": {
     "duration": 0.13285,
     "end_time": "2021-03-05T11:05:48.460818",
     "exception": false,
     "start_time": "2021-03-05T11:05:48.327968",
     "status": "completed"
    },
    "tags": []
   },
   "source": [
    "<a id='21'></a>\n",
    "# Feature Engineering"
   ]
  },
  {
   "cell_type": "markdown",
   "metadata": {
    "papermill": {
     "duration": 0.130981,
     "end_time": "2021-03-05T11:05:48.722915",
     "exception": false,
     "start_time": "2021-03-05T11:05:48.591934",
     "status": "completed"
    },
    "tags": []
   },
   "source": [
    "<a id='38'></a>\n",
    "## Fare"
   ]
  },
  {
   "cell_type": "code",
   "execution_count": 54,
   "metadata": {
    "execution": {
     "iopub.execute_input": "2021-03-05T11:05:48.992461Z",
     "iopub.status.busy": "2021-03-05T11:05:48.991411Z",
     "iopub.status.idle": "2021-03-05T11:05:49.297241Z",
     "shell.execute_reply": "2021-03-05T11:05:49.296616Z"
    },
    "papermill": {
     "duration": 0.442961,
     "end_time": "2021-03-05T11:05:49.297365",
     "exception": false,
     "start_time": "2021-03-05T11:05:48.854404",
     "status": "completed"
    },
    "tags": []
   },
   "outputs": [],
   "source": [
    "from sklearn.tree import DecisionTreeRegressor"
   ]
  },
  {
   "cell_type": "code",
   "execution_count": 55,
   "metadata": {
    "execution": {
     "iopub.execute_input": "2021-03-05T11:05:49.577484Z",
     "iopub.status.busy": "2021-03-05T11:05:49.576447Z",
     "iopub.status.idle": "2021-03-05T11:05:49.581792Z",
     "shell.execute_reply": "2021-03-05T11:05:49.581207Z"
    },
    "papermill": {
     "duration": 0.145965,
     "end_time": "2021-03-05T11:05:49.581908",
     "exception": false,
     "start_time": "2021-03-05T11:05:49.435943",
     "status": "completed"
    },
    "tags": []
   },
   "outputs": [],
   "source": [
    "fare = np.array(train_df.Fare[:train_df_len]).reshape(-1,1)\n",
    "survived = np.array(train_df.Survived[:train_df_len]).reshape(-1,1)\n",
    "DecTree = DecisionTreeRegressor(max_leaf_nodes=150)\n",
    "DecTree.fit(fare, survived)\n",
    "train_df['Fare_class'] = DecTree.apply(np.array(train_df.Fare).reshape(-1,1))"
   ]
  },
  {
   "cell_type": "code",
   "execution_count": 56,
   "metadata": {
    "execution": {
     "iopub.execute_input": "2021-03-05T11:05:49.855934Z",
     "iopub.status.busy": "2021-03-05T11:05:49.853012Z",
     "iopub.status.idle": "2021-03-05T11:05:49.862868Z",
     "shell.execute_reply": "2021-03-05T11:05:49.863343Z"
    },
    "papermill": {
     "duration": 0.148028,
     "end_time": "2021-03-05T11:05:49.863506",
     "exception": false,
     "start_time": "2021-03-05T11:05:49.715478",
     "status": "completed"
    },
    "tags": []
   },
   "outputs": [],
   "source": [
    "train_df = pd.get_dummies(data=train_df, columns=['Fare_class'])"
   ]
  },
  {
   "cell_type": "code",
   "execution_count": 57,
   "metadata": {
    "execution": {
     "iopub.execute_input": "2021-03-05T11:05:50.134265Z",
     "iopub.status.busy": "2021-03-05T11:05:50.133606Z",
     "iopub.status.idle": "2021-03-05T11:05:50.139613Z",
     "shell.execute_reply": "2021-03-05T11:05:50.139042Z"
    },
    "papermill": {
     "duration": 0.144384,
     "end_time": "2021-03-05T11:05:50.139739",
     "exception": false,
     "start_time": "2021-03-05T11:05:49.995355",
     "status": "completed"
    },
    "tags": []
   },
   "outputs": [],
   "source": [
    "train_df.drop('Fare', axis=1, inplace=True)"
   ]
  },
  {
   "cell_type": "markdown",
   "metadata": {
    "papermill": {
     "duration": 0.134776,
     "end_time": "2021-03-05T11:05:50.406038",
     "exception": false,
     "start_time": "2021-03-05T11:05:50.271262",
     "status": "completed"
    },
    "tags": []
   },
   "source": [
    "<a id='35'></a>\n",
    "## Age"
   ]
  },
  {
   "cell_type": "code",
   "execution_count": 58,
   "metadata": {
    "execution": {
     "iopub.execute_input": "2021-03-05T11:05:50.679944Z",
     "iopub.status.busy": "2021-03-05T11:05:50.679217Z",
     "iopub.status.idle": "2021-03-05T11:05:50.681710Z",
     "shell.execute_reply": "2021-03-05T11:05:50.682227Z"
    },
    "papermill": {
     "duration": 0.142316,
     "end_time": "2021-03-05T11:05:50.682369",
     "exception": false,
     "start_time": "2021-03-05T11:05:50.540053",
     "status": "completed"
    },
    "tags": []
   },
   "outputs": [],
   "source": [
    "train_df['Age'] = train_df['Age'].astype('int')"
   ]
  },
  {
   "cell_type": "code",
   "execution_count": 59,
   "metadata": {
    "execution": {
     "iopub.execute_input": "2021-03-05T11:05:50.951255Z",
     "iopub.status.busy": "2021-03-05T11:05:50.950616Z",
     "iopub.status.idle": "2021-03-05T11:05:50.955267Z",
     "shell.execute_reply": "2021-03-05T11:05:50.955821Z"
    },
    "papermill": {
     "duration": 0.140663,
     "end_time": "2021-03-05T11:05:50.955963",
     "exception": false,
     "start_time": "2021-03-05T11:05:50.815300",
     "status": "completed"
    },
    "tags": []
   },
   "outputs": [],
   "source": [
    "train_df['Age_based_survival'] = 0"
   ]
  },
  {
   "cell_type": "code",
   "execution_count": 60,
   "metadata": {
    "execution": {
     "iopub.execute_input": "2021-03-05T11:05:51.230073Z",
     "iopub.status.busy": "2021-03-05T11:05:51.228993Z",
     "iopub.status.idle": "2021-03-05T11:05:51.252815Z",
     "shell.execute_reply": "2021-03-05T11:05:51.252279Z"
    },
    "papermill": {
     "duration": 0.163835,
     "end_time": "2021-03-05T11:05:51.252927",
     "exception": false,
     "start_time": "2021-03-05T11:05:51.089092",
     "status": "completed"
    },
    "tags": []
   },
   "outputs": [
    {
     "data": {
      "text/html": [
       "<div>\n",
       "<style scoped>\n",
       "    .dataframe tbody tr th:only-of-type {\n",
       "        vertical-align: middle;\n",
       "    }\n",
       "\n",
       "    .dataframe tbody tr th {\n",
       "        vertical-align: top;\n",
       "    }\n",
       "\n",
       "    .dataframe thead th {\n",
       "        text-align: right;\n",
       "    }\n",
       "</style>\n",
       "<table border=\"1\" class=\"dataframe\">\n",
       "  <thead>\n",
       "    <tr style=\"text-align: right;\">\n",
       "      <th></th>\n",
       "      <th>PassengerId</th>\n",
       "      <th>Survived</th>\n",
       "      <th>Pclass</th>\n",
       "      <th>Name</th>\n",
       "      <th>Sex</th>\n",
       "      <th>Age</th>\n",
       "      <th>SibSp</th>\n",
       "      <th>Parch</th>\n",
       "      <th>Ticket</th>\n",
       "      <th>Cabin</th>\n",
       "      <th>...</th>\n",
       "      <th>Fare_class_289</th>\n",
       "      <th>Fare_class_290</th>\n",
       "      <th>Fare_class_291</th>\n",
       "      <th>Fare_class_292</th>\n",
       "      <th>Fare_class_293</th>\n",
       "      <th>Fare_class_295</th>\n",
       "      <th>Fare_class_296</th>\n",
       "      <th>Fare_class_297</th>\n",
       "      <th>Fare_class_298</th>\n",
       "      <th>Age_based_survival</th>\n",
       "    </tr>\n",
       "  </thead>\n",
       "  <tbody>\n",
       "    <tr>\n",
       "      <th>0</th>\n",
       "      <td>1</td>\n",
       "      <td>0.0</td>\n",
       "      <td>3</td>\n",
       "      <td>Braund, Mr. Owen Harris</td>\n",
       "      <td>male</td>\n",
       "      <td>22</td>\n",
       "      <td>1</td>\n",
       "      <td>0</td>\n",
       "      <td>A/5 21171</td>\n",
       "      <td>NaN</td>\n",
       "      <td>...</td>\n",
       "      <td>0</td>\n",
       "      <td>0</td>\n",
       "      <td>0</td>\n",
       "      <td>0</td>\n",
       "      <td>0</td>\n",
       "      <td>0</td>\n",
       "      <td>0</td>\n",
       "      <td>0</td>\n",
       "      <td>0</td>\n",
       "      <td>0</td>\n",
       "    </tr>\n",
       "    <tr>\n",
       "      <th>1</th>\n",
       "      <td>2</td>\n",
       "      <td>1.0</td>\n",
       "      <td>1</td>\n",
       "      <td>Cumings, Mrs. John Bradley (Florence Briggs Th...</td>\n",
       "      <td>female</td>\n",
       "      <td>38</td>\n",
       "      <td>1</td>\n",
       "      <td>0</td>\n",
       "      <td>PC 17599</td>\n",
       "      <td>C85</td>\n",
       "      <td>...</td>\n",
       "      <td>0</td>\n",
       "      <td>0</td>\n",
       "      <td>0</td>\n",
       "      <td>0</td>\n",
       "      <td>0</td>\n",
       "      <td>0</td>\n",
       "      <td>0</td>\n",
       "      <td>0</td>\n",
       "      <td>0</td>\n",
       "      <td>0</td>\n",
       "    </tr>\n",
       "    <tr>\n",
       "      <th>2</th>\n",
       "      <td>3</td>\n",
       "      <td>1.0</td>\n",
       "      <td>3</td>\n",
       "      <td>Heikkinen, Miss. Laina</td>\n",
       "      <td>female</td>\n",
       "      <td>26</td>\n",
       "      <td>0</td>\n",
       "      <td>0</td>\n",
       "      <td>STON/O2. 3101282</td>\n",
       "      <td>NaN</td>\n",
       "      <td>...</td>\n",
       "      <td>0</td>\n",
       "      <td>0</td>\n",
       "      <td>0</td>\n",
       "      <td>0</td>\n",
       "      <td>0</td>\n",
       "      <td>0</td>\n",
       "      <td>0</td>\n",
       "      <td>0</td>\n",
       "      <td>0</td>\n",
       "      <td>0</td>\n",
       "    </tr>\n",
       "    <tr>\n",
       "      <th>3</th>\n",
       "      <td>4</td>\n",
       "      <td>1.0</td>\n",
       "      <td>1</td>\n",
       "      <td>Futrelle, Mrs. Jacques Heath (Lily May Peel)</td>\n",
       "      <td>female</td>\n",
       "      <td>35</td>\n",
       "      <td>1</td>\n",
       "      <td>0</td>\n",
       "      <td>113803</td>\n",
       "      <td>C123</td>\n",
       "      <td>...</td>\n",
       "      <td>0</td>\n",
       "      <td>0</td>\n",
       "      <td>0</td>\n",
       "      <td>0</td>\n",
       "      <td>0</td>\n",
       "      <td>0</td>\n",
       "      <td>0</td>\n",
       "      <td>0</td>\n",
       "      <td>0</td>\n",
       "      <td>0</td>\n",
       "    </tr>\n",
       "    <tr>\n",
       "      <th>4</th>\n",
       "      <td>5</td>\n",
       "      <td>0.0</td>\n",
       "      <td>3</td>\n",
       "      <td>Allen, Mr. William Henry</td>\n",
       "      <td>male</td>\n",
       "      <td>35</td>\n",
       "      <td>0</td>\n",
       "      <td>0</td>\n",
       "      <td>373450</td>\n",
       "      <td>NaN</td>\n",
       "      <td>...</td>\n",
       "      <td>0</td>\n",
       "      <td>0</td>\n",
       "      <td>0</td>\n",
       "      <td>0</td>\n",
       "      <td>0</td>\n",
       "      <td>0</td>\n",
       "      <td>0</td>\n",
       "      <td>1</td>\n",
       "      <td>0</td>\n",
       "      <td>0</td>\n",
       "    </tr>\n",
       "  </tbody>\n",
       "</table>\n",
       "<p>5 rows × 162 columns</p>\n",
       "</div>"
      ],
      "text/plain": [
       "   PassengerId  Survived  Pclass  \\\n",
       "0            1       0.0       3   \n",
       "1            2       1.0       1   \n",
       "2            3       1.0       3   \n",
       "3            4       1.0       1   \n",
       "4            5       0.0       3   \n",
       "\n",
       "                                                Name     Sex  Age  SibSp  \\\n",
       "0                            Braund, Mr. Owen Harris    male   22      1   \n",
       "1  Cumings, Mrs. John Bradley (Florence Briggs Th...  female   38      1   \n",
       "2                             Heikkinen, Miss. Laina  female   26      0   \n",
       "3       Futrelle, Mrs. Jacques Heath (Lily May Peel)  female   35      1   \n",
       "4                           Allen, Mr. William Henry    male   35      0   \n",
       "\n",
       "   Parch            Ticket Cabin  ... Fare_class_289  Fare_class_290  \\\n",
       "0      0         A/5 21171   NaN  ...              0               0   \n",
       "1      0          PC 17599   C85  ...              0               0   \n",
       "2      0  STON/O2. 3101282   NaN  ...              0               0   \n",
       "3      0            113803  C123  ...              0               0   \n",
       "4      0            373450   NaN  ...              0               0   \n",
       "\n",
       "   Fare_class_291  Fare_class_292  Fare_class_293  Fare_class_295  \\\n",
       "0               0               0               0               0   \n",
       "1               0               0               0               0   \n",
       "2               0               0               0               0   \n",
       "3               0               0               0               0   \n",
       "4               0               0               0               0   \n",
       "\n",
       "   Fare_class_296  Fare_class_297  Fare_class_298  Age_based_survival  \n",
       "0               0               0               0                   0  \n",
       "1               0               0               0                   0  \n",
       "2               0               0               0                   0  \n",
       "3               0               0               0                   0  \n",
       "4               0               1               0                   0  \n",
       "\n",
       "[5 rows x 162 columns]"
      ]
     },
     "execution_count": 60,
     "metadata": {},
     "output_type": "execute_result"
    }
   ],
   "source": [
    "train_df.head()"
   ]
  },
  {
   "cell_type": "code",
   "execution_count": 61,
   "metadata": {
    "execution": {
     "iopub.execute_input": "2021-03-05T11:05:51.534720Z",
     "iopub.status.busy": "2021-03-05T11:05:51.529090Z",
     "iopub.status.idle": "2021-03-05T11:05:51.735333Z",
     "shell.execute_reply": "2021-03-05T11:05:51.734612Z"
    },
    "papermill": {
     "duration": 0.348071,
     "end_time": "2021-03-05T11:05:51.735481",
     "exception": false,
     "start_time": "2021-03-05T11:05:51.387410",
     "status": "completed"
    },
    "tags": []
   },
   "outputs": [],
   "source": [
    "for i in range(train_df['Age'].max()+1):\n",
    "    df = train_df[train_df['Age']==i][train_df.Survived.isna() == False]\n",
    "    avg_surv_prob = df['Survived'].mean()\n",
    "    train_df.loc[train_df.Age==i,'Age_based_survival'] = avg_surv_prob"
   ]
  },
  {
   "cell_type": "code",
   "execution_count": 62,
   "metadata": {
    "execution": {
     "iopub.execute_input": "2021-03-05T11:05:52.023877Z",
     "iopub.status.busy": "2021-03-05T11:05:52.019695Z",
     "iopub.status.idle": "2021-03-05T11:05:52.028086Z",
     "shell.execute_reply": "2021-03-05T11:05:52.027513Z"
    },
    "papermill": {
     "duration": 0.156515,
     "end_time": "2021-03-05T11:05:52.028200",
     "exception": false,
     "start_time": "2021-03-05T11:05:51.871685",
     "status": "completed"
    },
    "tags": []
   },
   "outputs": [
    {
     "data": {
      "text/html": [
       "<div>\n",
       "<style scoped>\n",
       "    .dataframe tbody tr th:only-of-type {\n",
       "        vertical-align: middle;\n",
       "    }\n",
       "\n",
       "    .dataframe tbody tr th {\n",
       "        vertical-align: top;\n",
       "    }\n",
       "\n",
       "    .dataframe thead th {\n",
       "        text-align: right;\n",
       "    }\n",
       "</style>\n",
       "<table border=\"1\" class=\"dataframe\">\n",
       "  <thead>\n",
       "    <tr style=\"text-align: right;\">\n",
       "      <th></th>\n",
       "      <th>PassengerId</th>\n",
       "      <th>Survived</th>\n",
       "      <th>Pclass</th>\n",
       "      <th>Name</th>\n",
       "      <th>Sex</th>\n",
       "      <th>Age</th>\n",
       "      <th>SibSp</th>\n",
       "      <th>Parch</th>\n",
       "      <th>Ticket</th>\n",
       "      <th>Cabin</th>\n",
       "      <th>...</th>\n",
       "      <th>Fare_class_289</th>\n",
       "      <th>Fare_class_290</th>\n",
       "      <th>Fare_class_291</th>\n",
       "      <th>Fare_class_292</th>\n",
       "      <th>Fare_class_293</th>\n",
       "      <th>Fare_class_295</th>\n",
       "      <th>Fare_class_296</th>\n",
       "      <th>Fare_class_297</th>\n",
       "      <th>Fare_class_298</th>\n",
       "      <th>Age_based_survival</th>\n",
       "    </tr>\n",
       "  </thead>\n",
       "  <tbody>\n",
       "  </tbody>\n",
       "</table>\n",
       "<p>0 rows × 162 columns</p>\n",
       "</div>"
      ],
      "text/plain": [
       "Empty DataFrame\n",
       "Columns: [PassengerId, Survived, Pclass, Name, Sex, Age, SibSp, Parch, Ticket, Cabin, Embarked, Fare_class_10, Fare_class_11, Fare_class_22, Fare_class_30, Fare_class_33, Fare_class_35, Fare_class_41, Fare_class_42, Fare_class_43, Fare_class_48, Fare_class_60, Fare_class_63, Fare_class_64, Fare_class_67, Fare_class_69, Fare_class_72, Fare_class_80, Fare_class_85, Fare_class_87, Fare_class_92, Fare_class_93, Fare_class_95, Fare_class_97, Fare_class_99, Fare_class_101, Fare_class_102, Fare_class_105, Fare_class_108, Fare_class_109, Fare_class_111, Fare_class_112, Fare_class_113, Fare_class_114, Fare_class_118, Fare_class_120, Fare_class_121, Fare_class_125, Fare_class_126, Fare_class_127, Fare_class_129, Fare_class_132, Fare_class_135, Fare_class_136, Fare_class_139, Fare_class_140, Fare_class_141, Fare_class_142, Fare_class_144, Fare_class_145, Fare_class_146, Fare_class_147, Fare_class_149, Fare_class_150, Fare_class_152, Fare_class_155, Fare_class_157, Fare_class_159, Fare_class_160, Fare_class_161, Fare_class_162, Fare_class_166, Fare_class_168, Fare_class_170, Fare_class_176, Fare_class_177, Fare_class_178, Fare_class_179, Fare_class_181, Fare_class_182, Fare_class_183, Fare_class_185, Fare_class_187, Fare_class_188, Fare_class_189, Fare_class_191, Fare_class_194, Fare_class_195, Fare_class_196, Fare_class_198, Fare_class_199, Fare_class_201, Fare_class_202, Fare_class_203, Fare_class_204, Fare_class_205, Fare_class_207, Fare_class_208, Fare_class_210, Fare_class_212, ...]\n",
       "Index: []\n",
       "\n",
       "[0 rows x 162 columns]"
      ]
     },
     "execution_count": 62,
     "metadata": {},
     "output_type": "execute_result"
    }
   ],
   "source": [
    "train_df['Age_based_survival'] = train_df['Age_based_survival'].fillna(0)\n",
    "train_df[train_df['Age_based_survival'].isnull()]"
   ]
  },
  {
   "cell_type": "code",
   "execution_count": 63,
   "metadata": {
    "execution": {
     "iopub.execute_input": "2021-03-05T11:05:52.335887Z",
     "iopub.status.busy": "2021-03-05T11:05:52.335052Z",
     "iopub.status.idle": "2021-03-05T11:05:52.359347Z",
     "shell.execute_reply": "2021-03-05T11:05:52.358826Z"
    },
    "papermill": {
     "duration": 0.196235,
     "end_time": "2021-03-05T11:05:52.359486",
     "exception": false,
     "start_time": "2021-03-05T11:05:52.163251",
     "status": "completed"
    },
    "tags": []
   },
   "outputs": [
    {
     "data": {
      "text/html": [
       "<div>\n",
       "<style scoped>\n",
       "    .dataframe tbody tr th:only-of-type {\n",
       "        vertical-align: middle;\n",
       "    }\n",
       "\n",
       "    .dataframe tbody tr th {\n",
       "        vertical-align: top;\n",
       "    }\n",
       "\n",
       "    .dataframe thead th {\n",
       "        text-align: right;\n",
       "    }\n",
       "</style>\n",
       "<table border=\"1\" class=\"dataframe\">\n",
       "  <thead>\n",
       "    <tr style=\"text-align: right;\">\n",
       "      <th></th>\n",
       "      <th>PassengerId</th>\n",
       "      <th>Survived</th>\n",
       "      <th>Pclass</th>\n",
       "      <th>Name</th>\n",
       "      <th>Sex</th>\n",
       "      <th>SibSp</th>\n",
       "      <th>Parch</th>\n",
       "      <th>Ticket</th>\n",
       "      <th>Cabin</th>\n",
       "      <th>Embarked</th>\n",
       "      <th>...</th>\n",
       "      <th>Fare_class_289</th>\n",
       "      <th>Fare_class_290</th>\n",
       "      <th>Fare_class_291</th>\n",
       "      <th>Fare_class_292</th>\n",
       "      <th>Fare_class_293</th>\n",
       "      <th>Fare_class_295</th>\n",
       "      <th>Fare_class_296</th>\n",
       "      <th>Fare_class_297</th>\n",
       "      <th>Fare_class_298</th>\n",
       "      <th>Age_based_survival</th>\n",
       "    </tr>\n",
       "  </thead>\n",
       "  <tbody>\n",
       "    <tr>\n",
       "      <th>0</th>\n",
       "      <td>1</td>\n",
       "      <td>0.0</td>\n",
       "      <td>3</td>\n",
       "      <td>Braund, Mr. Owen Harris</td>\n",
       "      <td>male</td>\n",
       "      <td>1</td>\n",
       "      <td>0</td>\n",
       "      <td>A/5 21171</td>\n",
       "      <td>NaN</td>\n",
       "      <td>S</td>\n",
       "      <td>...</td>\n",
       "      <td>0</td>\n",
       "      <td>0</td>\n",
       "      <td>0</td>\n",
       "      <td>0</td>\n",
       "      <td>0</td>\n",
       "      <td>0</td>\n",
       "      <td>0</td>\n",
       "      <td>0</td>\n",
       "      <td>0</td>\n",
       "      <td>0.407407</td>\n",
       "    </tr>\n",
       "    <tr>\n",
       "      <th>1</th>\n",
       "      <td>2</td>\n",
       "      <td>1.0</td>\n",
       "      <td>1</td>\n",
       "      <td>Cumings, Mrs. John Bradley (Florence Briggs Th...</td>\n",
       "      <td>female</td>\n",
       "      <td>1</td>\n",
       "      <td>0</td>\n",
       "      <td>PC 17599</td>\n",
       "      <td>C85</td>\n",
       "      <td>C</td>\n",
       "      <td>...</td>\n",
       "      <td>0</td>\n",
       "      <td>0</td>\n",
       "      <td>0</td>\n",
       "      <td>0</td>\n",
       "      <td>0</td>\n",
       "      <td>0</td>\n",
       "      <td>0</td>\n",
       "      <td>0</td>\n",
       "      <td>0</td>\n",
       "      <td>0.647059</td>\n",
       "    </tr>\n",
       "    <tr>\n",
       "      <th>2</th>\n",
       "      <td>3</td>\n",
       "      <td>1.0</td>\n",
       "      <td>3</td>\n",
       "      <td>Heikkinen, Miss. Laina</td>\n",
       "      <td>female</td>\n",
       "      <td>0</td>\n",
       "      <td>0</td>\n",
       "      <td>STON/O2. 3101282</td>\n",
       "      <td>NaN</td>\n",
       "      <td>S</td>\n",
       "      <td>...</td>\n",
       "      <td>0</td>\n",
       "      <td>0</td>\n",
       "      <td>0</td>\n",
       "      <td>0</td>\n",
       "      <td>0</td>\n",
       "      <td>0</td>\n",
       "      <td>0</td>\n",
       "      <td>0</td>\n",
       "      <td>0</td>\n",
       "      <td>0.333333</td>\n",
       "    </tr>\n",
       "    <tr>\n",
       "      <th>3</th>\n",
       "      <td>4</td>\n",
       "      <td>1.0</td>\n",
       "      <td>1</td>\n",
       "      <td>Futrelle, Mrs. Jacques Heath (Lily May Peel)</td>\n",
       "      <td>female</td>\n",
       "      <td>1</td>\n",
       "      <td>0</td>\n",
       "      <td>113803</td>\n",
       "      <td>C123</td>\n",
       "      <td>S</td>\n",
       "      <td>...</td>\n",
       "      <td>0</td>\n",
       "      <td>0</td>\n",
       "      <td>0</td>\n",
       "      <td>0</td>\n",
       "      <td>0</td>\n",
       "      <td>0</td>\n",
       "      <td>0</td>\n",
       "      <td>0</td>\n",
       "      <td>0</td>\n",
       "      <td>0.611111</td>\n",
       "    </tr>\n",
       "    <tr>\n",
       "      <th>4</th>\n",
       "      <td>5</td>\n",
       "      <td>0.0</td>\n",
       "      <td>3</td>\n",
       "      <td>Allen, Mr. William Henry</td>\n",
       "      <td>male</td>\n",
       "      <td>0</td>\n",
       "      <td>0</td>\n",
       "      <td>373450</td>\n",
       "      <td>NaN</td>\n",
       "      <td>S</td>\n",
       "      <td>...</td>\n",
       "      <td>0</td>\n",
       "      <td>0</td>\n",
       "      <td>0</td>\n",
       "      <td>0</td>\n",
       "      <td>0</td>\n",
       "      <td>0</td>\n",
       "      <td>0</td>\n",
       "      <td>1</td>\n",
       "      <td>0</td>\n",
       "      <td>0.611111</td>\n",
       "    </tr>\n",
       "  </tbody>\n",
       "</table>\n",
       "<p>5 rows × 161 columns</p>\n",
       "</div>"
      ],
      "text/plain": [
       "   PassengerId  Survived  Pclass  \\\n",
       "0            1       0.0       3   \n",
       "1            2       1.0       1   \n",
       "2            3       1.0       3   \n",
       "3            4       1.0       1   \n",
       "4            5       0.0       3   \n",
       "\n",
       "                                                Name     Sex  SibSp  Parch  \\\n",
       "0                            Braund, Mr. Owen Harris    male      1      0   \n",
       "1  Cumings, Mrs. John Bradley (Florence Briggs Th...  female      1      0   \n",
       "2                             Heikkinen, Miss. Laina  female      0      0   \n",
       "3       Futrelle, Mrs. Jacques Heath (Lily May Peel)  female      1      0   \n",
       "4                           Allen, Mr. William Henry    male      0      0   \n",
       "\n",
       "             Ticket Cabin Embarked  ...  Fare_class_289  Fare_class_290  \\\n",
       "0         A/5 21171   NaN        S  ...               0               0   \n",
       "1          PC 17599   C85        C  ...               0               0   \n",
       "2  STON/O2. 3101282   NaN        S  ...               0               0   \n",
       "3            113803  C123        S  ...               0               0   \n",
       "4            373450   NaN        S  ...               0               0   \n",
       "\n",
       "   Fare_class_291  Fare_class_292  Fare_class_293  Fare_class_295  \\\n",
       "0               0               0               0               0   \n",
       "1               0               0               0               0   \n",
       "2               0               0               0               0   \n",
       "3               0               0               0               0   \n",
       "4               0               0               0               0   \n",
       "\n",
       "   Fare_class_296  Fare_class_297  Fare_class_298  Age_based_survival  \n",
       "0               0               0               0            0.407407  \n",
       "1               0               0               0            0.647059  \n",
       "2               0               0               0            0.333333  \n",
       "3               0               0               0            0.611111  \n",
       "4               0               1               0            0.611111  \n",
       "\n",
       "[5 rows x 161 columns]"
      ]
     },
     "execution_count": 63,
     "metadata": {},
     "output_type": "execute_result"
    }
   ],
   "source": [
    "train_df.drop('Age', axis=1, inplace=True)\n",
    "train_df.head()"
   ]
  },
  {
   "cell_type": "markdown",
   "metadata": {
    "papermill": {
     "duration": 0.134912,
     "end_time": "2021-03-05T11:05:52.631921",
     "exception": false,
     "start_time": "2021-03-05T11:05:52.497009",
     "status": "completed"
    },
    "tags": []
   },
   "source": [
    "<a id='22'></a>\n",
    "## Name - Title"
   ]
  },
  {
   "cell_type": "code",
   "execution_count": 64,
   "metadata": {
    "execution": {
     "iopub.execute_input": "2021-03-05T11:05:52.910064Z",
     "iopub.status.busy": "2021-03-05T11:05:52.908959Z",
     "iopub.status.idle": "2021-03-05T11:05:52.912772Z",
     "shell.execute_reply": "2021-03-05T11:05:52.913317Z"
    },
    "papermill": {
     "duration": 0.146098,
     "end_time": "2021-03-05T11:05:52.913473",
     "exception": false,
     "start_time": "2021-03-05T11:05:52.767375",
     "status": "completed"
    },
    "tags": []
   },
   "outputs": [
    {
     "data": {
      "text/plain": [
       "0                              Braund, Mr. Owen Harris\n",
       "1    Cumings, Mrs. John Bradley (Florence Briggs Th...\n",
       "2                               Heikkinen, Miss. Laina\n",
       "3         Futrelle, Mrs. Jacques Heath (Lily May Peel)\n",
       "4                             Allen, Mr. William Henry\n",
       "5                                     Moran, Mr. James\n",
       "6                              McCarthy, Mr. Timothy J\n",
       "7                       Palsson, Master. Gosta Leonard\n",
       "8    Johnson, Mrs. Oscar W (Elisabeth Vilhelmina Berg)\n",
       "9                  Nasser, Mrs. Nicholas (Adele Achem)\n",
       "Name: Name, dtype: object"
      ]
     },
     "execution_count": 64,
     "metadata": {},
     "output_type": "execute_result"
    }
   ],
   "source": [
    "train_df['Name'].head(10)"
   ]
  },
  {
   "cell_type": "code",
   "execution_count": 65,
   "metadata": {
    "execution": {
     "iopub.execute_input": "2021-03-05T11:05:53.188576Z",
     "iopub.status.busy": "2021-03-05T11:05:53.187548Z",
     "iopub.status.idle": "2021-03-05T11:05:53.193643Z",
     "shell.execute_reply": "2021-03-05T11:05:53.194122Z"
    },
    "papermill": {
     "duration": 0.145062,
     "end_time": "2021-03-05T11:05:53.194263",
     "exception": false,
     "start_time": "2021-03-05T11:05:53.049201",
     "status": "completed"
    },
    "tags": []
   },
   "outputs": [
    {
     "data": {
      "text/plain": [
       "'Mr'"
      ]
     },
     "execution_count": 65,
     "metadata": {},
     "output_type": "execute_result"
    }
   ],
   "source": [
    "\"Braund, Mr. Owen Harris\".split('.')[0].split(',')[-1].strip()"
   ]
  },
  {
   "cell_type": "code",
   "execution_count": 66,
   "metadata": {
    "execution": {
     "iopub.execute_input": "2021-03-05T11:05:53.471182Z",
     "iopub.status.busy": "2021-03-05T11:05:53.470136Z",
     "iopub.status.idle": "2021-03-05T11:05:53.482212Z",
     "shell.execute_reply": "2021-03-05T11:05:53.481712Z"
    },
    "papermill": {
     "duration": 0.151994,
     "end_time": "2021-03-05T11:05:53.482336",
     "exception": false,
     "start_time": "2021-03-05T11:05:53.330342",
     "status": "completed"
    },
    "tags": []
   },
   "outputs": [
    {
     "data": {
      "text/plain": [
       "0           Mr\n",
       "1          Mrs\n",
       "2         Miss\n",
       "3          Mrs\n",
       "4           Mr\n",
       "         ...  \n",
       "1294        Mr\n",
       "1295      Dona\n",
       "1296        Mr\n",
       "1297        Mr\n",
       "1298    Master\n",
       "Name: Title, Length: 1299, dtype: object"
      ]
     },
     "execution_count": 66,
     "metadata": {},
     "output_type": "execute_result"
    }
   ],
   "source": [
    "train_df['Title'] = [i.split('.')[0].split(',')[-1].strip() for i in train_df['Name']]\n",
    "train_df['Title']"
   ]
  },
  {
   "cell_type": "code",
   "execution_count": 67,
   "metadata": {
    "execution": {
     "iopub.execute_input": "2021-03-05T11:05:53.762933Z",
     "iopub.status.busy": "2021-03-05T11:05:53.762205Z",
     "iopub.status.idle": "2021-03-05T11:05:53.972770Z",
     "shell.execute_reply": "2021-03-05T11:05:53.972109Z"
    },
    "papermill": {
     "duration": 0.353841,
     "end_time": "2021-03-05T11:05:53.972889",
     "exception": false,
     "start_time": "2021-03-05T11:05:53.619048",
     "status": "completed"
    },
    "tags": []
   },
   "outputs": [
    {
     "data": {
      "image/png": "[encoded data removed]",
      "text/plain": [
       "<Figure size 864x360 with 1 Axes>"
      ]
     },
     "metadata": {},
     "output_type": "display_data"
    }
   ],
   "source": [
    "plt.figure(figsize=(12,5))\n",
    "sns.countplot(train_df['Title'])\n",
    "plt.xticks(rotation=60)\n",
    "plt.show()"
   ]
  },
  {
   "cell_type": "code",
   "execution_count": 68,
   "metadata": {
    "execution": {
     "iopub.execute_input": "2021-03-05T11:05:54.284900Z",
     "iopub.status.busy": "2021-03-05T11:05:54.284190Z",
     "iopub.status.idle": "2021-03-05T11:05:54.288079Z",
     "shell.execute_reply": "2021-03-05T11:05:54.287442Z"
    },
    "papermill": {
     "duration": 0.163799,
     "end_time": "2021-03-05T11:05:54.288200",
     "exception": false,
     "start_time": "2021-03-05T11:05:54.124401",
     "status": "completed"
    },
    "tags": []
   },
   "outputs": [],
   "source": [
    "train_df['Title'] = train_df['Title'].replace(['Lady','the Countess','Capt','Col','Don','Dr','Major','Rev','Sir','Jonkheer','Dona'],'other')"
   ]
  },
  {
   "cell_type": "code",
   "execution_count": 69,
   "metadata": {
    "execution": {
     "iopub.execute_input": "2021-03-05T11:05:54.580988Z",
     "iopub.status.busy": "2021-03-05T11:05:54.579955Z",
     "iopub.status.idle": "2021-03-05T11:05:54.734989Z",
     "shell.execute_reply": "2021-03-05T11:05:54.734383Z"
    },
    "papermill": {
     "duration": 0.302114,
     "end_time": "2021-03-05T11:05:54.735095",
     "exception": false,
     "start_time": "2021-03-05T11:05:54.432981",
     "status": "completed"
    },
    "tags": []
   },
   "outputs": [
    {
     "data": {
      "image/png": "[encoded data removed]",
      "text/plain": [
       "<Figure size 864x360 with 1 Axes>"
      ]
     },
     "metadata": {},
     "output_type": "display_data"
    }
   ],
   "source": [
    "plt.figure(figsize=(12,5))\n",
    "sns.countplot(train_df['Title'])\n",
    "plt.xticks(rotation=60)\n",
    "plt.show()"
   ]
  },
  {
   "cell_type": "code",
   "execution_count": 70,
   "metadata": {
    "execution": {
     "iopub.execute_input": "2021-03-05T11:05:55.027771Z",
     "iopub.status.busy": "2021-03-05T11:05:55.027065Z",
     "iopub.status.idle": "2021-03-05T11:05:55.030467Z",
     "shell.execute_reply": "2021-03-05T11:05:55.029922Z"
    },
    "papermill": {
     "duration": 0.152281,
     "end_time": "2021-03-05T11:05:55.030587",
     "exception": false,
     "start_time": "2021-03-05T11:05:54.878306",
     "status": "completed"
    },
    "tags": []
   },
   "outputs": [],
   "source": [
    "train_df['Title'] = [0 if i=='Master' else 1 if i=='Miss' or i=='Ms' or i=='Mlle' or i=='Mrs' else 2 if i=='Mr' else 3 for i in train_df['Title']]"
   ]
  },
  {
   "cell_type": "code",
   "execution_count": 71,
   "metadata": {
    "execution": {
     "iopub.execute_input": "2021-03-05T11:05:55.316599Z",
     "iopub.status.busy": "2021-03-05T11:05:55.315912Z",
     "iopub.status.idle": "2021-03-05T11:05:55.570574Z",
     "shell.execute_reply": "2021-03-05T11:05:55.569876Z"
    },
    "papermill": {
     "duration": 0.400313,
     "end_time": "2021-03-05T11:05:55.570682",
     "exception": false,
     "start_time": "2021-03-05T11:05:55.170369",
     "status": "completed"
    },
    "tags": []
   },
   "outputs": [
    {
     "data": {
      "image/png": "[encoded data removed]",
      "text/plain": [
       "<Figure size 864x360 with 1 Axes>"
      ]
     },
     "metadata": {},
     "output_type": "display_data"
    }
   ],
   "source": [
    "plt.figure(figsize=(12,5))\n",
    "sns.countplot(train_df['Title'])\n",
    "plt.show()"
   ]
  },
  {
   "cell_type": "code",
   "execution_count": 72,
   "metadata": {
    "execution": {
     "iopub.execute_input": "2021-03-05T11:05:55.857478Z",
     "iopub.status.busy": "2021-03-05T11:05:55.856785Z",
     "iopub.status.idle": "2021-03-05T11:05:56.164967Z",
     "shell.execute_reply": "2021-03-05T11:05:56.165459Z"
    },
    "papermill": {
     "duration": 0.454628,
     "end_time": "2021-03-05T11:05:56.165617",
     "exception": false,
     "start_time": "2021-03-05T11:05:55.710989",
     "status": "completed"
    },
    "tags": []
   },
   "outputs": [
    {
     "data": {
      "image/png": "[encoded data removed]",
      "text/plain": [
       "<Figure size 360x360 with 1 Axes>"
      ]
     },
     "metadata": {},
     "output_type": "display_data"
    }
   ],
   "source": [
    "g = sns.factorplot(x='Title', y='Survived', data=train_df, kind='bar')\n",
    "g.set_xticklabels(['Master','Mrs','Mr','other'])\n",
    "g.set_ylabels('Survival Probability')\n",
    "plt.show()"
   ]
  },
  {
   "cell_type": "code",
   "execution_count": 73,
   "metadata": {
    "execution": {
     "iopub.execute_input": "2021-03-05T11:05:56.455699Z",
     "iopub.status.busy": "2021-03-05T11:05:56.454989Z",
     "iopub.status.idle": "2021-03-05T11:05:56.457835Z",
     "shell.execute_reply": "2021-03-05T11:05:56.458394Z"
    },
    "papermill": {
     "duration": 0.152844,
     "end_time": "2021-03-05T11:05:56.458565",
     "exception": false,
     "start_time": "2021-03-05T11:05:56.305721",
     "status": "completed"
    },
    "tags": []
   },
   "outputs": [],
   "source": [
    "train_df.drop('Name', axis=1, inplace=True)"
   ]
  },
  {
   "cell_type": "code",
   "execution_count": 74,
   "metadata": {
    "execution": {
     "iopub.execute_input": "2021-03-05T11:05:56.759410Z",
     "iopub.status.busy": "2021-03-05T11:05:56.758711Z",
     "iopub.status.idle": "2021-03-05T11:05:56.773971Z",
     "shell.execute_reply": "2021-03-05T11:05:56.773151Z"
    },
    "papermill": {
     "duration": 0.172881,
     "end_time": "2021-03-05T11:05:56.774113",
     "exception": false,
     "start_time": "2021-03-05T11:05:56.601232",
     "status": "completed"
    },
    "tags": []
   },
   "outputs": [
    {
     "data": {
      "text/html": [
       "<div>\n",
       "<style scoped>\n",
       "    .dataframe tbody tr th:only-of-type {\n",
       "        vertical-align: middle;\n",
       "    }\n",
       "\n",
       "    .dataframe tbody tr th {\n",
       "        vertical-align: top;\n",
       "    }\n",
       "\n",
       "    .dataframe thead th {\n",
       "        text-align: right;\n",
       "    }\n",
       "</style>\n",
       "<table border=\"1\" class=\"dataframe\">\n",
       "  <thead>\n",
       "    <tr style=\"text-align: right;\">\n",
       "      <th></th>\n",
       "      <th>PassengerId</th>\n",
       "      <th>Survived</th>\n",
       "      <th>Pclass</th>\n",
       "      <th>Sex</th>\n",
       "      <th>SibSp</th>\n",
       "      <th>Parch</th>\n",
       "      <th>Ticket</th>\n",
       "      <th>Cabin</th>\n",
       "      <th>Embarked</th>\n",
       "      <th>Fare_class_10</th>\n",
       "      <th>...</th>\n",
       "      <th>Fare_class_290</th>\n",
       "      <th>Fare_class_291</th>\n",
       "      <th>Fare_class_292</th>\n",
       "      <th>Fare_class_293</th>\n",
       "      <th>Fare_class_295</th>\n",
       "      <th>Fare_class_296</th>\n",
       "      <th>Fare_class_297</th>\n",
       "      <th>Fare_class_298</th>\n",
       "      <th>Age_based_survival</th>\n",
       "      <th>Title</th>\n",
       "    </tr>\n",
       "  </thead>\n",
       "  <tbody>\n",
       "    <tr>\n",
       "      <th>0</th>\n",
       "      <td>1</td>\n",
       "      <td>0.0</td>\n",
       "      <td>3</td>\n",
       "      <td>male</td>\n",
       "      <td>1</td>\n",
       "      <td>0</td>\n",
       "      <td>A/5 21171</td>\n",
       "      <td>NaN</td>\n",
       "      <td>S</td>\n",
       "      <td>0</td>\n",
       "      <td>...</td>\n",
       "      <td>0</td>\n",
       "      <td>0</td>\n",
       "      <td>0</td>\n",
       "      <td>0</td>\n",
       "      <td>0</td>\n",
       "      <td>0</td>\n",
       "      <td>0</td>\n",
       "      <td>0</td>\n",
       "      <td>0.407407</td>\n",
       "      <td>2</td>\n",
       "    </tr>\n",
       "    <tr>\n",
       "      <th>1</th>\n",
       "      <td>2</td>\n",
       "      <td>1.0</td>\n",
       "      <td>1</td>\n",
       "      <td>female</td>\n",
       "      <td>1</td>\n",
       "      <td>0</td>\n",
       "      <td>PC 17599</td>\n",
       "      <td>C85</td>\n",
       "      <td>C</td>\n",
       "      <td>0</td>\n",
       "      <td>...</td>\n",
       "      <td>0</td>\n",
       "      <td>0</td>\n",
       "      <td>0</td>\n",
       "      <td>0</td>\n",
       "      <td>0</td>\n",
       "      <td>0</td>\n",
       "      <td>0</td>\n",
       "      <td>0</td>\n",
       "      <td>0.647059</td>\n",
       "      <td>1</td>\n",
       "    </tr>\n",
       "    <tr>\n",
       "      <th>2</th>\n",
       "      <td>3</td>\n",
       "      <td>1.0</td>\n",
       "      <td>3</td>\n",
       "      <td>female</td>\n",
       "      <td>0</td>\n",
       "      <td>0</td>\n",
       "      <td>STON/O2. 3101282</td>\n",
       "      <td>NaN</td>\n",
       "      <td>S</td>\n",
       "      <td>0</td>\n",
       "      <td>...</td>\n",
       "      <td>0</td>\n",
       "      <td>0</td>\n",
       "      <td>0</td>\n",
       "      <td>0</td>\n",
       "      <td>0</td>\n",
       "      <td>0</td>\n",
       "      <td>0</td>\n",
       "      <td>0</td>\n",
       "      <td>0.333333</td>\n",
       "      <td>1</td>\n",
       "    </tr>\n",
       "    <tr>\n",
       "      <th>3</th>\n",
       "      <td>4</td>\n",
       "      <td>1.0</td>\n",
       "      <td>1</td>\n",
       "      <td>female</td>\n",
       "      <td>1</td>\n",
       "      <td>0</td>\n",
       "      <td>113803</td>\n",
       "      <td>C123</td>\n",
       "      <td>S</td>\n",
       "      <td>0</td>\n",
       "      <td>...</td>\n",
       "      <td>0</td>\n",
       "      <td>0</td>\n",
       "      <td>0</td>\n",
       "      <td>0</td>\n",
       "      <td>0</td>\n",
       "      <td>0</td>\n",
       "      <td>0</td>\n",
       "      <td>0</td>\n",
       "      <td>0.611111</td>\n",
       "      <td>1</td>\n",
       "    </tr>\n",
       "    <tr>\n",
       "      <th>4</th>\n",
       "      <td>5</td>\n",
       "      <td>0.0</td>\n",
       "      <td>3</td>\n",
       "      <td>male</td>\n",
       "      <td>0</td>\n",
       "      <td>0</td>\n",
       "      <td>373450</td>\n",
       "      <td>NaN</td>\n",
       "      <td>S</td>\n",
       "      <td>0</td>\n",
       "      <td>...</td>\n",
       "      <td>0</td>\n",
       "      <td>0</td>\n",
       "      <td>0</td>\n",
       "      <td>0</td>\n",
       "      <td>0</td>\n",
       "      <td>0</td>\n",
       "      <td>1</td>\n",
       "      <td>0</td>\n",
       "      <td>0.611111</td>\n",
       "      <td>2</td>\n",
       "    </tr>\n",
       "  </tbody>\n",
       "</table>\n",
       "<p>5 rows × 161 columns</p>\n",
       "</div>"
      ],
      "text/plain": [
       "   PassengerId  Survived  Pclass     Sex  SibSp  Parch            Ticket  \\\n",
       "0            1       0.0       3    male      1      0         A/5 21171   \n",
       "1            2       1.0       1  female      1      0          PC 17599   \n",
       "2            3       1.0       3  female      0      0  STON/O2. 3101282   \n",
       "3            4       1.0       1  female      1      0            113803   \n",
       "4            5       0.0       3    male      0      0            373450   \n",
       "\n",
       "  Cabin Embarked  Fare_class_10  ...  Fare_class_290  Fare_class_291  \\\n",
       "0   NaN        S              0  ...               0               0   \n",
       "1   C85        C              0  ...               0               0   \n",
       "2   NaN        S              0  ...               0               0   \n",
       "3  C123        S              0  ...               0               0   \n",
       "4   NaN        S              0  ...               0               0   \n",
       "\n",
       "   Fare_class_292  Fare_class_293  Fare_class_295  Fare_class_296  \\\n",
       "0               0               0               0               0   \n",
       "1               0               0               0               0   \n",
       "2               0               0               0               0   \n",
       "3               0               0               0               0   \n",
       "4               0               0               0               0   \n",
       "\n",
       "   Fare_class_297  Fare_class_298  Age_based_survival  Title  \n",
       "0               0               0            0.407407      2  \n",
       "1               0               0            0.647059      1  \n",
       "2               0               0            0.333333      1  \n",
       "3               0               0            0.611111      1  \n",
       "4               1               0            0.611111      2  \n",
       "\n",
       "[5 rows x 161 columns]"
      ]
     },
     "execution_count": 74,
     "metadata": {},
     "output_type": "execute_result"
    }
   ],
   "source": [
    "train_df.head()"
   ]
  },
  {
   "cell_type": "code",
   "execution_count": 75,
   "metadata": {
    "execution": {
     "iopub.execute_input": "2021-03-05T11:05:57.069009Z",
     "iopub.status.busy": "2021-03-05T11:05:57.068305Z",
     "iopub.status.idle": "2021-03-05T11:05:57.075223Z",
     "shell.execute_reply": "2021-03-05T11:05:57.075700Z"
    },
    "papermill": {
     "duration": 0.156706,
     "end_time": "2021-03-05T11:05:57.075848",
     "exception": false,
     "start_time": "2021-03-05T11:05:56.919142",
     "status": "completed"
    },
    "tags": []
   },
   "outputs": [],
   "source": [
    "train_df = pd.get_dummies(data=train_df, columns=['Title'])"
   ]
  },
  {
   "cell_type": "code",
   "execution_count": 76,
   "metadata": {
    "execution": {
     "iopub.execute_input": "2021-03-05T11:05:57.376762Z",
     "iopub.status.busy": "2021-03-05T11:05:57.375457Z",
     "iopub.status.idle": "2021-03-05T11:05:57.401348Z",
     "shell.execute_reply": "2021-03-05T11:05:57.400743Z"
    },
    "papermill": {
     "duration": 0.179943,
     "end_time": "2021-03-05T11:05:57.401491",
     "exception": false,
     "start_time": "2021-03-05T11:05:57.221548",
     "status": "completed"
    },
    "tags": []
   },
   "outputs": [
    {
     "data": {
      "text/html": [
       "<div>\n",
       "<style scoped>\n",
       "    .dataframe tbody tr th:only-of-type {\n",
       "        vertical-align: middle;\n",
       "    }\n",
       "\n",
       "    .dataframe tbody tr th {\n",
       "        vertical-align: top;\n",
       "    }\n",
       "\n",
       "    .dataframe thead th {\n",
       "        text-align: right;\n",
       "    }\n",
       "</style>\n",
       "<table border=\"1\" class=\"dataframe\">\n",
       "  <thead>\n",
       "    <tr style=\"text-align: right;\">\n",
       "      <th></th>\n",
       "      <th>PassengerId</th>\n",
       "      <th>Survived</th>\n",
       "      <th>Pclass</th>\n",
       "      <th>Sex</th>\n",
       "      <th>SibSp</th>\n",
       "      <th>Parch</th>\n",
       "      <th>Ticket</th>\n",
       "      <th>Cabin</th>\n",
       "      <th>Embarked</th>\n",
       "      <th>Fare_class_10</th>\n",
       "      <th>...</th>\n",
       "      <th>Fare_class_293</th>\n",
       "      <th>Fare_class_295</th>\n",
       "      <th>Fare_class_296</th>\n",
       "      <th>Fare_class_297</th>\n",
       "      <th>Fare_class_298</th>\n",
       "      <th>Age_based_survival</th>\n",
       "      <th>Title_0</th>\n",
       "      <th>Title_1</th>\n",
       "      <th>Title_2</th>\n",
       "      <th>Title_3</th>\n",
       "    </tr>\n",
       "  </thead>\n",
       "  <tbody>\n",
       "    <tr>\n",
       "      <th>0</th>\n",
       "      <td>1</td>\n",
       "      <td>0.0</td>\n",
       "      <td>3</td>\n",
       "      <td>male</td>\n",
       "      <td>1</td>\n",
       "      <td>0</td>\n",
       "      <td>A/5 21171</td>\n",
       "      <td>NaN</td>\n",
       "      <td>S</td>\n",
       "      <td>0</td>\n",
       "      <td>...</td>\n",
       "      <td>0</td>\n",
       "      <td>0</td>\n",
       "      <td>0</td>\n",
       "      <td>0</td>\n",
       "      <td>0</td>\n",
       "      <td>0.407407</td>\n",
       "      <td>0</td>\n",
       "      <td>0</td>\n",
       "      <td>1</td>\n",
       "      <td>0</td>\n",
       "    </tr>\n",
       "    <tr>\n",
       "      <th>1</th>\n",
       "      <td>2</td>\n",
       "      <td>1.0</td>\n",
       "      <td>1</td>\n",
       "      <td>female</td>\n",
       "      <td>1</td>\n",
       "      <td>0</td>\n",
       "      <td>PC 17599</td>\n",
       "      <td>C85</td>\n",
       "      <td>C</td>\n",
       "      <td>0</td>\n",
       "      <td>...</td>\n",
       "      <td>0</td>\n",
       "      <td>0</td>\n",
       "      <td>0</td>\n",
       "      <td>0</td>\n",
       "      <td>0</td>\n",
       "      <td>0.647059</td>\n",
       "      <td>0</td>\n",
       "      <td>1</td>\n",
       "      <td>0</td>\n",
       "      <td>0</td>\n",
       "    </tr>\n",
       "    <tr>\n",
       "      <th>2</th>\n",
       "      <td>3</td>\n",
       "      <td>1.0</td>\n",
       "      <td>3</td>\n",
       "      <td>female</td>\n",
       "      <td>0</td>\n",
       "      <td>0</td>\n",
       "      <td>STON/O2. 3101282</td>\n",
       "      <td>NaN</td>\n",
       "      <td>S</td>\n",
       "      <td>0</td>\n",
       "      <td>...</td>\n",
       "      <td>0</td>\n",
       "      <td>0</td>\n",
       "      <td>0</td>\n",
       "      <td>0</td>\n",
       "      <td>0</td>\n",
       "      <td>0.333333</td>\n",
       "      <td>0</td>\n",
       "      <td>1</td>\n",
       "      <td>0</td>\n",
       "      <td>0</td>\n",
       "    </tr>\n",
       "    <tr>\n",
       "      <th>3</th>\n",
       "      <td>4</td>\n",
       "      <td>1.0</td>\n",
       "      <td>1</td>\n",
       "      <td>female</td>\n",
       "      <td>1</td>\n",
       "      <td>0</td>\n",
       "      <td>113803</td>\n",
       "      <td>C123</td>\n",
       "      <td>S</td>\n",
       "      <td>0</td>\n",
       "      <td>...</td>\n",
       "      <td>0</td>\n",
       "      <td>0</td>\n",
       "      <td>0</td>\n",
       "      <td>0</td>\n",
       "      <td>0</td>\n",
       "      <td>0.611111</td>\n",
       "      <td>0</td>\n",
       "      <td>1</td>\n",
       "      <td>0</td>\n",
       "      <td>0</td>\n",
       "    </tr>\n",
       "    <tr>\n",
       "      <th>4</th>\n",
       "      <td>5</td>\n",
       "      <td>0.0</td>\n",
       "      <td>3</td>\n",
       "      <td>male</td>\n",
       "      <td>0</td>\n",
       "      <td>0</td>\n",
       "      <td>373450</td>\n",
       "      <td>NaN</td>\n",
       "      <td>S</td>\n",
       "      <td>0</td>\n",
       "      <td>...</td>\n",
       "      <td>0</td>\n",
       "      <td>0</td>\n",
       "      <td>0</td>\n",
       "      <td>1</td>\n",
       "      <td>0</td>\n",
       "      <td>0.611111</td>\n",
       "      <td>0</td>\n",
       "      <td>0</td>\n",
       "      <td>1</td>\n",
       "      <td>0</td>\n",
       "    </tr>\n",
       "  </tbody>\n",
       "</table>\n",
       "<p>5 rows × 164 columns</p>\n",
       "</div>"
      ],
      "text/plain": [
       "   PassengerId  Survived  Pclass     Sex  SibSp  Parch            Ticket  \\\n",
       "0            1       0.0       3    male      1      0         A/5 21171   \n",
       "1            2       1.0       1  female      1      0          PC 17599   \n",
       "2            3       1.0       3  female      0      0  STON/O2. 3101282   \n",
       "3            4       1.0       1  female      1      0            113803   \n",
       "4            5       0.0       3    male      0      0            373450   \n",
       "\n",
       "  Cabin Embarked  Fare_class_10  ...  Fare_class_293  Fare_class_295  \\\n",
       "0   NaN        S              0  ...               0               0   \n",
       "1   C85        C              0  ...               0               0   \n",
       "2   NaN        S              0  ...               0               0   \n",
       "3  C123        S              0  ...               0               0   \n",
       "4   NaN        S              0  ...               0               0   \n",
       "\n",
       "   Fare_class_296  Fare_class_297  Fare_class_298  Age_based_survival  \\\n",
       "0               0               0               0            0.407407   \n",
       "1               0               0               0            0.647059   \n",
       "2               0               0               0            0.333333   \n",
       "3               0               0               0            0.611111   \n",
       "4               0               1               0            0.611111   \n",
       "\n",
       "   Title_0  Title_1  Title_2  Title_3  \n",
       "0        0        0        1        0  \n",
       "1        0        1        0        0  \n",
       "2        0        1        0        0  \n",
       "3        0        1        0        0  \n",
       "4        0        0        1        0  \n",
       "\n",
       "[5 rows x 164 columns]"
      ]
     },
     "execution_count": 76,
     "metadata": {},
     "output_type": "execute_result"
    }
   ],
   "source": [
    "train_df.head()"
   ]
  },
  {
   "cell_type": "markdown",
   "metadata": {
    "papermill": {
     "duration": 0.142155,
     "end_time": "2021-03-05T11:05:57.690369",
     "exception": false,
     "start_time": "2021-03-05T11:05:57.548214",
     "status": "completed"
    },
    "tags": []
   },
   "source": [
    "<a id='23'></a>\n",
    "## Family Size"
   ]
  },
  {
   "cell_type": "code",
   "execution_count": 77,
   "metadata": {
    "execution": {
     "iopub.execute_input": "2021-03-05T11:05:57.979834Z",
     "iopub.status.busy": "2021-03-05T11:05:57.978800Z",
     "iopub.status.idle": "2021-03-05T11:05:57.985744Z",
     "shell.execute_reply": "2021-03-05T11:05:57.985090Z"
    },
    "papermill": {
     "duration": 0.15356,
     "end_time": "2021-03-05T11:05:57.985868",
     "exception": false,
     "start_time": "2021-03-05T11:05:57.832308",
     "status": "completed"
    },
    "tags": []
   },
   "outputs": [],
   "source": [
    "train_df['Fsize'] = train_df['SibSp'] + train_df['Parch'] + 1"
   ]
  },
  {
   "cell_type": "code",
   "execution_count": 78,
   "metadata": {
    "execution": {
     "iopub.execute_input": "2021-03-05T11:05:58.278227Z",
     "iopub.status.busy": "2021-03-05T11:05:58.276939Z",
     "iopub.status.idle": "2021-03-05T11:05:58.717160Z",
     "shell.execute_reply": "2021-03-05T11:05:58.717648Z"
    },
    "papermill": {
     "duration": 0.589202,
     "end_time": "2021-03-05T11:05:58.717810",
     "exception": false,
     "start_time": "2021-03-05T11:05:58.128608",
     "status": "completed"
    },
    "tags": []
   },
   "outputs": [
    {
     "data": {
      "image/png": "[encoded data removed]",
      "text/plain": [
       "<Figure size 360x360 with 1 Axes>"
      ]
     },
     "metadata": {},
     "output_type": "display_data"
    }
   ],
   "source": [
    "g = sns.factorplot(x='Fsize', y='Survived', data=train_df, kind='bar')\n",
    "plt.show()"
   ]
  },
  {
   "cell_type": "code",
   "execution_count": 79,
   "metadata": {
    "execution": {
     "iopub.execute_input": "2021-03-05T11:05:59.009879Z",
     "iopub.status.busy": "2021-03-05T11:05:59.009159Z",
     "iopub.status.idle": "2021-03-05T11:05:59.015860Z",
     "shell.execute_reply": "2021-03-05T11:05:59.016348Z"
    },
    "papermill": {
     "duration": 0.155203,
     "end_time": "2021-03-05T11:05:59.016535",
     "exception": false,
     "start_time": "2021-03-05T11:05:58.861332",
     "status": "completed"
    },
    "tags": []
   },
   "outputs": [],
   "source": [
    "train_df['Family_size'] = [1 if i in [2,3,4] else 0 for i in train_df['Fsize']]"
   ]
  },
  {
   "cell_type": "code",
   "execution_count": 80,
   "metadata": {
    "execution": {
     "iopub.execute_input": "2021-03-05T11:05:59.310210Z",
     "iopub.status.busy": "2021-03-05T11:05:59.309564Z",
     "iopub.status.idle": "2021-03-05T11:05:59.334145Z",
     "shell.execute_reply": "2021-03-05T11:05:59.334659Z"
    },
    "papermill": {
     "duration": 0.17228,
     "end_time": "2021-03-05T11:05:59.334804",
     "exception": false,
     "start_time": "2021-03-05T11:05:59.162524",
     "status": "completed"
    },
    "tags": []
   },
   "outputs": [
    {
     "data": {
      "text/html": [
       "<div>\n",
       "<style scoped>\n",
       "    .dataframe tbody tr th:only-of-type {\n",
       "        vertical-align: middle;\n",
       "    }\n",
       "\n",
       "    .dataframe tbody tr th {\n",
       "        vertical-align: top;\n",
       "    }\n",
       "\n",
       "    .dataframe thead th {\n",
       "        text-align: right;\n",
       "    }\n",
       "</style>\n",
       "<table border=\"1\" class=\"dataframe\">\n",
       "  <thead>\n",
       "    <tr style=\"text-align: right;\">\n",
       "      <th></th>\n",
       "      <th>PassengerId</th>\n",
       "      <th>Survived</th>\n",
       "      <th>Pclass</th>\n",
       "      <th>Sex</th>\n",
       "      <th>SibSp</th>\n",
       "      <th>Parch</th>\n",
       "      <th>Ticket</th>\n",
       "      <th>Cabin</th>\n",
       "      <th>Embarked</th>\n",
       "      <th>Fare_class_10</th>\n",
       "      <th>...</th>\n",
       "      <th>Fare_class_296</th>\n",
       "      <th>Fare_class_297</th>\n",
       "      <th>Fare_class_298</th>\n",
       "      <th>Age_based_survival</th>\n",
       "      <th>Title_0</th>\n",
       "      <th>Title_1</th>\n",
       "      <th>Title_2</th>\n",
       "      <th>Title_3</th>\n",
       "      <th>Fsize</th>\n",
       "      <th>Family_size</th>\n",
       "    </tr>\n",
       "  </thead>\n",
       "  <tbody>\n",
       "    <tr>\n",
       "      <th>0</th>\n",
       "      <td>1</td>\n",
       "      <td>0.0</td>\n",
       "      <td>3</td>\n",
       "      <td>male</td>\n",
       "      <td>1</td>\n",
       "      <td>0</td>\n",
       "      <td>A/5 21171</td>\n",
       "      <td>NaN</td>\n",
       "      <td>S</td>\n",
       "      <td>0</td>\n",
       "      <td>...</td>\n",
       "      <td>0</td>\n",
       "      <td>0</td>\n",
       "      <td>0</td>\n",
       "      <td>0.407407</td>\n",
       "      <td>0</td>\n",
       "      <td>0</td>\n",
       "      <td>1</td>\n",
       "      <td>0</td>\n",
       "      <td>2</td>\n",
       "      <td>1</td>\n",
       "    </tr>\n",
       "    <tr>\n",
       "      <th>1</th>\n",
       "      <td>2</td>\n",
       "      <td>1.0</td>\n",
       "      <td>1</td>\n",
       "      <td>female</td>\n",
       "      <td>1</td>\n",
       "      <td>0</td>\n",
       "      <td>PC 17599</td>\n",
       "      <td>C85</td>\n",
       "      <td>C</td>\n",
       "      <td>0</td>\n",
       "      <td>...</td>\n",
       "      <td>0</td>\n",
       "      <td>0</td>\n",
       "      <td>0</td>\n",
       "      <td>0.647059</td>\n",
       "      <td>0</td>\n",
       "      <td>1</td>\n",
       "      <td>0</td>\n",
       "      <td>0</td>\n",
       "      <td>2</td>\n",
       "      <td>1</td>\n",
       "    </tr>\n",
       "    <tr>\n",
       "      <th>2</th>\n",
       "      <td>3</td>\n",
       "      <td>1.0</td>\n",
       "      <td>3</td>\n",
       "      <td>female</td>\n",
       "      <td>0</td>\n",
       "      <td>0</td>\n",
       "      <td>STON/O2. 3101282</td>\n",
       "      <td>NaN</td>\n",
       "      <td>S</td>\n",
       "      <td>0</td>\n",
       "      <td>...</td>\n",
       "      <td>0</td>\n",
       "      <td>0</td>\n",
       "      <td>0</td>\n",
       "      <td>0.333333</td>\n",
       "      <td>0</td>\n",
       "      <td>1</td>\n",
       "      <td>0</td>\n",
       "      <td>0</td>\n",
       "      <td>1</td>\n",
       "      <td>0</td>\n",
       "    </tr>\n",
       "    <tr>\n",
       "      <th>3</th>\n",
       "      <td>4</td>\n",
       "      <td>1.0</td>\n",
       "      <td>1</td>\n",
       "      <td>female</td>\n",
       "      <td>1</td>\n",
       "      <td>0</td>\n",
       "      <td>113803</td>\n",
       "      <td>C123</td>\n",
       "      <td>S</td>\n",
       "      <td>0</td>\n",
       "      <td>...</td>\n",
       "      <td>0</td>\n",
       "      <td>0</td>\n",
       "      <td>0</td>\n",
       "      <td>0.611111</td>\n",
       "      <td>0</td>\n",
       "      <td>1</td>\n",
       "      <td>0</td>\n",
       "      <td>0</td>\n",
       "      <td>2</td>\n",
       "      <td>1</td>\n",
       "    </tr>\n",
       "    <tr>\n",
       "      <th>4</th>\n",
       "      <td>5</td>\n",
       "      <td>0.0</td>\n",
       "      <td>3</td>\n",
       "      <td>male</td>\n",
       "      <td>0</td>\n",
       "      <td>0</td>\n",
       "      <td>373450</td>\n",
       "      <td>NaN</td>\n",
       "      <td>S</td>\n",
       "      <td>0</td>\n",
       "      <td>...</td>\n",
       "      <td>0</td>\n",
       "      <td>1</td>\n",
       "      <td>0</td>\n",
       "      <td>0.611111</td>\n",
       "      <td>0</td>\n",
       "      <td>0</td>\n",
       "      <td>1</td>\n",
       "      <td>0</td>\n",
       "      <td>1</td>\n",
       "      <td>0</td>\n",
       "    </tr>\n",
       "  </tbody>\n",
       "</table>\n",
       "<p>5 rows × 166 columns</p>\n",
       "</div>"
      ],
      "text/plain": [
       "   PassengerId  Survived  Pclass     Sex  SibSp  Parch            Ticket  \\\n",
       "0            1       0.0       3    male      1      0         A/5 21171   \n",
       "1            2       1.0       1  female      1      0          PC 17599   \n",
       "2            3       1.0       3  female      0      0  STON/O2. 3101282   \n",
       "3            4       1.0       1  female      1      0            113803   \n",
       "4            5       0.0       3    male      0      0            373450   \n",
       "\n",
       "  Cabin Embarked  Fare_class_10  ...  Fare_class_296  Fare_class_297  \\\n",
       "0   NaN        S              0  ...               0               0   \n",
       "1   C85        C              0  ...               0               0   \n",
       "2   NaN        S              0  ...               0               0   \n",
       "3  C123        S              0  ...               0               0   \n",
       "4   NaN        S              0  ...               0               1   \n",
       "\n",
       "   Fare_class_298  Age_based_survival  Title_0  Title_1  Title_2  Title_3  \\\n",
       "0               0            0.407407        0        0        1        0   \n",
       "1               0            0.647059        0        1        0        0   \n",
       "2               0            0.333333        0        1        0        0   \n",
       "3               0            0.611111        0        1        0        0   \n",
       "4               0            0.611111        0        0        1        0   \n",
       "\n",
       "   Fsize  Family_size  \n",
       "0      2            1  \n",
       "1      2            1  \n",
       "2      1            0  \n",
       "3      2            1  \n",
       "4      1            0  \n",
       "\n",
       "[5 rows x 166 columns]"
      ]
     },
     "execution_count": 80,
     "metadata": {},
     "output_type": "execute_result"
    }
   ],
   "source": [
    "train_df.head()"
   ]
  },
  {
   "cell_type": "code",
   "execution_count": 81,
   "metadata": {
    "execution": {
     "iopub.execute_input": "2021-03-05T11:05:59.635694Z",
     "iopub.status.busy": "2021-03-05T11:05:59.628586Z",
     "iopub.status.idle": "2021-03-05T11:05:59.726674Z",
     "shell.execute_reply": "2021-03-05T11:05:59.726142Z"
    },
    "papermill": {
     "duration": 0.247817,
     "end_time": "2021-03-05T11:05:59.726787",
     "exception": false,
     "start_time": "2021-03-05T11:05:59.478970",
     "status": "completed"
    },
    "tags": []
   },
   "outputs": [
    {
     "data": {
      "image/png": "[encoded data removed]",
      "text/plain": [
       "<Figure size 432x288 with 1 Axes>"
      ]
     },
     "metadata": {},
     "output_type": "display_data"
    }
   ],
   "source": [
    "sns.countplot(x='Family_size', data=train_df)\n",
    "plt.xlabel('Family size')\n",
    "plt.show()"
   ]
  },
  {
   "cell_type": "code",
   "execution_count": 82,
   "metadata": {
    "execution": {
     "iopub.execute_input": "2021-03-05T11:06:00.030564Z",
     "iopub.status.busy": "2021-03-05T11:06:00.029856Z",
     "iopub.status.idle": "2021-03-05T11:06:00.247233Z",
     "shell.execute_reply": "2021-03-05T11:06:00.247817Z"
    },
    "papermill": {
     "duration": 0.37608,
     "end_time": "2021-03-05T11:06:00.247963",
     "exception": false,
     "start_time": "2021-03-05T11:05:59.871883",
     "status": "completed"
    },
    "tags": []
   },
   "outputs": [
    {
     "data": {
      "image/png": "[encoded data removed]",
      "text/plain": [
       "<Figure size 360x360 with 1 Axes>"
      ]
     },
     "metadata": {},
     "output_type": "display_data"
    }
   ],
   "source": [
    "g = sns.factorplot(x='Family_size', y='Survived', data=train_df, kind='bar')\n",
    "g.set_xlabels('Family size')\n",
    "g.set_ylabels('Survival Probability')\n",
    "plt.show()"
   ]
  },
  {
   "cell_type": "markdown",
   "metadata": {
    "papermill": {
     "duration": 0.147114,
     "end_time": "2021-03-05T11:06:00.541120",
     "exception": false,
     "start_time": "2021-03-05T11:06:00.394006",
     "status": "completed"
    },
    "tags": []
   },
   "source": [
    "Small families have more survival chance than large families."
   ]
  },
  {
   "cell_type": "code",
   "execution_count": 83,
   "metadata": {
    "execution": {
     "iopub.execute_input": "2021-03-05T11:06:00.839047Z",
     "iopub.status.busy": "2021-03-05T11:06:00.838418Z",
     "iopub.status.idle": "2021-03-05T11:06:00.864161Z",
     "shell.execute_reply": "2021-03-05T11:06:00.863466Z"
    },
    "papermill": {
     "duration": 0.175359,
     "end_time": "2021-03-05T11:06:00.864278",
     "exception": false,
     "start_time": "2021-03-05T11:06:00.688919",
     "status": "completed"
    },
    "tags": []
   },
   "outputs": [
    {
     "data": {
      "text/html": [
       "<div>\n",
       "<style scoped>\n",
       "    .dataframe tbody tr th:only-of-type {\n",
       "        vertical-align: middle;\n",
       "    }\n",
       "\n",
       "    .dataframe tbody tr th {\n",
       "        vertical-align: top;\n",
       "    }\n",
       "\n",
       "    .dataframe thead th {\n",
       "        text-align: right;\n",
       "    }\n",
       "</style>\n",
       "<table border=\"1\" class=\"dataframe\">\n",
       "  <thead>\n",
       "    <tr style=\"text-align: right;\">\n",
       "      <th></th>\n",
       "      <th>PassengerId</th>\n",
       "      <th>Survived</th>\n",
       "      <th>Pclass</th>\n",
       "      <th>Sex</th>\n",
       "      <th>SibSp</th>\n",
       "      <th>Parch</th>\n",
       "      <th>Ticket</th>\n",
       "      <th>Cabin</th>\n",
       "      <th>Embarked</th>\n",
       "      <th>Fare_class_10</th>\n",
       "      <th>...</th>\n",
       "      <th>Fare_class_296</th>\n",
       "      <th>Fare_class_297</th>\n",
       "      <th>Fare_class_298</th>\n",
       "      <th>Age_based_survival</th>\n",
       "      <th>Title_0</th>\n",
       "      <th>Title_1</th>\n",
       "      <th>Title_2</th>\n",
       "      <th>Title_3</th>\n",
       "      <th>Fsize</th>\n",
       "      <th>Family_size</th>\n",
       "    </tr>\n",
       "  </thead>\n",
       "  <tbody>\n",
       "    <tr>\n",
       "      <th>0</th>\n",
       "      <td>1</td>\n",
       "      <td>0.0</td>\n",
       "      <td>3</td>\n",
       "      <td>male</td>\n",
       "      <td>1</td>\n",
       "      <td>0</td>\n",
       "      <td>A/5 21171</td>\n",
       "      <td>NaN</td>\n",
       "      <td>S</td>\n",
       "      <td>0</td>\n",
       "      <td>...</td>\n",
       "      <td>0</td>\n",
       "      <td>0</td>\n",
       "      <td>0</td>\n",
       "      <td>0.407407</td>\n",
       "      <td>0</td>\n",
       "      <td>0</td>\n",
       "      <td>1</td>\n",
       "      <td>0</td>\n",
       "      <td>2</td>\n",
       "      <td>1</td>\n",
       "    </tr>\n",
       "    <tr>\n",
       "      <th>1</th>\n",
       "      <td>2</td>\n",
       "      <td>1.0</td>\n",
       "      <td>1</td>\n",
       "      <td>female</td>\n",
       "      <td>1</td>\n",
       "      <td>0</td>\n",
       "      <td>PC 17599</td>\n",
       "      <td>C85</td>\n",
       "      <td>C</td>\n",
       "      <td>0</td>\n",
       "      <td>...</td>\n",
       "      <td>0</td>\n",
       "      <td>0</td>\n",
       "      <td>0</td>\n",
       "      <td>0.647059</td>\n",
       "      <td>0</td>\n",
       "      <td>1</td>\n",
       "      <td>0</td>\n",
       "      <td>0</td>\n",
       "      <td>2</td>\n",
       "      <td>1</td>\n",
       "    </tr>\n",
       "    <tr>\n",
       "      <th>2</th>\n",
       "      <td>3</td>\n",
       "      <td>1.0</td>\n",
       "      <td>3</td>\n",
       "      <td>female</td>\n",
       "      <td>0</td>\n",
       "      <td>0</td>\n",
       "      <td>STON/O2. 3101282</td>\n",
       "      <td>NaN</td>\n",
       "      <td>S</td>\n",
       "      <td>0</td>\n",
       "      <td>...</td>\n",
       "      <td>0</td>\n",
       "      <td>0</td>\n",
       "      <td>0</td>\n",
       "      <td>0.333333</td>\n",
       "      <td>0</td>\n",
       "      <td>1</td>\n",
       "      <td>0</td>\n",
       "      <td>0</td>\n",
       "      <td>1</td>\n",
       "      <td>0</td>\n",
       "    </tr>\n",
       "    <tr>\n",
       "      <th>3</th>\n",
       "      <td>4</td>\n",
       "      <td>1.0</td>\n",
       "      <td>1</td>\n",
       "      <td>female</td>\n",
       "      <td>1</td>\n",
       "      <td>0</td>\n",
       "      <td>113803</td>\n",
       "      <td>C123</td>\n",
       "      <td>S</td>\n",
       "      <td>0</td>\n",
       "      <td>...</td>\n",
       "      <td>0</td>\n",
       "      <td>0</td>\n",
       "      <td>0</td>\n",
       "      <td>0.611111</td>\n",
       "      <td>0</td>\n",
       "      <td>1</td>\n",
       "      <td>0</td>\n",
       "      <td>0</td>\n",
       "      <td>2</td>\n",
       "      <td>1</td>\n",
       "    </tr>\n",
       "    <tr>\n",
       "      <th>4</th>\n",
       "      <td>5</td>\n",
       "      <td>0.0</td>\n",
       "      <td>3</td>\n",
       "      <td>male</td>\n",
       "      <td>0</td>\n",
       "      <td>0</td>\n",
       "      <td>373450</td>\n",
       "      <td>NaN</td>\n",
       "      <td>S</td>\n",
       "      <td>0</td>\n",
       "      <td>...</td>\n",
       "      <td>0</td>\n",
       "      <td>1</td>\n",
       "      <td>0</td>\n",
       "      <td>0.611111</td>\n",
       "      <td>0</td>\n",
       "      <td>0</td>\n",
       "      <td>1</td>\n",
       "      <td>0</td>\n",
       "      <td>1</td>\n",
       "      <td>0</td>\n",
       "    </tr>\n",
       "  </tbody>\n",
       "</table>\n",
       "<p>5 rows × 166 columns</p>\n",
       "</div>"
      ],
      "text/plain": [
       "   PassengerId  Survived  Pclass     Sex  SibSp  Parch            Ticket  \\\n",
       "0            1       0.0       3    male      1      0         A/5 21171   \n",
       "1            2       1.0       1  female      1      0          PC 17599   \n",
       "2            3       1.0       3  female      0      0  STON/O2. 3101282   \n",
       "3            4       1.0       1  female      1      0            113803   \n",
       "4            5       0.0       3    male      0      0            373450   \n",
       "\n",
       "  Cabin Embarked  Fare_class_10  ...  Fare_class_296  Fare_class_297  \\\n",
       "0   NaN        S              0  ...               0               0   \n",
       "1   C85        C              0  ...               0               0   \n",
       "2   NaN        S              0  ...               0               0   \n",
       "3  C123        S              0  ...               0               0   \n",
       "4   NaN        S              0  ...               0               1   \n",
       "\n",
       "   Fare_class_298  Age_based_survival  Title_0  Title_1  Title_2  Title_3  \\\n",
       "0               0            0.407407        0        0        1        0   \n",
       "1               0            0.647059        0        1        0        0   \n",
       "2               0            0.333333        0        1        0        0   \n",
       "3               0            0.611111        0        1        0        0   \n",
       "4               0            0.611111        0        0        1        0   \n",
       "\n",
       "   Fsize  Family_size  \n",
       "0      2            1  \n",
       "1      2            1  \n",
       "2      1            0  \n",
       "3      2            1  \n",
       "4      1            0  \n",
       "\n",
       "[5 rows x 166 columns]"
      ]
     },
     "execution_count": 83,
     "metadata": {},
     "output_type": "execute_result"
    }
   ],
   "source": [
    "train_df.head()"
   ]
  },
  {
   "cell_type": "markdown",
   "metadata": {
    "papermill": {
     "duration": 0.148502,
     "end_time": "2021-03-05T11:06:01.159786",
     "exception": false,
     "start_time": "2021-03-05T11:06:01.011284",
     "status": "completed"
    },
    "tags": []
   },
   "source": [
    "<a id='36'></a>\n",
    "## SibSp"
   ]
  },
  {
   "cell_type": "code",
   "execution_count": 84,
   "metadata": {
    "execution": {
     "iopub.execute_input": "2021-03-05T11:06:01.455369Z",
     "iopub.status.busy": "2021-03-05T11:06:01.454700Z",
     "iopub.status.idle": "2021-03-05T11:06:01.461556Z",
     "shell.execute_reply": "2021-03-05T11:06:01.462106Z"
    },
    "papermill": {
     "duration": 0.156344,
     "end_time": "2021-03-05T11:06:01.462243",
     "exception": false,
     "start_time": "2021-03-05T11:06:01.305899",
     "status": "completed"
    },
    "tags": []
   },
   "outputs": [],
   "source": [
    "train_df['SibSp_categ'] = [0 if i in [0,1,2] else 1 if i in [3,4] else 2 for i in train_df.SibSp]"
   ]
  },
  {
   "cell_type": "code",
   "execution_count": 85,
   "metadata": {
    "execution": {
     "iopub.execute_input": "2021-03-05T11:06:01.762736Z",
     "iopub.status.busy": "2021-03-05T11:06:01.762040Z",
     "iopub.status.idle": "2021-03-05T11:06:01.772257Z",
     "shell.execute_reply": "2021-03-05T11:06:01.772833Z"
    },
    "papermill": {
     "duration": 0.161879,
     "end_time": "2021-03-05T11:06:01.772981",
     "exception": false,
     "start_time": "2021-03-05T11:06:01.611102",
     "status": "completed"
    },
    "tags": []
   },
   "outputs": [],
   "source": [
    "train_df = pd.get_dummies(data=train_df, columns=['SibSp_categ'])"
   ]
  },
  {
   "cell_type": "markdown",
   "metadata": {
    "papermill": {
     "duration": 0.149801,
     "end_time": "2021-03-05T11:06:02.070024",
     "exception": false,
     "start_time": "2021-03-05T11:06:01.920223",
     "status": "completed"
    },
    "tags": []
   },
   "source": [
    "<a id='37'></a>\n",
    "## Parch"
   ]
  },
  {
   "cell_type": "code",
   "execution_count": 86,
   "metadata": {
    "execution": {
     "iopub.execute_input": "2021-03-05T11:06:02.372762Z",
     "iopub.status.busy": "2021-03-05T11:06:02.372131Z",
     "iopub.status.idle": "2021-03-05T11:06:02.379838Z",
     "shell.execute_reply": "2021-03-05T11:06:02.380349Z"
    },
    "papermill": {
     "duration": 0.161145,
     "end_time": "2021-03-05T11:06:02.380506",
     "exception": false,
     "start_time": "2021-03-05T11:06:02.219361",
     "status": "completed"
    },
    "tags": []
   },
   "outputs": [],
   "source": [
    "train_df['Parch_categ'] = [0 if i in [1,2,3] else 1 if i in [0,5] else 2 for i in train_df.Parch]"
   ]
  },
  {
   "cell_type": "code",
   "execution_count": 87,
   "metadata": {
    "execution": {
     "iopub.execute_input": "2021-03-05T11:06:02.685613Z",
     "iopub.status.busy": "2021-03-05T11:06:02.684921Z",
     "iopub.status.idle": "2021-03-05T11:06:02.697108Z",
     "shell.execute_reply": "2021-03-05T11:06:02.696546Z"
    },
    "papermill": {
     "duration": 0.161921,
     "end_time": "2021-03-05T11:06:02.697234",
     "exception": false,
     "start_time": "2021-03-05T11:06:02.535313",
     "status": "completed"
    },
    "tags": []
   },
   "outputs": [],
   "source": [
    "train_df = pd.get_dummies(data=train_df, columns=['Parch_categ'])"
   ]
  },
  {
   "cell_type": "code",
   "execution_count": 88,
   "metadata": {
    "execution": {
     "iopub.execute_input": "2021-03-05T11:06:02.998848Z",
     "iopub.status.busy": "2021-03-05T11:06:02.998180Z",
     "iopub.status.idle": "2021-03-05T11:06:03.020162Z",
     "shell.execute_reply": "2021-03-05T11:06:03.020750Z"
    },
    "papermill": {
     "duration": 0.175185,
     "end_time": "2021-03-05T11:06:03.020896",
     "exception": false,
     "start_time": "2021-03-05T11:06:02.845711",
     "status": "completed"
    },
    "tags": []
   },
   "outputs": [
    {
     "data": {
      "text/html": [
       "<div>\n",
       "<style scoped>\n",
       "    .dataframe tbody tr th:only-of-type {\n",
       "        vertical-align: middle;\n",
       "    }\n",
       "\n",
       "    .dataframe tbody tr th {\n",
       "        vertical-align: top;\n",
       "    }\n",
       "\n",
       "    .dataframe thead th {\n",
       "        text-align: right;\n",
       "    }\n",
       "</style>\n",
       "<table border=\"1\" class=\"dataframe\">\n",
       "  <thead>\n",
       "    <tr style=\"text-align: right;\">\n",
       "      <th></th>\n",
       "      <th>PassengerId</th>\n",
       "      <th>Survived</th>\n",
       "      <th>Pclass</th>\n",
       "      <th>Sex</th>\n",
       "      <th>SibSp</th>\n",
       "      <th>Parch</th>\n",
       "      <th>Ticket</th>\n",
       "      <th>Cabin</th>\n",
       "      <th>Embarked</th>\n",
       "      <th>Fare_class_10</th>\n",
       "      <th>...</th>\n",
       "      <th>Title_2</th>\n",
       "      <th>Title_3</th>\n",
       "      <th>Fsize</th>\n",
       "      <th>Family_size</th>\n",
       "      <th>SibSp_categ_0</th>\n",
       "      <th>SibSp_categ_1</th>\n",
       "      <th>SibSp_categ_2</th>\n",
       "      <th>Parch_categ_0</th>\n",
       "      <th>Parch_categ_1</th>\n",
       "      <th>Parch_categ_2</th>\n",
       "    </tr>\n",
       "  </thead>\n",
       "  <tbody>\n",
       "    <tr>\n",
       "      <th>0</th>\n",
       "      <td>1</td>\n",
       "      <td>0.0</td>\n",
       "      <td>3</td>\n",
       "      <td>male</td>\n",
       "      <td>1</td>\n",
       "      <td>0</td>\n",
       "      <td>A/5 21171</td>\n",
       "      <td>NaN</td>\n",
       "      <td>S</td>\n",
       "      <td>0</td>\n",
       "      <td>...</td>\n",
       "      <td>1</td>\n",
       "      <td>0</td>\n",
       "      <td>2</td>\n",
       "      <td>1</td>\n",
       "      <td>1</td>\n",
       "      <td>0</td>\n",
       "      <td>0</td>\n",
       "      <td>0</td>\n",
       "      <td>1</td>\n",
       "      <td>0</td>\n",
       "    </tr>\n",
       "    <tr>\n",
       "      <th>1</th>\n",
       "      <td>2</td>\n",
       "      <td>1.0</td>\n",
       "      <td>1</td>\n",
       "      <td>female</td>\n",
       "      <td>1</td>\n",
       "      <td>0</td>\n",
       "      <td>PC 17599</td>\n",
       "      <td>C85</td>\n",
       "      <td>C</td>\n",
       "      <td>0</td>\n",
       "      <td>...</td>\n",
       "      <td>0</td>\n",
       "      <td>0</td>\n",
       "      <td>2</td>\n",
       "      <td>1</td>\n",
       "      <td>1</td>\n",
       "      <td>0</td>\n",
       "      <td>0</td>\n",
       "      <td>0</td>\n",
       "      <td>1</td>\n",
       "      <td>0</td>\n",
       "    </tr>\n",
       "    <tr>\n",
       "      <th>2</th>\n",
       "      <td>3</td>\n",
       "      <td>1.0</td>\n",
       "      <td>3</td>\n",
       "      <td>female</td>\n",
       "      <td>0</td>\n",
       "      <td>0</td>\n",
       "      <td>STON/O2. 3101282</td>\n",
       "      <td>NaN</td>\n",
       "      <td>S</td>\n",
       "      <td>0</td>\n",
       "      <td>...</td>\n",
       "      <td>0</td>\n",
       "      <td>0</td>\n",
       "      <td>1</td>\n",
       "      <td>0</td>\n",
       "      <td>1</td>\n",
       "      <td>0</td>\n",
       "      <td>0</td>\n",
       "      <td>0</td>\n",
       "      <td>1</td>\n",
       "      <td>0</td>\n",
       "    </tr>\n",
       "    <tr>\n",
       "      <th>3</th>\n",
       "      <td>4</td>\n",
       "      <td>1.0</td>\n",
       "      <td>1</td>\n",
       "      <td>female</td>\n",
       "      <td>1</td>\n",
       "      <td>0</td>\n",
       "      <td>113803</td>\n",
       "      <td>C123</td>\n",
       "      <td>S</td>\n",
       "      <td>0</td>\n",
       "      <td>...</td>\n",
       "      <td>0</td>\n",
       "      <td>0</td>\n",
       "      <td>2</td>\n",
       "      <td>1</td>\n",
       "      <td>1</td>\n",
       "      <td>0</td>\n",
       "      <td>0</td>\n",
       "      <td>0</td>\n",
       "      <td>1</td>\n",
       "      <td>0</td>\n",
       "    </tr>\n",
       "    <tr>\n",
       "      <th>4</th>\n",
       "      <td>5</td>\n",
       "      <td>0.0</td>\n",
       "      <td>3</td>\n",
       "      <td>male</td>\n",
       "      <td>0</td>\n",
       "      <td>0</td>\n",
       "      <td>373450</td>\n",
       "      <td>NaN</td>\n",
       "      <td>S</td>\n",
       "      <td>0</td>\n",
       "      <td>...</td>\n",
       "      <td>1</td>\n",
       "      <td>0</td>\n",
       "      <td>1</td>\n",
       "      <td>0</td>\n",
       "      <td>1</td>\n",
       "      <td>0</td>\n",
       "      <td>0</td>\n",
       "      <td>0</td>\n",
       "      <td>1</td>\n",
       "      <td>0</td>\n",
       "    </tr>\n",
       "  </tbody>\n",
       "</table>\n",
       "<p>5 rows × 172 columns</p>\n",
       "</div>"
      ],
      "text/plain": [
       "   PassengerId  Survived  Pclass     Sex  SibSp  Parch            Ticket  \\\n",
       "0            1       0.0       3    male      1      0         A/5 21171   \n",
       "1            2       1.0       1  female      1      0          PC 17599   \n",
       "2            3       1.0       3  female      0      0  STON/O2. 3101282   \n",
       "3            4       1.0       1  female      1      0            113803   \n",
       "4            5       0.0       3    male      0      0            373450   \n",
       "\n",
       "  Cabin Embarked  Fare_class_10  ...  Title_2  Title_3  Fsize  Family_size  \\\n",
       "0   NaN        S              0  ...        1        0      2            1   \n",
       "1   C85        C              0  ...        0        0      2            1   \n",
       "2   NaN        S              0  ...        0        0      1            0   \n",
       "3  C123        S              0  ...        0        0      2            1   \n",
       "4   NaN        S              0  ...        1        0      1            0   \n",
       "\n",
       "   SibSp_categ_0  SibSp_categ_1  SibSp_categ_2  Parch_categ_0  Parch_categ_1  \\\n",
       "0              1              0              0              0              1   \n",
       "1              1              0              0              0              1   \n",
       "2              1              0              0              0              1   \n",
       "3              1              0              0              0              1   \n",
       "4              1              0              0              0              1   \n",
       "\n",
       "   Parch_categ_2  \n",
       "0              0  \n",
       "1              0  \n",
       "2              0  \n",
       "3              0  \n",
       "4              0  \n",
       "\n",
       "[5 rows x 172 columns]"
      ]
     },
     "execution_count": 88,
     "metadata": {},
     "output_type": "execute_result"
    }
   ],
   "source": [
    "train_df.head()"
   ]
  },
  {
   "cell_type": "markdown",
   "metadata": {
    "papermill": {
     "duration": 0.186384,
     "end_time": "2021-03-05T11:06:03.355452",
     "exception": false,
     "start_time": "2021-03-05T11:06:03.169068",
     "status": "completed"
    },
    "tags": []
   },
   "source": [
    "<a id='24'></a>\n",
    "## Embarked"
   ]
  },
  {
   "cell_type": "code",
   "execution_count": 89,
   "metadata": {
    "execution": {
     "iopub.execute_input": "2021-03-05T11:06:03.654047Z",
     "iopub.status.busy": "2021-03-05T11:06:03.653405Z",
     "iopub.status.idle": "2021-03-05T11:06:03.758177Z",
     "shell.execute_reply": "2021-03-05T11:06:03.758774Z"
    },
    "papermill": {
     "duration": 0.255282,
     "end_time": "2021-03-05T11:06:03.758923",
     "exception": false,
     "start_time": "2021-03-05T11:06:03.503641",
     "status": "completed"
    },
    "tags": []
   },
   "outputs": [
    {
     "data": {
      "image/png": "[encoded data removed]",
      "text/plain": [
       "<Figure size 432x288 with 1 Axes>"
      ]
     },
     "metadata": {},
     "output_type": "display_data"
    }
   ],
   "source": [
    "sns.countplot(train_df['Embarked'])\n",
    "plt.show()"
   ]
  },
  {
   "cell_type": "code",
   "execution_count": 90,
   "metadata": {
    "execution": {
     "iopub.execute_input": "2021-03-05T11:06:04.062368Z",
     "iopub.status.busy": "2021-03-05T11:06:04.061716Z",
     "iopub.status.idle": "2021-03-05T11:06:04.073048Z",
     "shell.execute_reply": "2021-03-05T11:06:04.073638Z"
    },
    "papermill": {
     "duration": 0.165187,
     "end_time": "2021-03-05T11:06:04.073782",
     "exception": false,
     "start_time": "2021-03-05T11:06:03.908595",
     "status": "completed"
    },
    "tags": []
   },
   "outputs": [],
   "source": [
    "train_df = pd.get_dummies(data=train_df, columns=['Embarked'])"
   ]
  },
  {
   "cell_type": "code",
   "execution_count": 91,
   "metadata": {
    "execution": {
     "iopub.execute_input": "2021-03-05T11:06:04.374484Z",
     "iopub.status.busy": "2021-03-05T11:06:04.373791Z",
     "iopub.status.idle": "2021-03-05T11:06:04.397586Z",
     "shell.execute_reply": "2021-03-05T11:06:04.398126Z"
    },
    "papermill": {
     "duration": 0.175875,
     "end_time": "2021-03-05T11:06:04.398269",
     "exception": false,
     "start_time": "2021-03-05T11:06:04.222394",
     "status": "completed"
    },
    "tags": []
   },
   "outputs": [
    {
     "data": {
      "text/html": [
       "<div>\n",
       "<style scoped>\n",
       "    .dataframe tbody tr th:only-of-type {\n",
       "        vertical-align: middle;\n",
       "    }\n",
       "\n",
       "    .dataframe tbody tr th {\n",
       "        vertical-align: top;\n",
       "    }\n",
       "\n",
       "    .dataframe thead th {\n",
       "        text-align: right;\n",
       "    }\n",
       "</style>\n",
       "<table border=\"1\" class=\"dataframe\">\n",
       "  <thead>\n",
       "    <tr style=\"text-align: right;\">\n",
       "      <th></th>\n",
       "      <th>PassengerId</th>\n",
       "      <th>Survived</th>\n",
       "      <th>Pclass</th>\n",
       "      <th>Sex</th>\n",
       "      <th>SibSp</th>\n",
       "      <th>Parch</th>\n",
       "      <th>Ticket</th>\n",
       "      <th>Cabin</th>\n",
       "      <th>Fare_class_10</th>\n",
       "      <th>Fare_class_11</th>\n",
       "      <th>...</th>\n",
       "      <th>Family_size</th>\n",
       "      <th>SibSp_categ_0</th>\n",
       "      <th>SibSp_categ_1</th>\n",
       "      <th>SibSp_categ_2</th>\n",
       "      <th>Parch_categ_0</th>\n",
       "      <th>Parch_categ_1</th>\n",
       "      <th>Parch_categ_2</th>\n",
       "      <th>Embarked_C</th>\n",
       "      <th>Embarked_Q</th>\n",
       "      <th>Embarked_S</th>\n",
       "    </tr>\n",
       "  </thead>\n",
       "  <tbody>\n",
       "    <tr>\n",
       "      <th>0</th>\n",
       "      <td>1</td>\n",
       "      <td>0.0</td>\n",
       "      <td>3</td>\n",
       "      <td>male</td>\n",
       "      <td>1</td>\n",
       "      <td>0</td>\n",
       "      <td>A/5 21171</td>\n",
       "      <td>NaN</td>\n",
       "      <td>0</td>\n",
       "      <td>0</td>\n",
       "      <td>...</td>\n",
       "      <td>1</td>\n",
       "      <td>1</td>\n",
       "      <td>0</td>\n",
       "      <td>0</td>\n",
       "      <td>0</td>\n",
       "      <td>1</td>\n",
       "      <td>0</td>\n",
       "      <td>0</td>\n",
       "      <td>0</td>\n",
       "      <td>1</td>\n",
       "    </tr>\n",
       "    <tr>\n",
       "      <th>1</th>\n",
       "      <td>2</td>\n",
       "      <td>1.0</td>\n",
       "      <td>1</td>\n",
       "      <td>female</td>\n",
       "      <td>1</td>\n",
       "      <td>0</td>\n",
       "      <td>PC 17599</td>\n",
       "      <td>C85</td>\n",
       "      <td>0</td>\n",
       "      <td>0</td>\n",
       "      <td>...</td>\n",
       "      <td>1</td>\n",
       "      <td>1</td>\n",
       "      <td>0</td>\n",
       "      <td>0</td>\n",
       "      <td>0</td>\n",
       "      <td>1</td>\n",
       "      <td>0</td>\n",
       "      <td>1</td>\n",
       "      <td>0</td>\n",
       "      <td>0</td>\n",
       "    </tr>\n",
       "    <tr>\n",
       "      <th>2</th>\n",
       "      <td>3</td>\n",
       "      <td>1.0</td>\n",
       "      <td>3</td>\n",
       "      <td>female</td>\n",
       "      <td>0</td>\n",
       "      <td>0</td>\n",
       "      <td>STON/O2. 3101282</td>\n",
       "      <td>NaN</td>\n",
       "      <td>0</td>\n",
       "      <td>0</td>\n",
       "      <td>...</td>\n",
       "      <td>0</td>\n",
       "      <td>1</td>\n",
       "      <td>0</td>\n",
       "      <td>0</td>\n",
       "      <td>0</td>\n",
       "      <td>1</td>\n",
       "      <td>0</td>\n",
       "      <td>0</td>\n",
       "      <td>0</td>\n",
       "      <td>1</td>\n",
       "    </tr>\n",
       "    <tr>\n",
       "      <th>3</th>\n",
       "      <td>4</td>\n",
       "      <td>1.0</td>\n",
       "      <td>1</td>\n",
       "      <td>female</td>\n",
       "      <td>1</td>\n",
       "      <td>0</td>\n",
       "      <td>113803</td>\n",
       "      <td>C123</td>\n",
       "      <td>0</td>\n",
       "      <td>0</td>\n",
       "      <td>...</td>\n",
       "      <td>1</td>\n",
       "      <td>1</td>\n",
       "      <td>0</td>\n",
       "      <td>0</td>\n",
       "      <td>0</td>\n",
       "      <td>1</td>\n",
       "      <td>0</td>\n",
       "      <td>0</td>\n",
       "      <td>0</td>\n",
       "      <td>1</td>\n",
       "    </tr>\n",
       "    <tr>\n",
       "      <th>4</th>\n",
       "      <td>5</td>\n",
       "      <td>0.0</td>\n",
       "      <td>3</td>\n",
       "      <td>male</td>\n",
       "      <td>0</td>\n",
       "      <td>0</td>\n",
       "      <td>373450</td>\n",
       "      <td>NaN</td>\n",
       "      <td>0</td>\n",
       "      <td>0</td>\n",
       "      <td>...</td>\n",
       "      <td>0</td>\n",
       "      <td>1</td>\n",
       "      <td>0</td>\n",
       "      <td>0</td>\n",
       "      <td>0</td>\n",
       "      <td>1</td>\n",
       "      <td>0</td>\n",
       "      <td>0</td>\n",
       "      <td>0</td>\n",
       "      <td>1</td>\n",
       "    </tr>\n",
       "  </tbody>\n",
       "</table>\n",
       "<p>5 rows × 174 columns</p>\n",
       "</div>"
      ],
      "text/plain": [
       "   PassengerId  Survived  Pclass     Sex  SibSp  Parch            Ticket  \\\n",
       "0            1       0.0       3    male      1      0         A/5 21171   \n",
       "1            2       1.0       1  female      1      0          PC 17599   \n",
       "2            3       1.0       3  female      0      0  STON/O2. 3101282   \n",
       "3            4       1.0       1  female      1      0            113803   \n",
       "4            5       0.0       3    male      0      0            373450   \n",
       "\n",
       "  Cabin  Fare_class_10  Fare_class_11  ...  Family_size  SibSp_categ_0  \\\n",
       "0   NaN              0              0  ...            1              1   \n",
       "1   C85              0              0  ...            1              1   \n",
       "2   NaN              0              0  ...            0              1   \n",
       "3  C123              0              0  ...            1              1   \n",
       "4   NaN              0              0  ...            0              1   \n",
       "\n",
       "   SibSp_categ_1  SibSp_categ_2  Parch_categ_0  Parch_categ_1  Parch_categ_2  \\\n",
       "0              0              0              0              1              0   \n",
       "1              0              0              0              1              0   \n",
       "2              0              0              0              1              0   \n",
       "3              0              0              0              1              0   \n",
       "4              0              0              0              1              0   \n",
       "\n",
       "   Embarked_C  Embarked_Q  Embarked_S  \n",
       "0           0           0           1  \n",
       "1           1           0           0  \n",
       "2           0           0           1  \n",
       "3           0           0           1  \n",
       "4           0           0           1  \n",
       "\n",
       "[5 rows x 174 columns]"
      ]
     },
     "execution_count": 91,
     "metadata": {},
     "output_type": "execute_result"
    }
   ],
   "source": [
    "train_df.head()"
   ]
  },
  {
   "cell_type": "markdown",
   "metadata": {
    "papermill": {
     "duration": 0.149449,
     "end_time": "2021-03-05T11:06:04.697852",
     "exception": false,
     "start_time": "2021-03-05T11:06:04.548403",
     "status": "completed"
    },
    "tags": []
   },
   "source": [
    "<a id='25'></a>\n",
    "## Ticket"
   ]
  },
  {
   "cell_type": "code",
   "execution_count": 92,
   "metadata": {
    "execution": {
     "iopub.execute_input": "2021-03-05T11:06:05.000622Z",
     "iopub.status.busy": "2021-03-05T11:06:04.999928Z",
     "iopub.status.idle": "2021-03-05T11:06:05.007587Z",
     "shell.execute_reply": "2021-03-05T11:06:05.008164Z"
    },
    "papermill": {
     "duration": 0.160558,
     "end_time": "2021-03-05T11:06:05.008315",
     "exception": false,
     "start_time": "2021-03-05T11:06:04.847757",
     "status": "completed"
    },
    "tags": []
   },
   "outputs": [
    {
     "data": {
      "text/plain": [
       "0            A/5 21171\n",
       "1             PC 17599\n",
       "2     STON/O2. 3101282\n",
       "3               113803\n",
       "4               373450\n",
       "5               330877\n",
       "6                17463\n",
       "7               349909\n",
       "8               347742\n",
       "9               237736\n",
       "10             PP 9549\n",
       "11              113783\n",
       "12           A/5. 2151\n",
       "13              347082\n",
       "14              350406\n",
       "15              248706\n",
       "16              382652\n",
       "17              244373\n",
       "18              345763\n",
       "19                2649\n",
       "20              239865\n",
       "21              248698\n",
       "22              330923\n",
       "23              113788\n",
       "24              349909\n",
       "25              347077\n",
       "26                2631\n",
       "27              330959\n",
       "28              349216\n",
       "29            PC 17601\n",
       "30            PC 17569\n",
       "31              335677\n",
       "32          C.A. 24579\n",
       "33            PC 17604\n",
       "34              113789\n",
       "35                2677\n",
       "36          A./5. 2152\n",
       "37              345764\n",
       "38                2651\n",
       "39                7546\n",
       "40               11668\n",
       "41              349253\n",
       "42       SC/Paris 2123\n",
       "43              330958\n",
       "44     S.C./A.4. 23567\n",
       "45              370371\n",
       "46               14311\n",
       "47                2662\n",
       "48              349237\n",
       "49             3101295\n",
       "Name: Ticket, dtype: object"
      ]
     },
     "execution_count": 92,
     "metadata": {},
     "output_type": "execute_result"
    }
   ],
   "source": [
    "train_df['Ticket'].head(50)"
   ]
  },
  {
   "cell_type": "code",
   "execution_count": 93,
   "metadata": {
    "execution": {
     "iopub.execute_input": "2021-03-05T11:06:05.312282Z",
     "iopub.status.busy": "2021-03-05T11:06:05.311576Z",
     "iopub.status.idle": "2021-03-05T11:06:05.319669Z",
     "shell.execute_reply": "2021-03-05T11:06:05.320200Z"
    },
    "papermill": {
     "duration": 0.162146,
     "end_time": "2021-03-05T11:06:05.320349",
     "exception": false,
     "start_time": "2021-03-05T11:06:05.158203",
     "status": "completed"
    },
    "tags": []
   },
   "outputs": [],
   "source": [
    "ticket_list=[]\n",
    "for i in train_df['Ticket']:\n",
    "    if not i.strip().isdigit():\n",
    "        ticket_list.append(i.strip().replace('.','').replace('/','').split()[0])\n",
    "    else:\n",
    "        ticket_list.append('x')\n",
    "train_df['Ticket'] = ticket_list"
   ]
  },
  {
   "cell_type": "code",
   "execution_count": 94,
   "metadata": {
    "execution": {
     "iopub.execute_input": "2021-03-05T11:06:05.626680Z",
     "iopub.status.busy": "2021-03-05T11:06:05.626005Z",
     "iopub.status.idle": "2021-03-05T11:06:05.632672Z",
     "shell.execute_reply": "2021-03-05T11:06:05.633144Z"
    },
    "papermill": {
     "duration": 0.16161,
     "end_time": "2021-03-05T11:06:05.633293",
     "exception": false,
     "start_time": "2021-03-05T11:06:05.471683",
     "status": "completed"
    },
    "tags": []
   },
   "outputs": [
    {
     "data": {
      "text/plain": [
       "0            A5\n",
       "1            PC\n",
       "2        STONO2\n",
       "3             x\n",
       "4             x\n",
       "         ...   \n",
       "1294         A5\n",
       "1295         PC\n",
       "1296    SOTONOQ\n",
       "1297          x\n",
       "1298          x\n",
       "Name: Ticket, Length: 1299, dtype: object"
      ]
     },
     "execution_count": 94,
     "metadata": {},
     "output_type": "execute_result"
    }
   ],
   "source": [
    "train_df['Ticket']"
   ]
  },
  {
   "cell_type": "code",
   "execution_count": 95,
   "metadata": {
    "execution": {
     "iopub.execute_input": "2021-03-05T11:06:05.943752Z",
     "iopub.status.busy": "2021-03-05T11:06:05.943002Z",
     "iopub.status.idle": "2021-03-05T11:06:05.953096Z",
     "shell.execute_reply": "2021-03-05T11:06:05.952352Z"
    },
    "papermill": {
     "duration": 0.168604,
     "end_time": "2021-03-05T11:06:05.953214",
     "exception": false,
     "start_time": "2021-03-05T11:06:05.784610",
     "status": "completed"
    },
    "tags": []
   },
   "outputs": [],
   "source": [
    "train_df = pd.get_dummies(train_df, columns=['Ticket'], prefix='T')"
   ]
  },
  {
   "cell_type": "code",
   "execution_count": 96,
   "metadata": {
    "execution": {
     "iopub.execute_input": "2021-03-05T11:06:06.273933Z",
     "iopub.status.busy": "2021-03-05T11:06:06.273154Z",
     "iopub.status.idle": "2021-03-05T11:06:06.286291Z",
     "shell.execute_reply": "2021-03-05T11:06:06.285733Z"
    },
    "papermill": {
     "duration": 0.179961,
     "end_time": "2021-03-05T11:06:06.286400",
     "exception": false,
     "start_time": "2021-03-05T11:06:06.106439",
     "status": "completed"
    },
    "tags": []
   },
   "outputs": [
    {
     "data": {
      "text/html": [
       "<div>\n",
       "<style scoped>\n",
       "    .dataframe tbody tr th:only-of-type {\n",
       "        vertical-align: middle;\n",
       "    }\n",
       "\n",
       "    .dataframe tbody tr th {\n",
       "        vertical-align: top;\n",
       "    }\n",
       "\n",
       "    .dataframe thead th {\n",
       "        text-align: right;\n",
       "    }\n",
       "</style>\n",
       "<table border=\"1\" class=\"dataframe\">\n",
       "  <thead>\n",
       "    <tr style=\"text-align: right;\">\n",
       "      <th></th>\n",
       "      <th>PassengerId</th>\n",
       "      <th>Survived</th>\n",
       "      <th>Pclass</th>\n",
       "      <th>Sex</th>\n",
       "      <th>SibSp</th>\n",
       "      <th>Parch</th>\n",
       "      <th>Cabin</th>\n",
       "      <th>Fare_class_10</th>\n",
       "      <th>Fare_class_11</th>\n",
       "      <th>Fare_class_22</th>\n",
       "      <th>...</th>\n",
       "      <th>T_SOTONO2</th>\n",
       "      <th>T_SOTONOQ</th>\n",
       "      <th>T_SP</th>\n",
       "      <th>T_STONO</th>\n",
       "      <th>T_STONO2</th>\n",
       "      <th>T_STONOQ</th>\n",
       "      <th>T_SWPP</th>\n",
       "      <th>T_WC</th>\n",
       "      <th>T_WEP</th>\n",
       "      <th>T_x</th>\n",
       "    </tr>\n",
       "  </thead>\n",
       "  <tbody>\n",
       "    <tr>\n",
       "      <th>0</th>\n",
       "      <td>1</td>\n",
       "      <td>0.0</td>\n",
       "      <td>3</td>\n",
       "      <td>male</td>\n",
       "      <td>1</td>\n",
       "      <td>0</td>\n",
       "      <td>NaN</td>\n",
       "      <td>0</td>\n",
       "      <td>0</td>\n",
       "      <td>0</td>\n",
       "      <td>...</td>\n",
       "      <td>0</td>\n",
       "      <td>0</td>\n",
       "      <td>0</td>\n",
       "      <td>0</td>\n",
       "      <td>0</td>\n",
       "      <td>0</td>\n",
       "      <td>0</td>\n",
       "      <td>0</td>\n",
       "      <td>0</td>\n",
       "      <td>0</td>\n",
       "    </tr>\n",
       "    <tr>\n",
       "      <th>1</th>\n",
       "      <td>2</td>\n",
       "      <td>1.0</td>\n",
       "      <td>1</td>\n",
       "      <td>female</td>\n",
       "      <td>1</td>\n",
       "      <td>0</td>\n",
       "      <td>C85</td>\n",
       "      <td>0</td>\n",
       "      <td>0</td>\n",
       "      <td>0</td>\n",
       "      <td>...</td>\n",
       "      <td>0</td>\n",
       "      <td>0</td>\n",
       "      <td>0</td>\n",
       "      <td>0</td>\n",
       "      <td>0</td>\n",
       "      <td>0</td>\n",
       "      <td>0</td>\n",
       "      <td>0</td>\n",
       "      <td>0</td>\n",
       "      <td>0</td>\n",
       "    </tr>\n",
       "    <tr>\n",
       "      <th>2</th>\n",
       "      <td>3</td>\n",
       "      <td>1.0</td>\n",
       "      <td>3</td>\n",
       "      <td>female</td>\n",
       "      <td>0</td>\n",
       "      <td>0</td>\n",
       "      <td>NaN</td>\n",
       "      <td>0</td>\n",
       "      <td>0</td>\n",
       "      <td>0</td>\n",
       "      <td>...</td>\n",
       "      <td>0</td>\n",
       "      <td>0</td>\n",
       "      <td>0</td>\n",
       "      <td>0</td>\n",
       "      <td>1</td>\n",
       "      <td>0</td>\n",
       "      <td>0</td>\n",
       "      <td>0</td>\n",
       "      <td>0</td>\n",
       "      <td>0</td>\n",
       "    </tr>\n",
       "    <tr>\n",
       "      <th>3</th>\n",
       "      <td>4</td>\n",
       "      <td>1.0</td>\n",
       "      <td>1</td>\n",
       "      <td>female</td>\n",
       "      <td>1</td>\n",
       "      <td>0</td>\n",
       "      <td>C123</td>\n",
       "      <td>0</td>\n",
       "      <td>0</td>\n",
       "      <td>0</td>\n",
       "      <td>...</td>\n",
       "      <td>0</td>\n",
       "      <td>0</td>\n",
       "      <td>0</td>\n",
       "      <td>0</td>\n",
       "      <td>0</td>\n",
       "      <td>0</td>\n",
       "      <td>0</td>\n",
       "      <td>0</td>\n",
       "      <td>0</td>\n",
       "      <td>1</td>\n",
       "    </tr>\n",
       "    <tr>\n",
       "      <th>4</th>\n",
       "      <td>5</td>\n",
       "      <td>0.0</td>\n",
       "      <td>3</td>\n",
       "      <td>male</td>\n",
       "      <td>0</td>\n",
       "      <td>0</td>\n",
       "      <td>NaN</td>\n",
       "      <td>0</td>\n",
       "      <td>0</td>\n",
       "      <td>0</td>\n",
       "      <td>...</td>\n",
       "      <td>0</td>\n",
       "      <td>0</td>\n",
       "      <td>0</td>\n",
       "      <td>0</td>\n",
       "      <td>0</td>\n",
       "      <td>0</td>\n",
       "      <td>0</td>\n",
       "      <td>0</td>\n",
       "      <td>0</td>\n",
       "      <td>1</td>\n",
       "    </tr>\n",
       "  </tbody>\n",
       "</table>\n",
       "<p>5 rows × 210 columns</p>\n",
       "</div>"
      ],
      "text/plain": [
       "   PassengerId  Survived  Pclass     Sex  SibSp  Parch Cabin  Fare_class_10  \\\n",
       "0            1       0.0       3    male      1      0   NaN              0   \n",
       "1            2       1.0       1  female      1      0   C85              0   \n",
       "2            3       1.0       3  female      0      0   NaN              0   \n",
       "3            4       1.0       1  female      1      0  C123              0   \n",
       "4            5       0.0       3    male      0      0   NaN              0   \n",
       "\n",
       "   Fare_class_11  Fare_class_22  ...  T_SOTONO2  T_SOTONOQ  T_SP  T_STONO  \\\n",
       "0              0              0  ...          0          0     0        0   \n",
       "1              0              0  ...          0          0     0        0   \n",
       "2              0              0  ...          0          0     0        0   \n",
       "3              0              0  ...          0          0     0        0   \n",
       "4              0              0  ...          0          0     0        0   \n",
       "\n",
       "   T_STONO2  T_STONOQ  T_SWPP  T_WC  T_WEP  T_x  \n",
       "0         0         0       0     0      0    0  \n",
       "1         0         0       0     0      0    0  \n",
       "2         1         0       0     0      0    0  \n",
       "3         0         0       0     0      0    1  \n",
       "4         0         0       0     0      0    1  \n",
       "\n",
       "[5 rows x 210 columns]"
      ]
     },
     "execution_count": 96,
     "metadata": {},
     "output_type": "execute_result"
    }
   ],
   "source": [
    "train_df.head()"
   ]
  },
  {
   "cell_type": "markdown",
   "metadata": {
    "papermill": {
     "duration": 0.153896,
     "end_time": "2021-03-05T11:06:06.592359",
     "exception": false,
     "start_time": "2021-03-05T11:06:06.438463",
     "status": "completed"
    },
    "tags": []
   },
   "source": [
    "<a id='26'></a>\n",
    "## Pclass"
   ]
  },
  {
   "cell_type": "code",
   "execution_count": 97,
   "metadata": {
    "execution": {
     "iopub.execute_input": "2021-03-05T11:06:06.901046Z",
     "iopub.status.busy": "2021-03-05T11:06:06.900338Z",
     "iopub.status.idle": "2021-03-05T11:06:07.017112Z",
     "shell.execute_reply": "2021-03-05T11:06:07.017616Z"
    },
    "papermill": {
     "duration": 0.273991,
     "end_time": "2021-03-05T11:06:07.017772",
     "exception": false,
     "start_time": "2021-03-05T11:06:06.743781",
     "status": "completed"
    },
    "tags": []
   },
   "outputs": [
    {
     "data": {
      "image/png": "[encoded data removed]",
      "text/plain": [
       "<Figure size 432x288 with 1 Axes>"
      ]
     },
     "metadata": {},
     "output_type": "display_data"
    }
   ],
   "source": [
    "sns.countplot(x=train_df['Pclass'])\n",
    "plt.show()"
   ]
  },
  {
   "cell_type": "code",
   "execution_count": 98,
   "metadata": {
    "execution": {
     "iopub.execute_input": "2021-03-05T11:06:07.335481Z",
     "iopub.status.busy": "2021-03-05T11:06:07.334195Z",
     "iopub.status.idle": "2021-03-05T11:06:07.362536Z",
     "shell.execute_reply": "2021-03-05T11:06:07.361954Z"
    },
    "papermill": {
     "duration": 0.190379,
     "end_time": "2021-03-05T11:06:07.362650",
     "exception": false,
     "start_time": "2021-03-05T11:06:07.172271",
     "status": "completed"
    },
    "tags": []
   },
   "outputs": [
    {
     "data": {
      "text/html": [
       "<div>\n",
       "<style scoped>\n",
       "    .dataframe tbody tr th:only-of-type {\n",
       "        vertical-align: middle;\n",
       "    }\n",
       "\n",
       "    .dataframe tbody tr th {\n",
       "        vertical-align: top;\n",
       "    }\n",
       "\n",
       "    .dataframe thead th {\n",
       "        text-align: right;\n",
       "    }\n",
       "</style>\n",
       "<table border=\"1\" class=\"dataframe\">\n",
       "  <thead>\n",
       "    <tr style=\"text-align: right;\">\n",
       "      <th></th>\n",
       "      <th>PassengerId</th>\n",
       "      <th>Survived</th>\n",
       "      <th>Sex</th>\n",
       "      <th>SibSp</th>\n",
       "      <th>Parch</th>\n",
       "      <th>Cabin</th>\n",
       "      <th>Fare_class_10</th>\n",
       "      <th>Fare_class_11</th>\n",
       "      <th>Fare_class_22</th>\n",
       "      <th>Fare_class_30</th>\n",
       "      <th>...</th>\n",
       "      <th>T_STONO</th>\n",
       "      <th>T_STONO2</th>\n",
       "      <th>T_STONOQ</th>\n",
       "      <th>T_SWPP</th>\n",
       "      <th>T_WC</th>\n",
       "      <th>T_WEP</th>\n",
       "      <th>T_x</th>\n",
       "      <th>Pclass_1</th>\n",
       "      <th>Pclass_2</th>\n",
       "      <th>Pclass_3</th>\n",
       "    </tr>\n",
       "  </thead>\n",
       "  <tbody>\n",
       "    <tr>\n",
       "      <th>0</th>\n",
       "      <td>1</td>\n",
       "      <td>0.0</td>\n",
       "      <td>male</td>\n",
       "      <td>1</td>\n",
       "      <td>0</td>\n",
       "      <td>NaN</td>\n",
       "      <td>0</td>\n",
       "      <td>0</td>\n",
       "      <td>0</td>\n",
       "      <td>0</td>\n",
       "      <td>...</td>\n",
       "      <td>0</td>\n",
       "      <td>0</td>\n",
       "      <td>0</td>\n",
       "      <td>0</td>\n",
       "      <td>0</td>\n",
       "      <td>0</td>\n",
       "      <td>0</td>\n",
       "      <td>0</td>\n",
       "      <td>0</td>\n",
       "      <td>1</td>\n",
       "    </tr>\n",
       "    <tr>\n",
       "      <th>1</th>\n",
       "      <td>2</td>\n",
       "      <td>1.0</td>\n",
       "      <td>female</td>\n",
       "      <td>1</td>\n",
       "      <td>0</td>\n",
       "      <td>C85</td>\n",
       "      <td>0</td>\n",
       "      <td>0</td>\n",
       "      <td>0</td>\n",
       "      <td>0</td>\n",
       "      <td>...</td>\n",
       "      <td>0</td>\n",
       "      <td>0</td>\n",
       "      <td>0</td>\n",
       "      <td>0</td>\n",
       "      <td>0</td>\n",
       "      <td>0</td>\n",
       "      <td>0</td>\n",
       "      <td>1</td>\n",
       "      <td>0</td>\n",
       "      <td>0</td>\n",
       "    </tr>\n",
       "    <tr>\n",
       "      <th>2</th>\n",
       "      <td>3</td>\n",
       "      <td>1.0</td>\n",
       "      <td>female</td>\n",
       "      <td>0</td>\n",
       "      <td>0</td>\n",
       "      <td>NaN</td>\n",
       "      <td>0</td>\n",
       "      <td>0</td>\n",
       "      <td>0</td>\n",
       "      <td>0</td>\n",
       "      <td>...</td>\n",
       "      <td>0</td>\n",
       "      <td>1</td>\n",
       "      <td>0</td>\n",
       "      <td>0</td>\n",
       "      <td>0</td>\n",
       "      <td>0</td>\n",
       "      <td>0</td>\n",
       "      <td>0</td>\n",
       "      <td>0</td>\n",
       "      <td>1</td>\n",
       "    </tr>\n",
       "    <tr>\n",
       "      <th>3</th>\n",
       "      <td>4</td>\n",
       "      <td>1.0</td>\n",
       "      <td>female</td>\n",
       "      <td>1</td>\n",
       "      <td>0</td>\n",
       "      <td>C123</td>\n",
       "      <td>0</td>\n",
       "      <td>0</td>\n",
       "      <td>0</td>\n",
       "      <td>0</td>\n",
       "      <td>...</td>\n",
       "      <td>0</td>\n",
       "      <td>0</td>\n",
       "      <td>0</td>\n",
       "      <td>0</td>\n",
       "      <td>0</td>\n",
       "      <td>0</td>\n",
       "      <td>1</td>\n",
       "      <td>1</td>\n",
       "      <td>0</td>\n",
       "      <td>0</td>\n",
       "    </tr>\n",
       "    <tr>\n",
       "      <th>4</th>\n",
       "      <td>5</td>\n",
       "      <td>0.0</td>\n",
       "      <td>male</td>\n",
       "      <td>0</td>\n",
       "      <td>0</td>\n",
       "      <td>NaN</td>\n",
       "      <td>0</td>\n",
       "      <td>0</td>\n",
       "      <td>0</td>\n",
       "      <td>0</td>\n",
       "      <td>...</td>\n",
       "      <td>0</td>\n",
       "      <td>0</td>\n",
       "      <td>0</td>\n",
       "      <td>0</td>\n",
       "      <td>0</td>\n",
       "      <td>0</td>\n",
       "      <td>1</td>\n",
       "      <td>0</td>\n",
       "      <td>0</td>\n",
       "      <td>1</td>\n",
       "    </tr>\n",
       "  </tbody>\n",
       "</table>\n",
       "<p>5 rows × 212 columns</p>\n",
       "</div>"
      ],
      "text/plain": [
       "   PassengerId  Survived     Sex  SibSp  Parch Cabin  Fare_class_10  \\\n",
       "0            1       0.0    male      1      0   NaN              0   \n",
       "1            2       1.0  female      1      0   C85              0   \n",
       "2            3       1.0  female      0      0   NaN              0   \n",
       "3            4       1.0  female      1      0  C123              0   \n",
       "4            5       0.0    male      0      0   NaN              0   \n",
       "\n",
       "   Fare_class_11  Fare_class_22  Fare_class_30  ...  T_STONO  T_STONO2  \\\n",
       "0              0              0              0  ...        0         0   \n",
       "1              0              0              0  ...        0         0   \n",
       "2              0              0              0  ...        0         1   \n",
       "3              0              0              0  ...        0         0   \n",
       "4              0              0              0  ...        0         0   \n",
       "\n",
       "   T_STONOQ  T_SWPP  T_WC  T_WEP  T_x  Pclass_1  Pclass_2  Pclass_3  \n",
       "0         0       0     0      0    0         0         0         1  \n",
       "1         0       0     0      0    0         1         0         0  \n",
       "2         0       0     0      0    0         0         0         1  \n",
       "3         0       0     0      0    1         1         0         0  \n",
       "4         0       0     0      0    1         0         0         1  \n",
       "\n",
       "[5 rows x 212 columns]"
      ]
     },
     "execution_count": 98,
     "metadata": {},
     "output_type": "execute_result"
    }
   ],
   "source": [
    "train_df['Pclass'] = train_df['Pclass'].astype('category')\n",
    "train_df = pd.get_dummies(data=train_df, columns=['Pclass'])\n",
    "train_df.head()"
   ]
  },
  {
   "cell_type": "markdown",
   "metadata": {
    "papermill": {
     "duration": 0.155895,
     "end_time": "2021-03-05T11:06:07.672396",
     "exception": false,
     "start_time": "2021-03-05T11:06:07.516501",
     "status": "completed"
    },
    "tags": []
   },
   "source": [
    "<a id='27'></a>\n",
    "## Sex"
   ]
  },
  {
   "cell_type": "code",
   "execution_count": 99,
   "metadata": {
    "execution": {
     "iopub.execute_input": "2021-03-05T11:06:07.989772Z",
     "iopub.status.busy": "2021-03-05T11:06:07.989097Z",
     "iopub.status.idle": "2021-03-05T11:06:08.015288Z",
     "shell.execute_reply": "2021-03-05T11:06:08.014749Z"
    },
    "papermill": {
     "duration": 0.188799,
     "end_time": "2021-03-05T11:06:08.015409",
     "exception": false,
     "start_time": "2021-03-05T11:06:07.826610",
     "status": "completed"
    },
    "tags": []
   },
   "outputs": [
    {
     "data": {
      "text/html": [
       "<div>\n",
       "<style scoped>\n",
       "    .dataframe tbody tr th:only-of-type {\n",
       "        vertical-align: middle;\n",
       "    }\n",
       "\n",
       "    .dataframe tbody tr th {\n",
       "        vertical-align: top;\n",
       "    }\n",
       "\n",
       "    .dataframe thead th {\n",
       "        text-align: right;\n",
       "    }\n",
       "</style>\n",
       "<table border=\"1\" class=\"dataframe\">\n",
       "  <thead>\n",
       "    <tr style=\"text-align: right;\">\n",
       "      <th></th>\n",
       "      <th>PassengerId</th>\n",
       "      <th>Survived</th>\n",
       "      <th>SibSp</th>\n",
       "      <th>Parch</th>\n",
       "      <th>Cabin</th>\n",
       "      <th>Fare_class_10</th>\n",
       "      <th>Fare_class_11</th>\n",
       "      <th>Fare_class_22</th>\n",
       "      <th>Fare_class_30</th>\n",
       "      <th>Fare_class_33</th>\n",
       "      <th>...</th>\n",
       "      <th>T_STONOQ</th>\n",
       "      <th>T_SWPP</th>\n",
       "      <th>T_WC</th>\n",
       "      <th>T_WEP</th>\n",
       "      <th>T_x</th>\n",
       "      <th>Pclass_1</th>\n",
       "      <th>Pclass_2</th>\n",
       "      <th>Pclass_3</th>\n",
       "      <th>Sex_female</th>\n",
       "      <th>Sex_male</th>\n",
       "    </tr>\n",
       "  </thead>\n",
       "  <tbody>\n",
       "    <tr>\n",
       "      <th>0</th>\n",
       "      <td>1</td>\n",
       "      <td>0.0</td>\n",
       "      <td>1</td>\n",
       "      <td>0</td>\n",
       "      <td>NaN</td>\n",
       "      <td>0</td>\n",
       "      <td>0</td>\n",
       "      <td>0</td>\n",
       "      <td>0</td>\n",
       "      <td>0</td>\n",
       "      <td>...</td>\n",
       "      <td>0</td>\n",
       "      <td>0</td>\n",
       "      <td>0</td>\n",
       "      <td>0</td>\n",
       "      <td>0</td>\n",
       "      <td>0</td>\n",
       "      <td>0</td>\n",
       "      <td>1</td>\n",
       "      <td>0</td>\n",
       "      <td>1</td>\n",
       "    </tr>\n",
       "    <tr>\n",
       "      <th>1</th>\n",
       "      <td>2</td>\n",
       "      <td>1.0</td>\n",
       "      <td>1</td>\n",
       "      <td>0</td>\n",
       "      <td>C85</td>\n",
       "      <td>0</td>\n",
       "      <td>0</td>\n",
       "      <td>0</td>\n",
       "      <td>0</td>\n",
       "      <td>0</td>\n",
       "      <td>...</td>\n",
       "      <td>0</td>\n",
       "      <td>0</td>\n",
       "      <td>0</td>\n",
       "      <td>0</td>\n",
       "      <td>0</td>\n",
       "      <td>1</td>\n",
       "      <td>0</td>\n",
       "      <td>0</td>\n",
       "      <td>1</td>\n",
       "      <td>0</td>\n",
       "    </tr>\n",
       "    <tr>\n",
       "      <th>2</th>\n",
       "      <td>3</td>\n",
       "      <td>1.0</td>\n",
       "      <td>0</td>\n",
       "      <td>0</td>\n",
       "      <td>NaN</td>\n",
       "      <td>0</td>\n",
       "      <td>0</td>\n",
       "      <td>0</td>\n",
       "      <td>0</td>\n",
       "      <td>0</td>\n",
       "      <td>...</td>\n",
       "      <td>0</td>\n",
       "      <td>0</td>\n",
       "      <td>0</td>\n",
       "      <td>0</td>\n",
       "      <td>0</td>\n",
       "      <td>0</td>\n",
       "      <td>0</td>\n",
       "      <td>1</td>\n",
       "      <td>1</td>\n",
       "      <td>0</td>\n",
       "    </tr>\n",
       "    <tr>\n",
       "      <th>3</th>\n",
       "      <td>4</td>\n",
       "      <td>1.0</td>\n",
       "      <td>1</td>\n",
       "      <td>0</td>\n",
       "      <td>C123</td>\n",
       "      <td>0</td>\n",
       "      <td>0</td>\n",
       "      <td>0</td>\n",
       "      <td>0</td>\n",
       "      <td>0</td>\n",
       "      <td>...</td>\n",
       "      <td>0</td>\n",
       "      <td>0</td>\n",
       "      <td>0</td>\n",
       "      <td>0</td>\n",
       "      <td>1</td>\n",
       "      <td>1</td>\n",
       "      <td>0</td>\n",
       "      <td>0</td>\n",
       "      <td>1</td>\n",
       "      <td>0</td>\n",
       "    </tr>\n",
       "    <tr>\n",
       "      <th>4</th>\n",
       "      <td>5</td>\n",
       "      <td>0.0</td>\n",
       "      <td>0</td>\n",
       "      <td>0</td>\n",
       "      <td>NaN</td>\n",
       "      <td>0</td>\n",
       "      <td>0</td>\n",
       "      <td>0</td>\n",
       "      <td>0</td>\n",
       "      <td>0</td>\n",
       "      <td>...</td>\n",
       "      <td>0</td>\n",
       "      <td>0</td>\n",
       "      <td>0</td>\n",
       "      <td>0</td>\n",
       "      <td>1</td>\n",
       "      <td>0</td>\n",
       "      <td>0</td>\n",
       "      <td>1</td>\n",
       "      <td>0</td>\n",
       "      <td>1</td>\n",
       "    </tr>\n",
       "  </tbody>\n",
       "</table>\n",
       "<p>5 rows × 213 columns</p>\n",
       "</div>"
      ],
      "text/plain": [
       "   PassengerId  Survived  SibSp  Parch Cabin  Fare_class_10  Fare_class_11  \\\n",
       "0            1       0.0      1      0   NaN              0              0   \n",
       "1            2       1.0      1      0   C85              0              0   \n",
       "2            3       1.0      0      0   NaN              0              0   \n",
       "3            4       1.0      1      0  C123              0              0   \n",
       "4            5       0.0      0      0   NaN              0              0   \n",
       "\n",
       "   Fare_class_22  Fare_class_30  Fare_class_33  ...  T_STONOQ  T_SWPP  T_WC  \\\n",
       "0              0              0              0  ...         0       0     0   \n",
       "1              0              0              0  ...         0       0     0   \n",
       "2              0              0              0  ...         0       0     0   \n",
       "3              0              0              0  ...         0       0     0   \n",
       "4              0              0              0  ...         0       0     0   \n",
       "\n",
       "   T_WEP  T_x  Pclass_1  Pclass_2  Pclass_3  Sex_female  Sex_male  \n",
       "0      0    0         0         0         1           0         1  \n",
       "1      0    0         1         0         0           1         0  \n",
       "2      0    0         0         0         1           1         0  \n",
       "3      0    1         1         0         0           1         0  \n",
       "4      0    1         0         0         1           0         1  \n",
       "\n",
       "[5 rows x 213 columns]"
      ]
     },
     "execution_count": 99,
     "metadata": {},
     "output_type": "execute_result"
    }
   ],
   "source": [
    "train_df['Sex'] = train_df['Sex'].astype('category')\n",
    "train_df = pd.get_dummies(data=train_df, columns=['Sex'])\n",
    "train_df.head()"
   ]
  },
  {
   "cell_type": "markdown",
   "metadata": {
    "papermill": {
     "duration": 0.154212,
     "end_time": "2021-03-05T11:06:08.325386",
     "exception": false,
     "start_time": "2021-03-05T11:06:08.171174",
     "status": "completed"
    },
    "tags": []
   },
   "source": [
    "> <a id='28'></a>\n",
    "## Drop PassengerId and Cabin"
   ]
  },
  {
   "cell_type": "code",
   "execution_count": 100,
   "metadata": {
    "execution": {
     "iopub.execute_input": "2021-03-05T11:06:08.639143Z",
     "iopub.status.busy": "2021-03-05T11:06:08.638456Z",
     "iopub.status.idle": "2021-03-05T11:06:08.646438Z",
     "shell.execute_reply": "2021-03-05T11:06:08.647030Z"
    },
    "papermill": {
     "duration": 0.166145,
     "end_time": "2021-03-05T11:06:08.647177",
     "exception": false,
     "start_time": "2021-03-05T11:06:08.481032",
     "status": "completed"
    },
    "tags": []
   },
   "outputs": [
    {
     "data": {
      "text/plain": [
       "Index(['Survived', 'SibSp', 'Parch', 'Fare_class_10', 'Fare_class_11',\n",
       "       'Fare_class_22', 'Fare_class_30', 'Fare_class_33', 'Fare_class_35',\n",
       "       'Fare_class_41',\n",
       "       ...\n",
       "       'T_STONOQ', 'T_SWPP', 'T_WC', 'T_WEP', 'T_x', 'Pclass_1', 'Pclass_2',\n",
       "       'Pclass_3', 'Sex_female', 'Sex_male'],\n",
       "      dtype='object', length=211)"
      ]
     },
     "execution_count": 100,
     "metadata": {},
     "output_type": "execute_result"
    }
   ],
   "source": [
    "train_df.drop(labels=['PassengerId', 'Cabin'], axis=1, inplace=True)\n",
    "train_df.columns"
   ]
  },
  {
   "cell_type": "markdown",
   "metadata": {
    "papermill": {
     "duration": 0.156478,
     "end_time": "2021-03-05T11:06:08.958075",
     "exception": false,
     "start_time": "2021-03-05T11:06:08.801597",
     "status": "completed"
    },
    "tags": []
   },
   "source": [
    "> <a id='29'></a>\n",
    "# Modeling"
   ]
  },
  {
   "cell_type": "markdown",
   "metadata": {
    "papermill": {
     "duration": 0.155264,
     "end_time": "2021-03-05T11:06:09.269069",
     "exception": false,
     "start_time": "2021-03-05T11:06:09.113805",
     "status": "completed"
    },
    "tags": []
   },
   "source": [
    "<a id='30'></a>\n",
    "## Train-Test Split"
   ]
  },
  {
   "cell_type": "code",
   "execution_count": 101,
   "metadata": {
    "execution": {
     "iopub.execute_input": "2021-03-05T11:06:09.581609Z",
     "iopub.status.busy": "2021-03-05T11:06:09.580961Z",
     "iopub.status.idle": "2021-03-05T11:06:09.616955Z",
     "shell.execute_reply": "2021-03-05T11:06:09.616277Z"
    },
    "papermill": {
     "duration": 0.193088,
     "end_time": "2021-03-05T11:06:09.617068",
     "exception": false,
     "start_time": "2021-03-05T11:06:09.423980",
     "status": "completed"
    },
    "tags": []
   },
   "outputs": [],
   "source": [
    "from sklearn.model_selection import train_test_split, StratifiedKFold, GridSearchCV\n",
    "from sklearn.linear_model import LogisticRegression\n",
    "from sklearn.svm import SVC\n",
    "from sklearn.ensemble import RandomForestClassifier, VotingClassifier\n",
    "from sklearn.neighbors import KNeighborsClassifier\n",
    "from sklearn.tree import DecisionTreeClassifier\n",
    "from sklearn.metrics import accuracy_score"
   ]
  },
  {
   "cell_type": "code",
   "execution_count": 102,
   "metadata": {
    "execution": {
     "iopub.execute_input": "2021-03-05T11:06:09.933050Z",
     "iopub.status.busy": "2021-03-05T11:06:09.932291Z",
     "iopub.status.idle": "2021-03-05T11:06:09.936031Z",
     "shell.execute_reply": "2021-03-05T11:06:09.935456Z"
    },
    "papermill": {
     "duration": 0.163099,
     "end_time": "2021-03-05T11:06:09.936141",
     "exception": false,
     "start_time": "2021-03-05T11:06:09.773042",
     "status": "completed"
    },
    "tags": []
   },
   "outputs": [
    {
     "data": {
      "text/plain": [
       "881"
      ]
     },
     "execution_count": 102,
     "metadata": {},
     "output_type": "execute_result"
    }
   ],
   "source": [
    "train_df_len"
   ]
  },
  {
   "cell_type": "code",
   "execution_count": 103,
   "metadata": {
    "execution": {
     "iopub.execute_input": "2021-03-05T11:06:10.251057Z",
     "iopub.status.busy": "2021-03-05T11:06:10.250356Z",
     "iopub.status.idle": "2021-03-05T11:06:10.270890Z",
     "shell.execute_reply": "2021-03-05T11:06:10.270185Z"
    },
    "papermill": {
     "duration": 0.179568,
     "end_time": "2021-03-05T11:06:10.271111",
     "exception": false,
     "start_time": "2021-03-05T11:06:10.091543",
     "status": "completed"
    },
    "tags": []
   },
   "outputs": [
    {
     "data": {
      "text/html": [
       "<div>\n",
       "<style scoped>\n",
       "    .dataframe tbody tr th:only-of-type {\n",
       "        vertical-align: middle;\n",
       "    }\n",
       "\n",
       "    .dataframe tbody tr th {\n",
       "        vertical-align: top;\n",
       "    }\n",
       "\n",
       "    .dataframe thead th {\n",
       "        text-align: right;\n",
       "    }\n",
       "</style>\n",
       "<table border=\"1\" class=\"dataframe\">\n",
       "  <thead>\n",
       "    <tr style=\"text-align: right;\">\n",
       "      <th></th>\n",
       "      <th>Survived</th>\n",
       "      <th>SibSp</th>\n",
       "      <th>Parch</th>\n",
       "      <th>Fare_class_10</th>\n",
       "      <th>Fare_class_11</th>\n",
       "      <th>Fare_class_22</th>\n",
       "      <th>Fare_class_30</th>\n",
       "      <th>Fare_class_33</th>\n",
       "      <th>Fare_class_35</th>\n",
       "      <th>Fare_class_41</th>\n",
       "      <th>...</th>\n",
       "      <th>T_STONOQ</th>\n",
       "      <th>T_SWPP</th>\n",
       "      <th>T_WC</th>\n",
       "      <th>T_WEP</th>\n",
       "      <th>T_x</th>\n",
       "      <th>Pclass_1</th>\n",
       "      <th>Pclass_2</th>\n",
       "      <th>Pclass_3</th>\n",
       "      <th>Sex_female</th>\n",
       "      <th>Sex_male</th>\n",
       "    </tr>\n",
       "  </thead>\n",
       "  <tbody>\n",
       "    <tr>\n",
       "      <th>0</th>\n",
       "      <td>0.0</td>\n",
       "      <td>1</td>\n",
       "      <td>0</td>\n",
       "      <td>0</td>\n",
       "      <td>0</td>\n",
       "      <td>0</td>\n",
       "      <td>0</td>\n",
       "      <td>0</td>\n",
       "      <td>0</td>\n",
       "      <td>0</td>\n",
       "      <td>...</td>\n",
       "      <td>0</td>\n",
       "      <td>0</td>\n",
       "      <td>0</td>\n",
       "      <td>0</td>\n",
       "      <td>0</td>\n",
       "      <td>0</td>\n",
       "      <td>0</td>\n",
       "      <td>1</td>\n",
       "      <td>0</td>\n",
       "      <td>1</td>\n",
       "    </tr>\n",
       "    <tr>\n",
       "      <th>1</th>\n",
       "      <td>1.0</td>\n",
       "      <td>1</td>\n",
       "      <td>0</td>\n",
       "      <td>0</td>\n",
       "      <td>0</td>\n",
       "      <td>0</td>\n",
       "      <td>0</td>\n",
       "      <td>0</td>\n",
       "      <td>0</td>\n",
       "      <td>0</td>\n",
       "      <td>...</td>\n",
       "      <td>0</td>\n",
       "      <td>0</td>\n",
       "      <td>0</td>\n",
       "      <td>0</td>\n",
       "      <td>0</td>\n",
       "      <td>1</td>\n",
       "      <td>0</td>\n",
       "      <td>0</td>\n",
       "      <td>1</td>\n",
       "      <td>0</td>\n",
       "    </tr>\n",
       "    <tr>\n",
       "      <th>2</th>\n",
       "      <td>1.0</td>\n",
       "      <td>0</td>\n",
       "      <td>0</td>\n",
       "      <td>0</td>\n",
       "      <td>0</td>\n",
       "      <td>0</td>\n",
       "      <td>0</td>\n",
       "      <td>0</td>\n",
       "      <td>0</td>\n",
       "      <td>0</td>\n",
       "      <td>...</td>\n",
       "      <td>0</td>\n",
       "      <td>0</td>\n",
       "      <td>0</td>\n",
       "      <td>0</td>\n",
       "      <td>0</td>\n",
       "      <td>0</td>\n",
       "      <td>0</td>\n",
       "      <td>1</td>\n",
       "      <td>1</td>\n",
       "      <td>0</td>\n",
       "    </tr>\n",
       "    <tr>\n",
       "      <th>3</th>\n",
       "      <td>1.0</td>\n",
       "      <td>1</td>\n",
       "      <td>0</td>\n",
       "      <td>0</td>\n",
       "      <td>0</td>\n",
       "      <td>0</td>\n",
       "      <td>0</td>\n",
       "      <td>0</td>\n",
       "      <td>0</td>\n",
       "      <td>0</td>\n",
       "      <td>...</td>\n",
       "      <td>0</td>\n",
       "      <td>0</td>\n",
       "      <td>0</td>\n",
       "      <td>0</td>\n",
       "      <td>1</td>\n",
       "      <td>1</td>\n",
       "      <td>0</td>\n",
       "      <td>0</td>\n",
       "      <td>1</td>\n",
       "      <td>0</td>\n",
       "    </tr>\n",
       "    <tr>\n",
       "      <th>4</th>\n",
       "      <td>0.0</td>\n",
       "      <td>0</td>\n",
       "      <td>0</td>\n",
       "      <td>0</td>\n",
       "      <td>0</td>\n",
       "      <td>0</td>\n",
       "      <td>0</td>\n",
       "      <td>0</td>\n",
       "      <td>0</td>\n",
       "      <td>0</td>\n",
       "      <td>...</td>\n",
       "      <td>0</td>\n",
       "      <td>0</td>\n",
       "      <td>0</td>\n",
       "      <td>0</td>\n",
       "      <td>1</td>\n",
       "      <td>0</td>\n",
       "      <td>0</td>\n",
       "      <td>1</td>\n",
       "      <td>0</td>\n",
       "      <td>1</td>\n",
       "    </tr>\n",
       "  </tbody>\n",
       "</table>\n",
       "<p>5 rows × 211 columns</p>\n",
       "</div>"
      ],
      "text/plain": [
       "   Survived  SibSp  Parch  Fare_class_10  Fare_class_11  Fare_class_22  \\\n",
       "0       0.0      1      0              0              0              0   \n",
       "1       1.0      1      0              0              0              0   \n",
       "2       1.0      0      0              0              0              0   \n",
       "3       1.0      1      0              0              0              0   \n",
       "4       0.0      0      0              0              0              0   \n",
       "\n",
       "   Fare_class_30  Fare_class_33  Fare_class_35  Fare_class_41  ...  T_STONOQ  \\\n",
       "0              0              0              0              0  ...         0   \n",
       "1              0              0              0              0  ...         0   \n",
       "2              0              0              0              0  ...         0   \n",
       "3              0              0              0              0  ...         0   \n",
       "4              0              0              0              0  ...         0   \n",
       "\n",
       "   T_SWPP  T_WC  T_WEP  T_x  Pclass_1  Pclass_2  Pclass_3  Sex_female  \\\n",
       "0       0     0      0    0         0         0         1           0   \n",
       "1       0     0      0    0         1         0         0           1   \n",
       "2       0     0      0    0         0         0         1           1   \n",
       "3       0     0      0    1         1         0         0           1   \n",
       "4       0     0      0    1         0         0         1           0   \n",
       "\n",
       "   Sex_male  \n",
       "0         1  \n",
       "1         0  \n",
       "2         0  \n",
       "3         0  \n",
       "4         1  \n",
       "\n",
       "[5 rows x 211 columns]"
      ]
     },
     "execution_count": 103,
     "metadata": {},
     "output_type": "execute_result"
    }
   ],
   "source": [
    "train_df.head()"
   ]
  },
  {
   "cell_type": "code",
   "execution_count": 104,
   "metadata": {
    "execution": {
     "iopub.execute_input": "2021-03-05T11:06:10.637347Z",
     "iopub.status.busy": "2021-03-05T11:06:10.636609Z",
     "iopub.status.idle": "2021-03-05T11:06:10.755643Z",
     "shell.execute_reply": "2021-03-05T11:06:10.755004Z"
    },
    "papermill": {
     "duration": 0.323902,
     "end_time": "2021-03-05T11:06:10.755761",
     "exception": false,
     "start_time": "2021-03-05T11:06:10.431859",
     "status": "completed"
    },
    "tags": []
   },
   "outputs": [],
   "source": [
    "train_df = (train_df - train_df.min())/(train_df.max() - train_df.min())"
   ]
  },
  {
   "cell_type": "code",
   "execution_count": 105,
   "metadata": {
    "execution": {
     "iopub.execute_input": "2021-03-05T11:06:11.080402Z",
     "iopub.status.busy": "2021-03-05T11:06:11.079737Z",
     "iopub.status.idle": "2021-03-05T11:06:11.083932Z",
     "shell.execute_reply": "2021-03-05T11:06:11.084391Z"
    },
    "papermill": {
     "duration": 0.17075,
     "end_time": "2021-03-05T11:06:11.084555",
     "exception": false,
     "start_time": "2021-03-05T11:06:10.913805",
     "status": "completed"
    },
    "tags": []
   },
   "outputs": [
    {
     "data": {
      "text/plain": [
       "array(['Survived', 'SibSp', 'Parch', 'Fare_class_10', 'Fare_class_11',\n",
       "       'Fare_class_22', 'Fare_class_30', 'Fare_class_33', 'Fare_class_35',\n",
       "       'Fare_class_41', 'Fare_class_42', 'Fare_class_43', 'Fare_class_48',\n",
       "       'Fare_class_60', 'Fare_class_63', 'Fare_class_64', 'Fare_class_67',\n",
       "       'Fare_class_69', 'Fare_class_72', 'Fare_class_80', 'Fare_class_85',\n",
       "       'Fare_class_87', 'Fare_class_92', 'Fare_class_93', 'Fare_class_95',\n",
       "       'Fare_class_97', 'Fare_class_99', 'Fare_class_101',\n",
       "       'Fare_class_102', 'Fare_class_105', 'Fare_class_108',\n",
       "       'Fare_class_109', 'Fare_class_111', 'Fare_class_112',\n",
       "       'Fare_class_113', 'Fare_class_114', 'Fare_class_118',\n",
       "       'Fare_class_120', 'Fare_class_121', 'Fare_class_125',\n",
       "       'Fare_class_126', 'Fare_class_127', 'Fare_class_129',\n",
       "       'Fare_class_132', 'Fare_class_135', 'Fare_class_136',\n",
       "       'Fare_class_139', 'Fare_class_140', 'Fare_class_141',\n",
       "       'Fare_class_142', 'Fare_class_144', 'Fare_class_145',\n",
       "       'Fare_class_146', 'Fare_class_147', 'Fare_class_149',\n",
       "       'Fare_class_150', 'Fare_class_152', 'Fare_class_155',\n",
       "       'Fare_class_157', 'Fare_class_159', 'Fare_class_160',\n",
       "       'Fare_class_161', 'Fare_class_162', 'Fare_class_166',\n",
       "       'Fare_class_168', 'Fare_class_170', 'Fare_class_176',\n",
       "       'Fare_class_177', 'Fare_class_178', 'Fare_class_179',\n",
       "       'Fare_class_181', 'Fare_class_182', 'Fare_class_183',\n",
       "       'Fare_class_185', 'Fare_class_187', 'Fare_class_188',\n",
       "       'Fare_class_189', 'Fare_class_191', 'Fare_class_194',\n",
       "       'Fare_class_195', 'Fare_class_196', 'Fare_class_198',\n",
       "       'Fare_class_199', 'Fare_class_201', 'Fare_class_202',\n",
       "       'Fare_class_203', 'Fare_class_204', 'Fare_class_205',\n",
       "       'Fare_class_207', 'Fare_class_208', 'Fare_class_210',\n",
       "       'Fare_class_212', 'Fare_class_214', 'Fare_class_216',\n",
       "       'Fare_class_217', 'Fare_class_218', 'Fare_class_219',\n",
       "       'Fare_class_221', 'Fare_class_226', 'Fare_class_228',\n",
       "       'Fare_class_229', 'Fare_class_230', 'Fare_class_231',\n",
       "       'Fare_class_232', 'Fare_class_236', 'Fare_class_237',\n",
       "       'Fare_class_238', 'Fare_class_239', 'Fare_class_240',\n",
       "       'Fare_class_241', 'Fare_class_242', 'Fare_class_243',\n",
       "       'Fare_class_245', 'Fare_class_250', 'Fare_class_251',\n",
       "       'Fare_class_252', 'Fare_class_253', 'Fare_class_255',\n",
       "       'Fare_class_256', 'Fare_class_257', 'Fare_class_259',\n",
       "       'Fare_class_260', 'Fare_class_261', 'Fare_class_262',\n",
       "       'Fare_class_264', 'Fare_class_265', 'Fare_class_266',\n",
       "       'Fare_class_267', 'Fare_class_269', 'Fare_class_270',\n",
       "       'Fare_class_271', 'Fare_class_272', 'Fare_class_273',\n",
       "       'Fare_class_275', 'Fare_class_277', 'Fare_class_278',\n",
       "       'Fare_class_279', 'Fare_class_280', 'Fare_class_281',\n",
       "       'Fare_class_282', 'Fare_class_283', 'Fare_class_285',\n",
       "       'Fare_class_286', 'Fare_class_288', 'Fare_class_289',\n",
       "       'Fare_class_290', 'Fare_class_291', 'Fare_class_292',\n",
       "       'Fare_class_293', 'Fare_class_295', 'Fare_class_296',\n",
       "       'Fare_class_297', 'Fare_class_298', 'Age_based_survival',\n",
       "       'Title_0', 'Title_1', 'Title_2', 'Title_3', 'Fsize', 'Family_size',\n",
       "       'SibSp_categ_0', 'SibSp_categ_1', 'SibSp_categ_2', 'Parch_categ_0',\n",
       "       'Parch_categ_1', 'Parch_categ_2', 'Embarked_C', 'Embarked_Q',\n",
       "       'Embarked_S', 'T_A', 'T_A4', 'T_A5', 'T_AQ3', 'T_AQ4', 'T_AS',\n",
       "       'T_C', 'T_CA', 'T_CASOTON', 'T_FC', 'T_FCC', 'T_Fa', 'T_LINE',\n",
       "       'T_LP', 'T_PC', 'T_PP', 'T_PPP', 'T_SC', 'T_SCA3', 'T_SCA4',\n",
       "       'T_SCAH', 'T_SCOW', 'T_SCPARIS', 'T_SCParis', 'T_SOC', 'T_SOP',\n",
       "       'T_SOPP', 'T_SOTONO2', 'T_SOTONOQ', 'T_SP', 'T_STONO', 'T_STONO2',\n",
       "       'T_STONOQ', 'T_SWPP', 'T_WC', 'T_WEP', 'T_x', 'Pclass_1',\n",
       "       'Pclass_2', 'Pclass_3', 'Sex_female', 'Sex_male'], dtype=object)"
      ]
     },
     "execution_count": 105,
     "metadata": {},
     "output_type": "execute_result"
    }
   ],
   "source": [
    "train_df.columns.values"
   ]
  },
  {
   "cell_type": "code",
   "execution_count": 106,
   "metadata": {
    "execution": {
     "iopub.execute_input": "2021-03-05T11:06:11.410880Z",
     "iopub.status.busy": "2021-03-05T11:06:11.410192Z",
     "iopub.status.idle": "2021-03-05T11:06:11.438073Z",
     "shell.execute_reply": "2021-03-05T11:06:11.437494Z"
    },
    "papermill": {
     "duration": 0.196789,
     "end_time": "2021-03-05T11:06:11.438181",
     "exception": false,
     "start_time": "2021-03-05T11:06:11.241392",
     "status": "completed"
    },
    "tags": []
   },
   "outputs": [
    {
     "data": {
      "text/html": [
       "<div>\n",
       "<style scoped>\n",
       "    .dataframe tbody tr th:only-of-type {\n",
       "        vertical-align: middle;\n",
       "    }\n",
       "\n",
       "    .dataframe tbody tr th {\n",
       "        vertical-align: top;\n",
       "    }\n",
       "\n",
       "    .dataframe thead th {\n",
       "        text-align: right;\n",
       "    }\n",
       "</style>\n",
       "<table border=\"1\" class=\"dataframe\">\n",
       "  <thead>\n",
       "    <tr style=\"text-align: right;\">\n",
       "      <th></th>\n",
       "      <th>SibSp</th>\n",
       "      <th>Parch</th>\n",
       "      <th>Fare_class_10</th>\n",
       "      <th>Fare_class_11</th>\n",
       "      <th>Fare_class_22</th>\n",
       "      <th>Fare_class_30</th>\n",
       "      <th>Fare_class_33</th>\n",
       "      <th>Fare_class_35</th>\n",
       "      <th>Fare_class_41</th>\n",
       "      <th>Fare_class_42</th>\n",
       "      <th>...</th>\n",
       "      <th>T_STONOQ</th>\n",
       "      <th>T_SWPP</th>\n",
       "      <th>T_WC</th>\n",
       "      <th>T_WEP</th>\n",
       "      <th>T_x</th>\n",
       "      <th>Pclass_1</th>\n",
       "      <th>Pclass_2</th>\n",
       "      <th>Pclass_3</th>\n",
       "      <th>Sex_female</th>\n",
       "      <th>Sex_male</th>\n",
       "    </tr>\n",
       "  </thead>\n",
       "  <tbody>\n",
       "    <tr>\n",
       "      <th>881</th>\n",
       "      <td>0.000</td>\n",
       "      <td>0.000000</td>\n",
       "      <td>0.0</td>\n",
       "      <td>0.0</td>\n",
       "      <td>0.0</td>\n",
       "      <td>0.0</td>\n",
       "      <td>0.0</td>\n",
       "      <td>0.0</td>\n",
       "      <td>0.0</td>\n",
       "      <td>0.0</td>\n",
       "      <td>...</td>\n",
       "      <td>0.0</td>\n",
       "      <td>0.0</td>\n",
       "      <td>0.0</td>\n",
       "      <td>0.0</td>\n",
       "      <td>1.0</td>\n",
       "      <td>0.0</td>\n",
       "      <td>0.0</td>\n",
       "      <td>1.0</td>\n",
       "      <td>0.0</td>\n",
       "      <td>1.0</td>\n",
       "    </tr>\n",
       "    <tr>\n",
       "      <th>882</th>\n",
       "      <td>0.125</td>\n",
       "      <td>0.000000</td>\n",
       "      <td>0.0</td>\n",
       "      <td>0.0</td>\n",
       "      <td>0.0</td>\n",
       "      <td>0.0</td>\n",
       "      <td>0.0</td>\n",
       "      <td>0.0</td>\n",
       "      <td>0.0</td>\n",
       "      <td>0.0</td>\n",
       "      <td>...</td>\n",
       "      <td>0.0</td>\n",
       "      <td>0.0</td>\n",
       "      <td>0.0</td>\n",
       "      <td>0.0</td>\n",
       "      <td>1.0</td>\n",
       "      <td>0.0</td>\n",
       "      <td>0.0</td>\n",
       "      <td>1.0</td>\n",
       "      <td>1.0</td>\n",
       "      <td>0.0</td>\n",
       "    </tr>\n",
       "    <tr>\n",
       "      <th>883</th>\n",
       "      <td>0.000</td>\n",
       "      <td>0.000000</td>\n",
       "      <td>0.0</td>\n",
       "      <td>0.0</td>\n",
       "      <td>0.0</td>\n",
       "      <td>0.0</td>\n",
       "      <td>0.0</td>\n",
       "      <td>0.0</td>\n",
       "      <td>0.0</td>\n",
       "      <td>0.0</td>\n",
       "      <td>...</td>\n",
       "      <td>0.0</td>\n",
       "      <td>0.0</td>\n",
       "      <td>0.0</td>\n",
       "      <td>0.0</td>\n",
       "      <td>1.0</td>\n",
       "      <td>0.0</td>\n",
       "      <td>1.0</td>\n",
       "      <td>0.0</td>\n",
       "      <td>0.0</td>\n",
       "      <td>1.0</td>\n",
       "    </tr>\n",
       "    <tr>\n",
       "      <th>884</th>\n",
       "      <td>0.000</td>\n",
       "      <td>0.000000</td>\n",
       "      <td>0.0</td>\n",
       "      <td>0.0</td>\n",
       "      <td>0.0</td>\n",
       "      <td>0.0</td>\n",
       "      <td>0.0</td>\n",
       "      <td>0.0</td>\n",
       "      <td>0.0</td>\n",
       "      <td>0.0</td>\n",
       "      <td>...</td>\n",
       "      <td>0.0</td>\n",
       "      <td>0.0</td>\n",
       "      <td>0.0</td>\n",
       "      <td>0.0</td>\n",
       "      <td>1.0</td>\n",
       "      <td>0.0</td>\n",
       "      <td>0.0</td>\n",
       "      <td>1.0</td>\n",
       "      <td>0.0</td>\n",
       "      <td>1.0</td>\n",
       "    </tr>\n",
       "    <tr>\n",
       "      <th>885</th>\n",
       "      <td>0.125</td>\n",
       "      <td>0.111111</td>\n",
       "      <td>0.0</td>\n",
       "      <td>0.0</td>\n",
       "      <td>0.0</td>\n",
       "      <td>0.0</td>\n",
       "      <td>0.0</td>\n",
       "      <td>0.0</td>\n",
       "      <td>0.0</td>\n",
       "      <td>0.0</td>\n",
       "      <td>...</td>\n",
       "      <td>0.0</td>\n",
       "      <td>0.0</td>\n",
       "      <td>0.0</td>\n",
       "      <td>0.0</td>\n",
       "      <td>1.0</td>\n",
       "      <td>0.0</td>\n",
       "      <td>0.0</td>\n",
       "      <td>1.0</td>\n",
       "      <td>1.0</td>\n",
       "      <td>0.0</td>\n",
       "    </tr>\n",
       "  </tbody>\n",
       "</table>\n",
       "<p>5 rows × 210 columns</p>\n",
       "</div>"
      ],
      "text/plain": [
       "     SibSp     Parch  Fare_class_10  Fare_class_11  Fare_class_22  \\\n",
       "881  0.000  0.000000            0.0            0.0            0.0   \n",
       "882  0.125  0.000000            0.0            0.0            0.0   \n",
       "883  0.000  0.000000            0.0            0.0            0.0   \n",
       "884  0.000  0.000000            0.0            0.0            0.0   \n",
       "885  0.125  0.111111            0.0            0.0            0.0   \n",
       "\n",
       "     Fare_class_30  Fare_class_33  Fare_class_35  Fare_class_41  \\\n",
       "881            0.0            0.0            0.0            0.0   \n",
       "882            0.0            0.0            0.0            0.0   \n",
       "883            0.0            0.0            0.0            0.0   \n",
       "884            0.0            0.0            0.0            0.0   \n",
       "885            0.0            0.0            0.0            0.0   \n",
       "\n",
       "     Fare_class_42  ...  T_STONOQ  T_SWPP  T_WC  T_WEP  T_x  Pclass_1  \\\n",
       "881            0.0  ...       0.0     0.0   0.0    0.0  1.0       0.0   \n",
       "882            0.0  ...       0.0     0.0   0.0    0.0  1.0       0.0   \n",
       "883            0.0  ...       0.0     0.0   0.0    0.0  1.0       0.0   \n",
       "884            0.0  ...       0.0     0.0   0.0    0.0  1.0       0.0   \n",
       "885            0.0  ...       0.0     0.0   0.0    0.0  1.0       0.0   \n",
       "\n",
       "     Pclass_2  Pclass_3  Sex_female  Sex_male  \n",
       "881       0.0       1.0         0.0       1.0  \n",
       "882       0.0       1.0         1.0       0.0  \n",
       "883       1.0       0.0         0.0       1.0  \n",
       "884       0.0       1.0         0.0       1.0  \n",
       "885       0.0       1.0         1.0       0.0  \n",
       "\n",
       "[5 rows x 210 columns]"
      ]
     },
     "execution_count": 106,
     "metadata": {},
     "output_type": "execute_result"
    }
   ],
   "source": [
    "test = train_df[train_df_len:]\n",
    "test.drop(labels=['Survived'], axis=1, inplace=True)\n",
    "test.head()"
   ]
  },
  {
   "cell_type": "code",
   "execution_count": 107,
   "metadata": {
    "execution": {
     "iopub.execute_input": "2021-03-05T11:06:11.763558Z",
     "iopub.status.busy": "2021-03-05T11:06:11.762908Z",
     "iopub.status.idle": "2021-03-05T11:06:11.800685Z",
     "shell.execute_reply": "2021-03-05T11:06:11.801313Z"
    },
    "papermill": {
     "duration": 0.200789,
     "end_time": "2021-03-05T11:06:11.801470",
     "exception": false,
     "start_time": "2021-03-05T11:06:11.600681",
     "status": "completed"
    },
    "tags": []
   },
   "outputs": [
    {
     "data": {
      "text/html": [
       "<div>\n",
       "<style scoped>\n",
       "    .dataframe tbody tr th:only-of-type {\n",
       "        vertical-align: middle;\n",
       "    }\n",
       "\n",
       "    .dataframe tbody tr th {\n",
       "        vertical-align: top;\n",
       "    }\n",
       "\n",
       "    .dataframe thead th {\n",
       "        text-align: right;\n",
       "    }\n",
       "</style>\n",
       "<table border=\"1\" class=\"dataframe\">\n",
       "  <thead>\n",
       "    <tr style=\"text-align: right;\">\n",
       "      <th></th>\n",
       "      <th>Survived</th>\n",
       "      <th>SibSp</th>\n",
       "      <th>Parch</th>\n",
       "      <th>Fare_class_10</th>\n",
       "      <th>Fare_class_11</th>\n",
       "      <th>Fare_class_22</th>\n",
       "      <th>Fare_class_30</th>\n",
       "      <th>Fare_class_33</th>\n",
       "      <th>Fare_class_35</th>\n",
       "      <th>Fare_class_41</th>\n",
       "      <th>...</th>\n",
       "      <th>T_STONOQ</th>\n",
       "      <th>T_SWPP</th>\n",
       "      <th>T_WC</th>\n",
       "      <th>T_WEP</th>\n",
       "      <th>T_x</th>\n",
       "      <th>Pclass_1</th>\n",
       "      <th>Pclass_2</th>\n",
       "      <th>Pclass_3</th>\n",
       "      <th>Sex_female</th>\n",
       "      <th>Sex_male</th>\n",
       "    </tr>\n",
       "  </thead>\n",
       "  <tbody>\n",
       "    <tr>\n",
       "      <th>0</th>\n",
       "      <td>0.0</td>\n",
       "      <td>0.125</td>\n",
       "      <td>0.000000</td>\n",
       "      <td>0.0</td>\n",
       "      <td>0.0</td>\n",
       "      <td>0.0</td>\n",
       "      <td>0.0</td>\n",
       "      <td>0.0</td>\n",
       "      <td>0.0</td>\n",
       "      <td>0.0</td>\n",
       "      <td>...</td>\n",
       "      <td>0.0</td>\n",
       "      <td>0.0</td>\n",
       "      <td>0.0</td>\n",
       "      <td>0.0</td>\n",
       "      <td>0.0</td>\n",
       "      <td>0.0</td>\n",
       "      <td>0.0</td>\n",
       "      <td>1.0</td>\n",
       "      <td>0.0</td>\n",
       "      <td>1.0</td>\n",
       "    </tr>\n",
       "    <tr>\n",
       "      <th>1</th>\n",
       "      <td>1.0</td>\n",
       "      <td>0.125</td>\n",
       "      <td>0.000000</td>\n",
       "      <td>0.0</td>\n",
       "      <td>0.0</td>\n",
       "      <td>0.0</td>\n",
       "      <td>0.0</td>\n",
       "      <td>0.0</td>\n",
       "      <td>0.0</td>\n",
       "      <td>0.0</td>\n",
       "      <td>...</td>\n",
       "      <td>0.0</td>\n",
       "      <td>0.0</td>\n",
       "      <td>0.0</td>\n",
       "      <td>0.0</td>\n",
       "      <td>0.0</td>\n",
       "      <td>1.0</td>\n",
       "      <td>0.0</td>\n",
       "      <td>0.0</td>\n",
       "      <td>1.0</td>\n",
       "      <td>0.0</td>\n",
       "    </tr>\n",
       "    <tr>\n",
       "      <th>2</th>\n",
       "      <td>1.0</td>\n",
       "      <td>0.000</td>\n",
       "      <td>0.000000</td>\n",
       "      <td>0.0</td>\n",
       "      <td>0.0</td>\n",
       "      <td>0.0</td>\n",
       "      <td>0.0</td>\n",
       "      <td>0.0</td>\n",
       "      <td>0.0</td>\n",
       "      <td>0.0</td>\n",
       "      <td>...</td>\n",
       "      <td>0.0</td>\n",
       "      <td>0.0</td>\n",
       "      <td>0.0</td>\n",
       "      <td>0.0</td>\n",
       "      <td>0.0</td>\n",
       "      <td>0.0</td>\n",
       "      <td>0.0</td>\n",
       "      <td>1.0</td>\n",
       "      <td>1.0</td>\n",
       "      <td>0.0</td>\n",
       "    </tr>\n",
       "    <tr>\n",
       "      <th>3</th>\n",
       "      <td>1.0</td>\n",
       "      <td>0.125</td>\n",
       "      <td>0.000000</td>\n",
       "      <td>0.0</td>\n",
       "      <td>0.0</td>\n",
       "      <td>0.0</td>\n",
       "      <td>0.0</td>\n",
       "      <td>0.0</td>\n",
       "      <td>0.0</td>\n",
       "      <td>0.0</td>\n",
       "      <td>...</td>\n",
       "      <td>0.0</td>\n",
       "      <td>0.0</td>\n",
       "      <td>0.0</td>\n",
       "      <td>0.0</td>\n",
       "      <td>1.0</td>\n",
       "      <td>1.0</td>\n",
       "      <td>0.0</td>\n",
       "      <td>0.0</td>\n",
       "      <td>1.0</td>\n",
       "      <td>0.0</td>\n",
       "    </tr>\n",
       "    <tr>\n",
       "      <th>4</th>\n",
       "      <td>0.0</td>\n",
       "      <td>0.000</td>\n",
       "      <td>0.000000</td>\n",
       "      <td>0.0</td>\n",
       "      <td>0.0</td>\n",
       "      <td>0.0</td>\n",
       "      <td>0.0</td>\n",
       "      <td>0.0</td>\n",
       "      <td>0.0</td>\n",
       "      <td>0.0</td>\n",
       "      <td>...</td>\n",
       "      <td>0.0</td>\n",
       "      <td>0.0</td>\n",
       "      <td>0.0</td>\n",
       "      <td>0.0</td>\n",
       "      <td>1.0</td>\n",
       "      <td>0.0</td>\n",
       "      <td>0.0</td>\n",
       "      <td>1.0</td>\n",
       "      <td>0.0</td>\n",
       "      <td>1.0</td>\n",
       "    </tr>\n",
       "    <tr>\n",
       "      <th>...</th>\n",
       "      <td>...</td>\n",
       "      <td>...</td>\n",
       "      <td>...</td>\n",
       "      <td>...</td>\n",
       "      <td>...</td>\n",
       "      <td>...</td>\n",
       "      <td>...</td>\n",
       "      <td>...</td>\n",
       "      <td>...</td>\n",
       "      <td>...</td>\n",
       "      <td>...</td>\n",
       "      <td>...</td>\n",
       "      <td>...</td>\n",
       "      <td>...</td>\n",
       "      <td>...</td>\n",
       "      <td>...</td>\n",
       "      <td>...</td>\n",
       "      <td>...</td>\n",
       "      <td>...</td>\n",
       "      <td>...</td>\n",
       "      <td>...</td>\n",
       "    </tr>\n",
       "    <tr>\n",
       "      <th>1294</th>\n",
       "      <td>NaN</td>\n",
       "      <td>0.000</td>\n",
       "      <td>0.000000</td>\n",
       "      <td>0.0</td>\n",
       "      <td>0.0</td>\n",
       "      <td>0.0</td>\n",
       "      <td>0.0</td>\n",
       "      <td>0.0</td>\n",
       "      <td>0.0</td>\n",
       "      <td>0.0</td>\n",
       "      <td>...</td>\n",
       "      <td>0.0</td>\n",
       "      <td>0.0</td>\n",
       "      <td>0.0</td>\n",
       "      <td>0.0</td>\n",
       "      <td>0.0</td>\n",
       "      <td>0.0</td>\n",
       "      <td>0.0</td>\n",
       "      <td>1.0</td>\n",
       "      <td>0.0</td>\n",
       "      <td>1.0</td>\n",
       "    </tr>\n",
       "    <tr>\n",
       "      <th>1295</th>\n",
       "      <td>NaN</td>\n",
       "      <td>0.000</td>\n",
       "      <td>0.000000</td>\n",
       "      <td>0.0</td>\n",
       "      <td>0.0</td>\n",
       "      <td>0.0</td>\n",
       "      <td>0.0</td>\n",
       "      <td>0.0</td>\n",
       "      <td>0.0</td>\n",
       "      <td>0.0</td>\n",
       "      <td>...</td>\n",
       "      <td>0.0</td>\n",
       "      <td>0.0</td>\n",
       "      <td>0.0</td>\n",
       "      <td>0.0</td>\n",
       "      <td>0.0</td>\n",
       "      <td>1.0</td>\n",
       "      <td>0.0</td>\n",
       "      <td>0.0</td>\n",
       "      <td>1.0</td>\n",
       "      <td>0.0</td>\n",
       "    </tr>\n",
       "    <tr>\n",
       "      <th>1296</th>\n",
       "      <td>NaN</td>\n",
       "      <td>0.000</td>\n",
       "      <td>0.000000</td>\n",
       "      <td>0.0</td>\n",
       "      <td>0.0</td>\n",
       "      <td>0.0</td>\n",
       "      <td>0.0</td>\n",
       "      <td>0.0</td>\n",
       "      <td>0.0</td>\n",
       "      <td>0.0</td>\n",
       "      <td>...</td>\n",
       "      <td>0.0</td>\n",
       "      <td>0.0</td>\n",
       "      <td>0.0</td>\n",
       "      <td>0.0</td>\n",
       "      <td>0.0</td>\n",
       "      <td>0.0</td>\n",
       "      <td>0.0</td>\n",
       "      <td>1.0</td>\n",
       "      <td>0.0</td>\n",
       "      <td>1.0</td>\n",
       "    </tr>\n",
       "    <tr>\n",
       "      <th>1297</th>\n",
       "      <td>NaN</td>\n",
       "      <td>0.000</td>\n",
       "      <td>0.000000</td>\n",
       "      <td>0.0</td>\n",
       "      <td>0.0</td>\n",
       "      <td>0.0</td>\n",
       "      <td>0.0</td>\n",
       "      <td>0.0</td>\n",
       "      <td>0.0</td>\n",
       "      <td>0.0</td>\n",
       "      <td>...</td>\n",
       "      <td>0.0</td>\n",
       "      <td>0.0</td>\n",
       "      <td>0.0</td>\n",
       "      <td>0.0</td>\n",
       "      <td>1.0</td>\n",
       "      <td>0.0</td>\n",
       "      <td>0.0</td>\n",
       "      <td>1.0</td>\n",
       "      <td>0.0</td>\n",
       "      <td>1.0</td>\n",
       "    </tr>\n",
       "    <tr>\n",
       "      <th>1298</th>\n",
       "      <td>NaN</td>\n",
       "      <td>0.125</td>\n",
       "      <td>0.111111</td>\n",
       "      <td>0.0</td>\n",
       "      <td>0.0</td>\n",
       "      <td>0.0</td>\n",
       "      <td>0.0</td>\n",
       "      <td>0.0</td>\n",
       "      <td>0.0</td>\n",
       "      <td>0.0</td>\n",
       "      <td>...</td>\n",
       "      <td>0.0</td>\n",
       "      <td>0.0</td>\n",
       "      <td>0.0</td>\n",
       "      <td>0.0</td>\n",
       "      <td>1.0</td>\n",
       "      <td>0.0</td>\n",
       "      <td>0.0</td>\n",
       "      <td>1.0</td>\n",
       "      <td>0.0</td>\n",
       "      <td>1.0</td>\n",
       "    </tr>\n",
       "  </tbody>\n",
       "</table>\n",
       "<p>1299 rows × 211 columns</p>\n",
       "</div>"
      ],
      "text/plain": [
       "      Survived  SibSp     Parch  Fare_class_10  Fare_class_11  Fare_class_22  \\\n",
       "0          0.0  0.125  0.000000            0.0            0.0            0.0   \n",
       "1          1.0  0.125  0.000000            0.0            0.0            0.0   \n",
       "2          1.0  0.000  0.000000            0.0            0.0            0.0   \n",
       "3          1.0  0.125  0.000000            0.0            0.0            0.0   \n",
       "4          0.0  0.000  0.000000            0.0            0.0            0.0   \n",
       "...        ...    ...       ...            ...            ...            ...   \n",
       "1294       NaN  0.000  0.000000            0.0            0.0            0.0   \n",
       "1295       NaN  0.000  0.000000            0.0            0.0            0.0   \n",
       "1296       NaN  0.000  0.000000            0.0            0.0            0.0   \n",
       "1297       NaN  0.000  0.000000            0.0            0.0            0.0   \n",
       "1298       NaN  0.125  0.111111            0.0            0.0            0.0   \n",
       "\n",
       "      Fare_class_30  Fare_class_33  Fare_class_35  Fare_class_41  ...  \\\n",
       "0               0.0            0.0            0.0            0.0  ...   \n",
       "1               0.0            0.0            0.0            0.0  ...   \n",
       "2               0.0            0.0            0.0            0.0  ...   \n",
       "3               0.0            0.0            0.0            0.0  ...   \n",
       "4               0.0            0.0            0.0            0.0  ...   \n",
       "...             ...            ...            ...            ...  ...   \n",
       "1294            0.0            0.0            0.0            0.0  ...   \n",
       "1295            0.0            0.0            0.0            0.0  ...   \n",
       "1296            0.0            0.0            0.0            0.0  ...   \n",
       "1297            0.0            0.0            0.0            0.0  ...   \n",
       "1298            0.0            0.0            0.0            0.0  ...   \n",
       "\n",
       "      T_STONOQ  T_SWPP  T_WC  T_WEP  T_x  Pclass_1  Pclass_2  Pclass_3  \\\n",
       "0          0.0     0.0   0.0    0.0  0.0       0.0       0.0       1.0   \n",
       "1          0.0     0.0   0.0    0.0  0.0       1.0       0.0       0.0   \n",
       "2          0.0     0.0   0.0    0.0  0.0       0.0       0.0       1.0   \n",
       "3          0.0     0.0   0.0    0.0  1.0       1.0       0.0       0.0   \n",
       "4          0.0     0.0   0.0    0.0  1.0       0.0       0.0       1.0   \n",
       "...        ...     ...   ...    ...  ...       ...       ...       ...   \n",
       "1294       0.0     0.0   0.0    0.0  0.0       0.0       0.0       1.0   \n",
       "1295       0.0     0.0   0.0    0.0  0.0       1.0       0.0       0.0   \n",
       "1296       0.0     0.0   0.0    0.0  0.0       0.0       0.0       1.0   \n",
       "1297       0.0     0.0   0.0    0.0  1.0       0.0       0.0       1.0   \n",
       "1298       0.0     0.0   0.0    0.0  1.0       0.0       0.0       1.0   \n",
       "\n",
       "      Sex_female  Sex_male  \n",
       "0            0.0       1.0  \n",
       "1            1.0       0.0  \n",
       "2            1.0       0.0  \n",
       "3            1.0       0.0  \n",
       "4            0.0       1.0  \n",
       "...          ...       ...  \n",
       "1294         0.0       1.0  \n",
       "1295         1.0       0.0  \n",
       "1296         0.0       1.0  \n",
       "1297         0.0       1.0  \n",
       "1298         0.0       1.0  \n",
       "\n",
       "[1299 rows x 211 columns]"
      ]
     },
     "execution_count": 107,
     "metadata": {},
     "output_type": "execute_result"
    }
   ],
   "source": [
    "train_df"
   ]
  },
  {
   "cell_type": "code",
   "execution_count": 108,
   "metadata": {
    "execution": {
     "iopub.execute_input": "2021-03-05T11:06:12.125872Z",
     "iopub.status.busy": "2021-03-05T11:06:12.125197Z",
     "iopub.status.idle": "2021-03-05T11:06:12.152944Z",
     "shell.execute_reply": "2021-03-05T11:06:12.152361Z"
    },
    "papermill": {
     "duration": 0.191434,
     "end_time": "2021-03-05T11:06:12.153055",
     "exception": false,
     "start_time": "2021-03-05T11:06:11.961621",
     "status": "completed"
    },
    "tags": []
   },
   "outputs": [
    {
     "name": "stdout",
     "output_type": "stream",
     "text": [
      "x_train:  704\n",
      "x_test:  177\n",
      "y_train:  704\n",
      "y_test:  177\n",
      "test:  418\n"
     ]
    }
   ],
   "source": [
    "train = train_df[:train_df_len]\n",
    "y_train = train['Survived']\n",
    "x_train = train.drop('Survived', axis=1)\n",
    "x_train,x_test,y_train,y_test = train_test_split(x_train,y_train,test_size=0.2, random_state=42)\n",
    "print('x_train: ',len(x_train))\n",
    "print('x_test: ',len(x_test))\n",
    "print('y_train: ',len(y_train))\n",
    "print('y_test: ',len(y_test))\n",
    "print('test: ',len(test))"
   ]
  },
  {
   "cell_type": "markdown",
   "metadata": {
    "papermill": {
     "duration": 0.159623,
     "end_time": "2021-03-05T11:06:12.471976",
     "exception": false,
     "start_time": "2021-03-05T11:06:12.312353",
     "status": "completed"
    },
    "tags": []
   },
   "source": [
    "<a id='31'></a>\n",
    "## Simple Logistic Regression"
   ]
  },
  {
   "cell_type": "code",
   "execution_count": 109,
   "metadata": {
    "execution": {
     "iopub.execute_input": "2021-03-05T11:06:12.806046Z",
     "iopub.status.busy": "2021-03-05T11:06:12.805291Z",
     "iopub.status.idle": "2021-03-05T11:06:12.850061Z",
     "shell.execute_reply": "2021-03-05T11:06:12.850881Z"
    },
    "papermill": {
     "duration": 0.217731,
     "end_time": "2021-03-05T11:06:12.851072",
     "exception": false,
     "start_time": "2021-03-05T11:06:12.633341",
     "status": "completed"
    },
    "tags": []
   },
   "outputs": [
    {
     "name": "stdout",
     "output_type": "stream",
     "text": [
      "Training accuracy: %88.21\n",
      "Testing accuracy: %85.88\n"
     ]
    }
   ],
   "source": [
    "log_reg = LogisticRegression()\n",
    "log_reg.fit(x_train,y_train)\n",
    "acc_logreg_train = round(log_reg.score(x_train,y_train)*100,2)\n",
    "acc_logreg_test = round(log_reg.score(x_test,y_test)*100,2)\n",
    "print('Training accuracy: %{}'.format(acc_logreg_train))\n",
    "print('Testing accuracy: %{}'.format(acc_logreg_test))"
   ]
  },
  {
   "cell_type": "markdown",
   "metadata": {
    "papermill": {
     "duration": 0.162172,
     "end_time": "2021-03-05T11:06:13.176388",
     "exception": false,
     "start_time": "2021-03-05T11:06:13.014216",
     "status": "completed"
    },
    "tags": []
   },
   "source": [
    "<a id='32'></a>\n",
    "## Hyperparameter Tuning - Grid Search - Cross Validation\n",
    "We will compare 5 ML classifiers and evaluate mean accuracy for each of them by stratified cross validation.\n",
    "\n",
    "* Decision Tree\n",
    "* SVM\n",
    "* Random Forest\n",
    "* KNN\n",
    "* Logistic Regression"
   ]
  },
  {
   "cell_type": "code",
   "execution_count": 110,
   "metadata": {
    "execution": {
     "iopub.execute_input": "2021-03-05T11:06:13.510549Z",
     "iopub.status.busy": "2021-03-05T11:06:13.509476Z",
     "iopub.status.idle": "2021-03-05T11:06:13.513094Z",
     "shell.execute_reply": "2021-03-05T11:06:13.512564Z"
    },
    "papermill": {
     "duration": 0.17622,
     "end_time": "2021-03-05T11:06:13.513219",
     "exception": false,
     "start_time": "2021-03-05T11:06:13.336999",
     "status": "completed"
    },
    "tags": []
   },
   "outputs": [],
   "source": [
    "random_state = 42\n",
    "\n",
    "model_list = [DecisionTreeClassifier(random_state = random_state),\n",
    "             SVC(random_state = random_state, probability=True),\n",
    "             RandomForestClassifier(random_state = random_state),\n",
    "             LogisticRegression(random_state = random_state),\n",
    "             KNeighborsClassifier()]\n",
    "\n",
    "dt_param_grid = {\"min_samples_split\" : range(10,500,20),\n",
    "                \"max_depth\": range(1,20,2)}\n",
    "\n",
    "svc_param_grid = {\"kernel\" : [\"rbf\"],\n",
    "                 \"gamma\": [0.001, 0.01, 0.1, 1],\n",
    "                 \"C\": [1,10,50,100,200,300,1000]}\n",
    "\n",
    "rf_param_grid = {\"max_features\": [1,3,10],\n",
    "                \"min_samples_split\":[2,3,10],\n",
    "                \"min_samples_leaf\":[1,3,10],\n",
    "                \"bootstrap\":[False],\n",
    "                \"n_estimators\":[100,300],\n",
    "                \"criterion\":[\"gini\"]}\n",
    "\n",
    "logreg_param_grid = {\"C\":np.logspace(-3,3,7),\n",
    "                    \"penalty\": [\"l1\",\"l2\"]}\n",
    "\n",
    "knn_param_grid = {\"n_neighbors\": np.linspace(1,19,10, dtype = int).tolist(),\n",
    "                 \"weights\": [\"uniform\",\"distance\"],\n",
    "                 \"metric\":[\"euclidean\",\"manhattan\"]}\n",
    "\n",
    "grid_list = [dt_param_grid, svc_param_grid, rf_param_grid, logreg_param_grid, knn_param_grid]"
   ]
  },
  {
   "cell_type": "code",
   "execution_count": 111,
   "metadata": {
    "execution": {
     "iopub.execute_input": "2021-03-05T11:06:13.844988Z",
     "iopub.status.busy": "2021-03-05T11:06:13.844226Z",
     "iopub.status.idle": "2021-03-05T11:08:41.621960Z",
     "shell.execute_reply": "2021-03-05T11:08:41.622526Z"
    },
    "papermill": {
     "duration": 147.948492,
     "end_time": "2021-03-05T11:08:41.622685",
     "exception": false,
     "start_time": "2021-03-05T11:06:13.674193",
     "status": "completed"
    },
    "tags": []
   },
   "outputs": [
    {
     "name": "stdout",
     "output_type": "stream",
     "text": [
      "Best scores:  [0.8587570621468926, 0.8587570621468926, 0.847457627118644, 0.8700564971751412, 0.807909604519774] \n",
      "\n"
     ]
    }
   ],
   "source": [
    "score_list = []\n",
    "best_estimators = []\n",
    "\n",
    "for i in range(5):\n",
    "    my_model = GridSearchCV(estimator=model_list[i], param_grid=grid_list[i], scoring='accuracy', n_jobs=-1, cv=StratifiedKFold(n_splits=10))\n",
    "    my_model.fit(x_train, y_train)\n",
    "    score_list.append(accuracy_score(my_model.best_estimator_.predict(x_test), y_test))\n",
    "    best_estimators.append(my_model.best_estimator_)\n",
    "\n",
    "print('Best scores: ', score_list, '\\n')"
   ]
  },
  {
   "cell_type": "code",
   "execution_count": 112,
   "metadata": {
    "execution": {
     "iopub.execute_input": "2021-03-05T11:08:41.970140Z",
     "iopub.status.busy": "2021-03-05T11:08:41.959833Z",
     "iopub.status.idle": "2021-03-05T11:08:42.102129Z",
     "shell.execute_reply": "2021-03-05T11:08:42.100898Z"
    },
    "papermill": {
     "duration": 0.317111,
     "end_time": "2021-03-05T11:08:42.102254",
     "exception": false,
     "start_time": "2021-03-05T11:08:41.785143",
     "status": "completed"
    },
    "tags": []
   },
   "outputs": [
    {
     "data": {
      "image/png": "[encoded data removed]",
      "text/plain": [
       "<Figure size 432x288 with 1 Axes>"
      ]
     },
     "metadata": {},
     "output_type": "display_data"
    },
    {
     "name": "stdout",
     "output_type": "stream",
     "text": [
      "[0.8587570621468926, 0.8587570621468926, 0.847457627118644, 0.8700564971751412, 0.807909604519774]\n"
     ]
    }
   ],
   "source": [
    "cv_results = pd.DataFrame({'Algorithms': ['DecisionTreeClassifier',\n",
    "             'SVC',\n",
    "             'RandomForestClassifier',\n",
    "             'LogisticRegression',\n",
    "             'KNeighborsClassifier'], 'Scores':score_list})\n",
    "\n",
    "sns.barplot(y='Algorithms', x='Scores', data=cv_results)\n",
    "plt.title('Algorithms and their scores')\n",
    "plt.show()\n",
    "print(score_list)"
   ]
  },
  {
   "cell_type": "markdown",
   "metadata": {
    "papermill": {
     "duration": 0.162783,
     "end_time": "2021-03-05T11:08:42.429664",
     "exception": false,
     "start_time": "2021-03-05T11:08:42.266881",
     "status": "completed"
    },
    "tags": []
   },
   "source": [
    "<a id='33'></a>\n",
    "## Ensemble Modelling"
   ]
  },
  {
   "cell_type": "code",
   "execution_count": 113,
   "metadata": {
    "execution": {
     "iopub.execute_input": "2021-03-05T11:08:42.767262Z",
     "iopub.status.busy": "2021-03-05T11:08:42.766179Z",
     "iopub.status.idle": "2021-03-05T11:08:43.277555Z",
     "shell.execute_reply": "2021-03-05T11:08:43.278045Z"
    },
    "papermill": {
     "duration": 0.684318,
     "end_time": "2021-03-05T11:08:43.278194",
     "exception": false,
     "start_time": "2021-03-05T11:08:42.593876",
     "status": "completed"
    },
    "tags": []
   },
   "outputs": [
    {
     "name": "stdout",
     "output_type": "stream",
     "text": [
      "Ensembled score:  0.8813559322033898\n"
     ]
    }
   ],
   "source": [
    "votingC = VotingClassifier([('RandomForest',best_estimators[2]),\n",
    "                           ('SVC',best_estimators[1]),\n",
    "                           ('Logistic',best_estimators[3])], voting='soft', n_jobs=-1)\n",
    "votingC.fit(x_train, y_train)\n",
    "print('Ensembled score: ', accuracy_score(votingC.predict(x_test),y_test))"
   ]
  },
  {
   "cell_type": "markdown",
   "metadata": {
    "papermill": {
     "duration": 0.162865,
     "end_time": "2021-03-05T11:08:43.605233",
     "exception": false,
     "start_time": "2021-03-05T11:08:43.442368",
     "status": "completed"
    },
    "tags": []
   },
   "source": [
    "<a id='34'></a>\n",
    "## Prediction and Submission"
   ]
  },
  {
   "cell_type": "code",
   "execution_count": 114,
   "metadata": {
    "execution": {
     "iopub.execute_input": "2021-03-05T11:08:43.936728Z",
     "iopub.status.busy": "2021-03-05T11:08:43.936012Z",
     "iopub.status.idle": "2021-03-05T11:08:44.310655Z",
     "shell.execute_reply": "2021-03-05T11:08:44.309120Z"
    },
    "papermill": {
     "duration": 0.541338,
     "end_time": "2021-03-05T11:08:44.310789",
     "exception": false,
     "start_time": "2021-03-05T11:08:43.769451",
     "status": "completed"
    },
    "tags": []
   },
   "outputs": [],
   "source": [
    "test_survived = pd.Series(votingC.predict(test), name='Survived').astype(int)\n",
    "results = pd.concat([test_PassengerId, test_survived], axis=1)\n",
    "results.to_csv('titanic.csv', index=False)"
   ]
  }
 ],
 "metadata": {
  "kernelspec": {
   "display_name": "Python 3",
   "language": "python",
   "name": "python3"
  },
  "language_info": {
   "codemirror_mode": {
    "name": "ipython",
    "version": 3
   },
   "file_extension": ".py",
   "mimetype": "text/x-python",
   "name": "python",
   "nbconvert_exporter": "python",
   "pygments_lexer": "ipython3",
   "version": "3.7.6"
  },
  "papermill": {
   "duration": 214.55791,
   "end_time": "2021-03-05T11:08:44.586747",
   "environment_variables": {},
   "exception": null,
   "input_path": "__notebook__.ipynb",
   "output_path": "__notebook__.ipynb",
   "parameters": {},
   "start_time": "2021-03-05T11:05:10.028837",
   "version": "2.1.0"
  }
 },
 "nbformat": 4,
 "nbformat_minor": 4
}
